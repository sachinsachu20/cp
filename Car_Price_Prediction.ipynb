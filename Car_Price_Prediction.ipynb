{
 "cells": [
  {
   "cell_type": "markdown",
   "metadata": {},
   "source": [
    "# Car Price Prediction project"
   ]
  },
  {
   "cell_type": "markdown",
   "metadata": {},
   "source": [
    "## Load of libraries"
   ]
  },
  {
   "cell_type": "code",
   "execution_count": 1,
   "metadata": {
    "execution": {
     "iopub.execute_input": "2023-05-07T14:24:04.031572Z",
     "iopub.status.busy": "2023-05-07T14:24:04.031204Z",
     "iopub.status.idle": "2023-05-07T14:24:04.045744Z",
     "shell.execute_reply": "2023-05-07T14:24:04.044398Z",
     "shell.execute_reply.started": "2023-05-07T14:24:04.031539Z"
    }
   },
   "outputs": [],
   "source": [
    "import pandas as pd\n",
    "import numpy as np\n",
    "import json\n",
    "import ast\n",
    "import re\n",
    "\n",
    "import matplotlib.pyplot as plt\n",
    "import seaborn as sns\n",
    "\n",
    "from sklearn.preprocessing import MinMaxScaler\n",
    "from sklearn.model_selection import train_test_split\n",
    "from sklearn.impute import SimpleImputer\n",
    "from sklearn.model_selection import cross_val_score, KFold\n",
    "from sklearn.preprocessing import StandardScaler\n",
    "from sklearn.pipeline import Pipeline\n",
    "from sklearn.model_selection import GridSearchCV\n",
    "\n",
    "from sklearn.linear_model import LinearRegression\n",
    "from sklearn.neighbors import KNeighborsRegressor\n",
    "from sklearn.ensemble import RandomForestRegressor\n",
    "from sklearn.ensemble import GradientBoostingRegressor\n",
    "from sklearn.tree import DecisionTreeRegressor\n",
    "\n",
    "from sklearn.metrics import mean_absolute_error, mean_squared_error, r2_score\n",
    "\n",
    "from sklearn.linear_model import Lasso\n",
    "from sklearn.linear_model import Ridge"
   ]
  },
  {
   "cell_type": "markdown",
   "metadata": {},
   "source": [
    "# 📜 About this dataset\n",
    "## Feature description\n",
    "### New Car Details\n",
    "+ **it**: Ignition type\n",
    "+ **ft**: Fuel type (e.g., Petrol)\n",
    "+ **bt**: Body type (e.g., Hatchback)\n",
    "+ **km**: Kilometers driven\n",
    "+ **transmission**: Transmission type (e.g., Manual)\n",
    "+ **ownerNo**: Number of previous owners\n",
    "+ **owner**: Ownership details\n",
    "+ **oem**: Original Equipment Manufacturer (e.g., Maruti)\n",
    "+ **model**: Car model (e.g., Maruti Celerio)\n",
    "+ **modelYear**: Year of car manufacture\n",
    "+ **centralVariantId**: Central variant ID\n",
    "+ **variantName**: Variant name\n",
    "+ **price**: Price of the used car.\n",
    "+ **priceActual**: Actual price (if available)\n",
    "+ **priceSaving**: Price saving information (if available).\n",
    "+ **priceFixedText**: Fixed price details.\n",
    "+ **trendingText**: Trending car information.\n",
    "### Car Overview\n",
    "+ **heading**: Car overview heading.\n",
    "+ **top**: Top details, including keys like registration year, insurance validity, fuel type, etc.\n",
    "+ **bottomData**: Additional bottom data (currently not available).\n",
    "### New Car Feature\n",
    "+ **heading**: Features heading.\n",
    "+ **top**: Top features.\n",
    "+ **data**: Detailed feature information categorized by comfort, interior, exterior, safety, etc.\n",
    "### New Car Specs\n",
    "+ **heading**: Specifications heading.\n",
    "+ **top**: Top specifications like mileage, engine, max power, torque, etc.\n",
    "+ **data**: Detailed engine and transmission information, dimensions, capacity, and miscellaneous details."
   ]
  },
  {
   "cell_type": "markdown",
   "metadata": {
    "execution": {
     "iopub.execute_input": "2023-05-07T14:24:04.050307Z",
     "iopub.status.busy": "2023-05-07T14:24:04.047859Z",
     "iopub.status.idle": "2023-05-07T14:24:04.096323Z",
     "shell.execute_reply": "2023-05-07T14:24:04.095060Z",
     "shell.execute_reply.started": "2023-05-07T14:24:04.050239Z"
    }
   },
   "source": [
    "# Data Processing\n",
    "### Convert unstructured data  into a structured format\n",
    "### Chennai_Cars_dataset"
   ]
  },
  {
   "cell_type": "code",
   "execution_count": 2,
   "metadata": {},
   "outputs": [
    {
     "data": {
      "text/html": [
       "<div>\n",
       "<style scoped>\n",
       "    .dataframe tbody tr th:only-of-type {\n",
       "        vertical-align: middle;\n",
       "    }\n",
       "\n",
       "    .dataframe tbody tr th {\n",
       "        vertical-align: top;\n",
       "    }\n",
       "\n",
       "    .dataframe thead th {\n",
       "        text-align: right;\n",
       "    }\n",
       "</style>\n",
       "<table border=\"1\" class=\"dataframe\">\n",
       "  <thead>\n",
       "    <tr style=\"text-align: right;\">\n",
       "      <th></th>\n",
       "      <th>new_car_detail</th>\n",
       "      <th>new_car_overview</th>\n",
       "      <th>new_car_feature</th>\n",
       "      <th>new_car_specs</th>\n",
       "      <th>car_links</th>\n",
       "    </tr>\n",
       "  </thead>\n",
       "  <tbody>\n",
       "    <tr>\n",
       "      <th>0</th>\n",
       "      <td>{'it': 0, 'ft': 'Petrol', 'bt': 'SUV', 'km': '...</td>\n",
       "      <td>{'heading': 'Car overview', 'top': [{'key': 'R...</td>\n",
       "      <td>{'heading': 'Features', 'top': [{'value': 'Pow...</td>\n",
       "      <td>{'heading': 'Specifications', 'top': [{'key': ...</td>\n",
       "      <td>https://www.cardekho.com/used-car-details/used...</td>\n",
       "    </tr>\n",
       "    <tr>\n",
       "      <th>1</th>\n",
       "      <td>{'it': 0, 'ft': 'Petrol', 'bt': 'Minivans', 'k...</td>\n",
       "      <td>{'heading': 'Car overview', 'top': [{'key': 'R...</td>\n",
       "      <td>{'heading': 'Features', 'top': [{'value': 'Low...</td>\n",
       "      <td>{'heading': 'Specifications', 'top': [{'key': ...</td>\n",
       "      <td>https://www.cardekho.com/buy-used-car-details/...</td>\n",
       "    </tr>\n",
       "    <tr>\n",
       "      <th>2</th>\n",
       "      <td>{'it': 0, 'ft': 'Petrol', 'bt': 'SUV', 'km': '...</td>\n",
       "      <td>{'heading': 'Car overview', 'top': [{'key': 'R...</td>\n",
       "      <td>{'heading': 'Features', 'top': [{'value': 'Pow...</td>\n",
       "      <td>{'heading': 'Specifications', 'top': [{'key': ...</td>\n",
       "      <td>https://www.cardekho.com/used-car-details/used...</td>\n",
       "    </tr>\n",
       "    <tr>\n",
       "      <th>3</th>\n",
       "      <td>{'it': 0, 'ft': 'Petrol', 'bt': 'Hatchback', '...</td>\n",
       "      <td>{'heading': 'Car overview', 'top': [{'key': 'R...</td>\n",
       "      <td>{'heading': 'Features', 'top': [{'value': 'Pow...</td>\n",
       "      <td>{'heading': 'Specifications', 'top': [{'key': ...</td>\n",
       "      <td>https://www.cardekho.com/buy-used-car-details/...</td>\n",
       "    </tr>\n",
       "    <tr>\n",
       "      <th>4</th>\n",
       "      <td>{'it': 0, 'ft': 'Petrol', 'bt': 'Hatchback', '...</td>\n",
       "      <td>{'heading': 'Car overview', 'top': [{'key': 'R...</td>\n",
       "      <td>{'heading': 'Features', 'top': [{'value': 'Pow...</td>\n",
       "      <td>{'heading': 'Specifications', 'top': [{'key': ...</td>\n",
       "      <td>https://www.cardekho.com/used-car-details/used...</td>\n",
       "    </tr>\n",
       "    <tr>\n",
       "      <th>...</th>\n",
       "      <td>...</td>\n",
       "      <td>...</td>\n",
       "      <td>...</td>\n",
       "      <td>...</td>\n",
       "      <td>...</td>\n",
       "    </tr>\n",
       "    <tr>\n",
       "      <th>1414</th>\n",
       "      <td>{'it': 0, 'ft': 'Petrol', 'bt': 'Hatchback', '...</td>\n",
       "      <td>{'heading': 'Car overview', 'top': [{'key': 'R...</td>\n",
       "      <td>{'heading': 'Features', 'top': [{'value': 'Pow...</td>\n",
       "      <td>{'heading': 'Specifications', 'top': [{'key': ...</td>\n",
       "      <td>https://www.cardekho.com/used-car-details/used...</td>\n",
       "    </tr>\n",
       "    <tr>\n",
       "      <th>1415</th>\n",
       "      <td>{'it': 0, 'ft': 'Diesel', 'bt': 'SUV', 'km': '...</td>\n",
       "      <td>{'heading': 'Car overview', 'top': [{'key': 'R...</td>\n",
       "      <td>{'heading': 'Features', 'top': [{'value': 'Pow...</td>\n",
       "      <td>{'heading': 'Specifications', 'top': [{'key': ...</td>\n",
       "      <td>https://www.cardekho.com/used-car-details/used...</td>\n",
       "    </tr>\n",
       "    <tr>\n",
       "      <th>1416</th>\n",
       "      <td>{'it': 0, 'ft': 'Petrol', 'bt': 'SUV', 'km': '...</td>\n",
       "      <td>{'heading': 'Car overview', 'top': [{'key': 'R...</td>\n",
       "      <td>{'heading': 'Features', 'top': [{'value': 'Pow...</td>\n",
       "      <td>{'heading': 'Specifications', 'top': [{'key': ...</td>\n",
       "      <td>https://www.cardekho.com/used-car-details/used...</td>\n",
       "    </tr>\n",
       "    <tr>\n",
       "      <th>1417</th>\n",
       "      <td>{'it': 0, 'ft': 'Diesel', 'bt': 'SUV', 'km': '...</td>\n",
       "      <td>{'heading': 'Car overview', 'top': [{'key': 'R...</td>\n",
       "      <td>{'heading': 'Features', 'top': [{'value': 'Pow...</td>\n",
       "      <td>{'heading': 'Specifications', 'top': [{'key': ...</td>\n",
       "      <td>https://www.cardekho.com/used-car-details/used...</td>\n",
       "    </tr>\n",
       "    <tr>\n",
       "      <th>1418</th>\n",
       "      <td>{'it': 0, 'ft': 'Diesel', 'bt': 'Sedan', 'km':...</td>\n",
       "      <td>{'heading': 'Car overview', 'top': [{'key': 'R...</td>\n",
       "      <td>{'heading': 'Features', 'top': [{'value': 'Pow...</td>\n",
       "      <td>{'heading': 'Specifications', 'top': [{'key': ...</td>\n",
       "      <td>https://www.cardekho.com/used-car-details/used...</td>\n",
       "    </tr>\n",
       "  </tbody>\n",
       "</table>\n",
       "<p>1419 rows × 5 columns</p>\n",
       "</div>"
      ],
      "text/plain": [
       "                                         new_car_detail  \\\n",
       "0     {'it': 0, 'ft': 'Petrol', 'bt': 'SUV', 'km': '...   \n",
       "1     {'it': 0, 'ft': 'Petrol', 'bt': 'Minivans', 'k...   \n",
       "2     {'it': 0, 'ft': 'Petrol', 'bt': 'SUV', 'km': '...   \n",
       "3     {'it': 0, 'ft': 'Petrol', 'bt': 'Hatchback', '...   \n",
       "4     {'it': 0, 'ft': 'Petrol', 'bt': 'Hatchback', '...   \n",
       "...                                                 ...   \n",
       "1414  {'it': 0, 'ft': 'Petrol', 'bt': 'Hatchback', '...   \n",
       "1415  {'it': 0, 'ft': 'Diesel', 'bt': 'SUV', 'km': '...   \n",
       "1416  {'it': 0, 'ft': 'Petrol', 'bt': 'SUV', 'km': '...   \n",
       "1417  {'it': 0, 'ft': 'Diesel', 'bt': 'SUV', 'km': '...   \n",
       "1418  {'it': 0, 'ft': 'Diesel', 'bt': 'Sedan', 'km':...   \n",
       "\n",
       "                                       new_car_overview  \\\n",
       "0     {'heading': 'Car overview', 'top': [{'key': 'R...   \n",
       "1     {'heading': 'Car overview', 'top': [{'key': 'R...   \n",
       "2     {'heading': 'Car overview', 'top': [{'key': 'R...   \n",
       "3     {'heading': 'Car overview', 'top': [{'key': 'R...   \n",
       "4     {'heading': 'Car overview', 'top': [{'key': 'R...   \n",
       "...                                                 ...   \n",
       "1414  {'heading': 'Car overview', 'top': [{'key': 'R...   \n",
       "1415  {'heading': 'Car overview', 'top': [{'key': 'R...   \n",
       "1416  {'heading': 'Car overview', 'top': [{'key': 'R...   \n",
       "1417  {'heading': 'Car overview', 'top': [{'key': 'R...   \n",
       "1418  {'heading': 'Car overview', 'top': [{'key': 'R...   \n",
       "\n",
       "                                        new_car_feature  \\\n",
       "0     {'heading': 'Features', 'top': [{'value': 'Pow...   \n",
       "1     {'heading': 'Features', 'top': [{'value': 'Low...   \n",
       "2     {'heading': 'Features', 'top': [{'value': 'Pow...   \n",
       "3     {'heading': 'Features', 'top': [{'value': 'Pow...   \n",
       "4     {'heading': 'Features', 'top': [{'value': 'Pow...   \n",
       "...                                                 ...   \n",
       "1414  {'heading': 'Features', 'top': [{'value': 'Pow...   \n",
       "1415  {'heading': 'Features', 'top': [{'value': 'Pow...   \n",
       "1416  {'heading': 'Features', 'top': [{'value': 'Pow...   \n",
       "1417  {'heading': 'Features', 'top': [{'value': 'Pow...   \n",
       "1418  {'heading': 'Features', 'top': [{'value': 'Pow...   \n",
       "\n",
       "                                          new_car_specs  \\\n",
       "0     {'heading': 'Specifications', 'top': [{'key': ...   \n",
       "1     {'heading': 'Specifications', 'top': [{'key': ...   \n",
       "2     {'heading': 'Specifications', 'top': [{'key': ...   \n",
       "3     {'heading': 'Specifications', 'top': [{'key': ...   \n",
       "4     {'heading': 'Specifications', 'top': [{'key': ...   \n",
       "...                                                 ...   \n",
       "1414  {'heading': 'Specifications', 'top': [{'key': ...   \n",
       "1415  {'heading': 'Specifications', 'top': [{'key': ...   \n",
       "1416  {'heading': 'Specifications', 'top': [{'key': ...   \n",
       "1417  {'heading': 'Specifications', 'top': [{'key': ...   \n",
       "1418  {'heading': 'Specifications', 'top': [{'key': ...   \n",
       "\n",
       "                                              car_links  \n",
       "0     https://www.cardekho.com/used-car-details/used...  \n",
       "1     https://www.cardekho.com/buy-used-car-details/...  \n",
       "2     https://www.cardekho.com/used-car-details/used...  \n",
       "3     https://www.cardekho.com/buy-used-car-details/...  \n",
       "4     https://www.cardekho.com/used-car-details/used...  \n",
       "...                                                 ...  \n",
       "1414  https://www.cardekho.com/used-car-details/used...  \n",
       "1415  https://www.cardekho.com/used-car-details/used...  \n",
       "1416  https://www.cardekho.com/used-car-details/used...  \n",
       "1417  https://www.cardekho.com/used-car-details/used...  \n",
       "1418  https://www.cardekho.com/used-car-details/used...  \n",
       "\n",
       "[1419 rows x 5 columns]"
      ]
     },
     "execution_count": 2,
     "metadata": {},
     "output_type": "execute_result"
    }
   ],
   "source": [
    "df = pd.read_excel(r'D:\\Education\\Project\\Sachin\\Car price prediction\\Data set\\Unstructured data\\chennai_cars.xlsx')\n",
    "df"
   ]
  },
  {
   "cell_type": "markdown",
   "metadata": {},
   "source": [
    "**new_car_detail column**"
   ]
  },
  {
   "cell_type": "markdown",
   "metadata": {},
   "source": [
    "**convert a nested dictionary into a flat dictionary using flatten_dict function **"
   ]
  },
  {
   "cell_type": "code",
   "execution_count": 3,
   "metadata": {},
   "outputs": [],
   "source": [
    "def flatten_dict(d):\n",
    "\n",
    "    flat_dict = {}\n",
    "    for key, value in d.items():\n",
    "        if isinstance(value, dict):\n",
    "            for sub_key, sub_value in flatten_dict(value).items():\n",
    "                flat_dict[f\"{key}_{sub_key}\"] = sub_value\n",
    "        else:\n",
    "            flat_dict[key] = value\n",
    "    return flat_dict"
   ]
  },
  {
   "cell_type": "code",
   "execution_count": 4,
   "metadata": {},
   "outputs": [],
   "source": [
    "columns_to_flatten = ['new_car_detail']"
   ]
  },
  {
   "cell_type": "code",
   "execution_count": 5,
   "metadata": {},
   "outputs": [],
   "source": [
    "for col in columns_to_flatten:\n",
    "    if col in df.columns:\n",
    "        # Convert rows from JSON-like to dictionary for each column\n",
    "        flattened_column = pd.DataFrame([flatten_dict(eval(row)) for row in df[col].dropna()])\n",
    "\n",
    "        # Rename columns to prevent conflict\n",
    "        flattened_column.columns = [f\"{c}\" for c in flattened_column.columns]\n",
    "\n",
    "        # Concatenate flattened data with original dataframe\n",
    "        df = pd.concat([df, flattened_column], axis=1)\n",
    "        \n",
    "# Drop the original JSON-like columns as they are now expanded\n",
    "new_car_detail = df.drop(columns=columns_to_flatten)"
   ]
  },
  {
   "cell_type": "markdown",
   "metadata": {},
   "source": [
    "**new_car_overview column**"
   ]
  },
  {
   "cell_type": "markdown",
   "metadata": {},
   "source": [
    "**Take key as a column name & value as a its value **"
   ]
  },
  {
   "cell_type": "code",
   "execution_count": 6,
   "metadata": {
    "execution": {
     "iopub.execute_input": "2023-05-07T14:24:04.098568Z",
     "iopub.status.busy": "2023-05-07T14:24:04.098223Z",
     "iopub.status.idle": "2023-05-07T14:24:04.106309Z",
     "shell.execute_reply": "2023-05-07T14:24:04.105031Z",
     "shell.execute_reply.started": "2023-05-07T14:24:04.098535Z"
    }
   },
   "outputs": [],
   "source": [
    "def extract_key_value_safe(data):\n",
    "    try:\n",
    "        data_dict = ast.literal_eval(data)\n",
    "        \n",
    "        key_value_dict = {}\n",
    "        for item in data_dict.get('top', []):\n",
    "            key = item.get('key', '') \n",
    "            value = item.get('value', '')  \n",
    "            if key:\n",
    "                key_value_dict[key] = value\n",
    "        \n",
    "        return key_value_dict\n",
    "    \n",
    "    except (ValueError, SyntaxError):\n",
    "        \n",
    "        return {}"
   ]
  },
  {
   "cell_type": "code",
   "execution_count": 7,
   "metadata": {},
   "outputs": [],
   "source": [
    "df_overview = new_car_detail['new_car_overview'].apply(extract_key_value_safe).apply(pd.Series)"
   ]
  },
  {
   "cell_type": "code",
   "execution_count": 8,
   "metadata": {
    "execution": {
     "iopub.execute_input": "2023-05-07T14:24:04.110690Z",
     "iopub.status.busy": "2023-05-07T14:24:04.110181Z",
     "iopub.status.idle": "2023-05-07T14:24:04.150487Z",
     "shell.execute_reply": "2023-05-07T14:24:04.149171Z",
     "shell.execute_reply.started": "2023-05-07T14:24:04.110628Z"
    }
   },
   "outputs": [],
   "source": [
    "new_car_overview = pd.concat([df_overview, new_car_detail], axis=1)"
   ]
  },
  {
   "cell_type": "markdown",
   "metadata": {},
   "source": [
    "**new_car_specs column**"
   ]
  },
  {
   "cell_type": "markdown",
   "metadata": {},
   "source": [
    "**Take key as a column name & value as a its value in different section . **\n"
   ]
  },
  {
   "cell_type": "code",
   "execution_count": 9,
   "metadata": {},
   "outputs": [],
   "source": [
    "def parse_column(data_column):\n",
    "    return data_column.apply(lambda x: ast.literal_eval(x) if isinstance(x, str) else {})"
   ]
  },
  {
   "cell_type": "code",
   "execution_count": 10,
   "metadata": {},
   "outputs": [],
   "source": [
    "df['new_car_specs'] = parse_column(df['new_car_specs'])"
   ]
  },
  {
   "cell_type": "code",
   "execution_count": 11,
   "metadata": {},
   "outputs": [],
   "source": [
    "def extract_specs(row):\n",
    "    specs = {}\n",
    "    \n",
    "    if 'top' in row:\n",
    "        for item in row['top']:\n",
    "            key = item.get('key', '').strip() if isinstance(item.get('key'), str) else item.get('key', '')\n",
    "            value = item.get('value', '').strip() if isinstance(item.get('value'), str) else item.get('value', '')\n",
    "            specs[key] = value\n",
    "    \n",
    "    if 'data' in row:\n",
    "        for section in row['data']:\n",
    "            for item in section.get('list', []):\n",
    "                key = item.get('key', '').strip() if isinstance(item.get('key'), str) else item.get('key', '')\n",
    "                value = item.get('value', '').strip() if isinstance(item.get('value'), str) else item.get('value', '')\n",
    "                specs[key] = value\n",
    "    \n",
    "    return specs"
   ]
  },
  {
   "cell_type": "code",
   "execution_count": 12,
   "metadata": {},
   "outputs": [],
   "source": [
    "df_specs = df['new_car_specs'].apply(extract_specs).apply(pd.Series, dtype='object')"
   ]
  },
  {
   "cell_type": "code",
   "execution_count": 13,
   "metadata": {},
   "outputs": [],
   "source": [
    "new_car_specs = pd.concat([new_car_overview, df_specs], axis=1)"
   ]
  },
  {
   "cell_type": "markdown",
   "metadata": {},
   "source": [
    "**new_car_feature column**"
   ]
  },
  {
   "cell_type": "markdown",
   "metadata": {},
   "source": [
    "**Count the values and stored in that heading . **\n"
   ]
  },
  {
   "cell_type": "code",
   "execution_count": 14,
   "metadata": {},
   "outputs": [],
   "source": [
    "def parse_column(data_column):\n",
    "    return data_column.apply(lambda x: ast.literal_eval(x) if isinstance(x, str) else {})"
   ]
  },
  {
   "cell_type": "code",
   "execution_count": 15,
   "metadata": {},
   "outputs": [],
   "source": [
    "df['new_car_feature'] = parse_column(df['new_car_feature'])"
   ]
  },
  {
   "cell_type": "code",
   "execution_count": 16,
   "metadata": {},
   "outputs": [],
   "source": [
    "def count_features_top(row):\n",
    "    if 'top' in row:\n",
    "        return len(row['top'])  # Count the number of features\n",
    "    return 0"
   ]
  },
  {
   "cell_type": "code",
   "execution_count": 17,
   "metadata": {},
   "outputs": [],
   "source": [
    "def count_features_data(row):\n",
    "    counts = {}\n",
    "    if 'data' in row:\n",
    "        for category in row['data']:\n",
    "            heading = category.get('heading', '').strip()  \n",
    "            feature_list = category.get('list', [])  \n",
    "            counts[heading] = len(feature_list) \n",
    "    return counts"
   ]
  },
  {
   "cell_type": "code",
   "execution_count": 18,
   "metadata": {},
   "outputs": [],
   "source": [
    "df['features'] = df['new_car_feature'].apply(count_features_top)"
   ]
  },
  {
   "cell_type": "code",
   "execution_count": 19,
   "metadata": {},
   "outputs": [
    {
     "name": "stderr",
     "output_type": "stream",
     "text": [
      "C:\\Users\\Theri Jeeva\\AppData\\Local\\Temp\\ipykernel_24976\\3915894312.py:1: FutureWarning: The default dtype for empty Series will be 'object' instead of 'float64' in a future version. Specify a dtype explicitly to silence this warning.\n",
      "  feature_counts_df = df['new_car_feature'].apply(count_features_data).apply(pd.Series).fillna(0)\n",
      "C:\\Users\\Theri Jeeva\\AppData\\Local\\Temp\\ipykernel_24976\\3915894312.py:1: FutureWarning: The default dtype for empty Series will be 'object' instead of 'float64' in a future version. Specify a dtype explicitly to silence this warning.\n",
      "  feature_counts_df = df['new_car_feature'].apply(count_features_data).apply(pd.Series).fillna(0)\n",
      "C:\\Users\\Theri Jeeva\\AppData\\Local\\Temp\\ipykernel_24976\\3915894312.py:1: FutureWarning: The default dtype for empty Series will be 'object' instead of 'float64' in a future version. Specify a dtype explicitly to silence this warning.\n",
      "  feature_counts_df = df['new_car_feature'].apply(count_features_data).apply(pd.Series).fillna(0)\n",
      "C:\\Users\\Theri Jeeva\\AppData\\Local\\Temp\\ipykernel_24976\\3915894312.py:1: FutureWarning: The default dtype for empty Series will be 'object' instead of 'float64' in a future version. Specify a dtype explicitly to silence this warning.\n",
      "  feature_counts_df = df['new_car_feature'].apply(count_features_data).apply(pd.Series).fillna(0)\n",
      "C:\\Users\\Theri Jeeva\\AppData\\Local\\Temp\\ipykernel_24976\\3915894312.py:1: FutureWarning: The default dtype for empty Series will be 'object' instead of 'float64' in a future version. Specify a dtype explicitly to silence this warning.\n",
      "  feature_counts_df = df['new_car_feature'].apply(count_features_data).apply(pd.Series).fillna(0)\n",
      "C:\\Users\\Theri Jeeva\\AppData\\Local\\Temp\\ipykernel_24976\\3915894312.py:1: FutureWarning: The default dtype for empty Series will be 'object' instead of 'float64' in a future version. Specify a dtype explicitly to silence this warning.\n",
      "  feature_counts_df = df['new_car_feature'].apply(count_features_data).apply(pd.Series).fillna(0)\n",
      "C:\\Users\\Theri Jeeva\\AppData\\Local\\Temp\\ipykernel_24976\\3915894312.py:1: FutureWarning: The default dtype for empty Series will be 'object' instead of 'float64' in a future version. Specify a dtype explicitly to silence this warning.\n",
      "  feature_counts_df = df['new_car_feature'].apply(count_features_data).apply(pd.Series).fillna(0)\n",
      "C:\\Users\\Theri Jeeva\\AppData\\Local\\Temp\\ipykernel_24976\\3915894312.py:1: FutureWarning: The default dtype for empty Series will be 'object' instead of 'float64' in a future version. Specify a dtype explicitly to silence this warning.\n",
      "  feature_counts_df = df['new_car_feature'].apply(count_features_data).apply(pd.Series).fillna(0)\n",
      "C:\\Users\\Theri Jeeva\\AppData\\Local\\Temp\\ipykernel_24976\\3915894312.py:1: FutureWarning: The default dtype for empty Series will be 'object' instead of 'float64' in a future version. Specify a dtype explicitly to silence this warning.\n",
      "  feature_counts_df = df['new_car_feature'].apply(count_features_data).apply(pd.Series).fillna(0)\n",
      "C:\\Users\\Theri Jeeva\\AppData\\Local\\Temp\\ipykernel_24976\\3915894312.py:1: FutureWarning: The default dtype for empty Series will be 'object' instead of 'float64' in a future version. Specify a dtype explicitly to silence this warning.\n",
      "  feature_counts_df = df['new_car_feature'].apply(count_features_data).apply(pd.Series).fillna(0)\n",
      "C:\\Users\\Theri Jeeva\\AppData\\Local\\Temp\\ipykernel_24976\\3915894312.py:1: FutureWarning: The default dtype for empty Series will be 'object' instead of 'float64' in a future version. Specify a dtype explicitly to silence this warning.\n",
      "  feature_counts_df = df['new_car_feature'].apply(count_features_data).apply(pd.Series).fillna(0)\n",
      "C:\\Users\\Theri Jeeva\\AppData\\Local\\Temp\\ipykernel_24976\\3915894312.py:1: FutureWarning: The default dtype for empty Series will be 'object' instead of 'float64' in a future version. Specify a dtype explicitly to silence this warning.\n",
      "  feature_counts_df = df['new_car_feature'].apply(count_features_data).apply(pd.Series).fillna(0)\n",
      "C:\\Users\\Theri Jeeva\\AppData\\Local\\Temp\\ipykernel_24976\\3915894312.py:1: FutureWarning: The default dtype for empty Series will be 'object' instead of 'float64' in a future version. Specify a dtype explicitly to silence this warning.\n",
      "  feature_counts_df = df['new_car_feature'].apply(count_features_data).apply(pd.Series).fillna(0)\n",
      "C:\\Users\\Theri Jeeva\\AppData\\Local\\Temp\\ipykernel_24976\\3915894312.py:1: FutureWarning: The default dtype for empty Series will be 'object' instead of 'float64' in a future version. Specify a dtype explicitly to silence this warning.\n",
      "  feature_counts_df = df['new_car_feature'].apply(count_features_data).apply(pd.Series).fillna(0)\n",
      "C:\\Users\\Theri Jeeva\\AppData\\Local\\Temp\\ipykernel_24976\\3915894312.py:1: FutureWarning: The default dtype for empty Series will be 'object' instead of 'float64' in a future version. Specify a dtype explicitly to silence this warning.\n",
      "  feature_counts_df = df['new_car_feature'].apply(count_features_data).apply(pd.Series).fillna(0)\n",
      "C:\\Users\\Theri Jeeva\\AppData\\Local\\Temp\\ipykernel_24976\\3915894312.py:1: FutureWarning: The default dtype for empty Series will be 'object' instead of 'float64' in a future version. Specify a dtype explicitly to silence this warning.\n",
      "  feature_counts_df = df['new_car_feature'].apply(count_features_data).apply(pd.Series).fillna(0)\n",
      "C:\\Users\\Theri Jeeva\\AppData\\Local\\Temp\\ipykernel_24976\\3915894312.py:1: FutureWarning: The default dtype for empty Series will be 'object' instead of 'float64' in a future version. Specify a dtype explicitly to silence this warning.\n",
      "  feature_counts_df = df['new_car_feature'].apply(count_features_data).apply(pd.Series).fillna(0)\n"
     ]
    }
   ],
   "source": [
    "feature_counts_df = df['new_car_feature'].apply(count_features_data).apply(pd.Series).fillna(0)\n",
    "feature_counts_df = feature_counts_df.astype(int)"
   ]
  },
  {
   "cell_type": "code",
   "execution_count": 20,
   "metadata": {},
   "outputs": [],
   "source": [
    "new_car_features = pd.concat([new_car_specs, feature_counts_df], axis=1)"
   ]
  },
  {
   "cell_type": "markdown",
   "metadata": {},
   "source": [
    "**Add new column for city . **\n"
   ]
  },
  {
   "cell_type": "code",
   "execution_count": 21,
   "metadata": {},
   "outputs": [],
   "source": [
    "new_car_features['City'] = 'Chennai'"
   ]
  },
  {
   "cell_type": "code",
   "execution_count": 22,
   "metadata": {},
   "outputs": [],
   "source": [
    " chennai = new_car_features.drop(columns = [ 'new_car_overview', 'new_car_feature', 'new_car_specs', 'car_links'])"
   ]
  },
  {
   "cell_type": "code",
   "execution_count": 23,
   "metadata": {},
   "outputs": [],
   "source": [
    "chennai.to_csv(r'D:\\Education\\Project\\Sachin\\Car price prediction\\Data set\\Structured data\\chennai_cars.csv', index=False)"
   ]
  },
  {
   "cell_type": "markdown",
   "metadata": {},
   "source": [
    "****\n",
    "### Bangalore_Cars_dataset"
   ]
  },
  {
   "cell_type": "code",
   "execution_count": 24,
   "metadata": {},
   "outputs": [
    {
     "data": {
      "text/html": [
       "<div>\n",
       "<style scoped>\n",
       "    .dataframe tbody tr th:only-of-type {\n",
       "        vertical-align: middle;\n",
       "    }\n",
       "\n",
       "    .dataframe tbody tr th {\n",
       "        vertical-align: top;\n",
       "    }\n",
       "\n",
       "    .dataframe thead th {\n",
       "        text-align: right;\n",
       "    }\n",
       "</style>\n",
       "<table border=\"1\" class=\"dataframe\">\n",
       "  <thead>\n",
       "    <tr style=\"text-align: right;\">\n",
       "      <th></th>\n",
       "      <th>new_car_detail</th>\n",
       "      <th>new_car_overview</th>\n",
       "      <th>new_car_feature</th>\n",
       "      <th>new_car_specs</th>\n",
       "      <th>car_links</th>\n",
       "    </tr>\n",
       "  </thead>\n",
       "  <tbody>\n",
       "    <tr>\n",
       "      <th>0</th>\n",
       "      <td>{'it': 0, 'ft': 'Petrol', 'bt': 'Hatchback', '...</td>\n",
       "      <td>{'heading': 'Car overview', 'top': [{'key': 'R...</td>\n",
       "      <td>{'heading': 'Features', 'top': [{'value': 'Pow...</td>\n",
       "      <td>{'heading': 'Specifications', 'top': [{'key': ...</td>\n",
       "      <td>https://www.cardekho.com/used-car-details/used...</td>\n",
       "    </tr>\n",
       "    <tr>\n",
       "      <th>1</th>\n",
       "      <td>{'it': 0, 'ft': 'Petrol', 'bt': 'SUV', 'km': '...</td>\n",
       "      <td>{'heading': 'Car overview', 'top': [{'key': 'R...</td>\n",
       "      <td>{'heading': 'Features', 'top': [{'value': 'Pow...</td>\n",
       "      <td>{'heading': 'Specifications', 'top': [{'key': ...</td>\n",
       "      <td>https://www.cardekho.com/buy-used-car-details/...</td>\n",
       "    </tr>\n",
       "    <tr>\n",
       "      <th>2</th>\n",
       "      <td>{'it': 0, 'ft': 'Petrol', 'bt': 'Hatchback', '...</td>\n",
       "      <td>{'heading': 'Car overview', 'top': [{'key': 'R...</td>\n",
       "      <td>{'heading': 'Features', 'top': [{'value': 'Pow...</td>\n",
       "      <td>{'heading': 'Specifications', 'top': [{'key': ...</td>\n",
       "      <td>https://www.cardekho.com/used-car-details/used...</td>\n",
       "    </tr>\n",
       "    <tr>\n",
       "      <th>3</th>\n",
       "      <td>{'it': 0, 'ft': 'Petrol', 'bt': 'Sedan', 'km':...</td>\n",
       "      <td>{'heading': 'Car overview', 'top': [{'key': 'R...</td>\n",
       "      <td>{'heading': 'Features', 'top': [{'value': 'Pow...</td>\n",
       "      <td>{'heading': 'Specifications', 'top': [{'key': ...</td>\n",
       "      <td>https://www.cardekho.com/buy-used-car-details/...</td>\n",
       "    </tr>\n",
       "    <tr>\n",
       "      <th>4</th>\n",
       "      <td>{'it': 0, 'ft': 'Diesel', 'bt': 'SUV', 'km': '...</td>\n",
       "      <td>{'heading': 'Car overview', 'top': [{'key': 'R...</td>\n",
       "      <td>{'heading': 'Features', 'top': [{'value': 'Pow...</td>\n",
       "      <td>{'heading': 'Specifications', 'top': [{'key': ...</td>\n",
       "      <td>https://www.cardekho.com/used-car-details/used...</td>\n",
       "    </tr>\n",
       "    <tr>\n",
       "      <th>...</th>\n",
       "      <td>...</td>\n",
       "      <td>...</td>\n",
       "      <td>...</td>\n",
       "      <td>...</td>\n",
       "      <td>...</td>\n",
       "    </tr>\n",
       "    <tr>\n",
       "      <th>1476</th>\n",
       "      <td>{'it': 0, 'ft': 'Diesel', 'bt': 'SUV', 'km': '...</td>\n",
       "      <td>{'heading': 'Car overview', 'top': [{'key': 'R...</td>\n",
       "      <td>{'heading': 'Features', 'top': [{'value': 'Pow...</td>\n",
       "      <td>{'heading': 'Specifications', 'top': [{'key': ...</td>\n",
       "      <td>https://www.cardekho.com/used-car-details/used...</td>\n",
       "    </tr>\n",
       "    <tr>\n",
       "      <th>1477</th>\n",
       "      <td>{'it': 0, 'ft': 'Petrol', 'bt': 'Sedan', 'km':...</td>\n",
       "      <td>{'heading': 'Car overview', 'top': [{'key': 'R...</td>\n",
       "      <td>{'heading': 'Features', 'top': [{'value': 'Pow...</td>\n",
       "      <td>{'heading': 'Specifications', 'top': [{'key': ...</td>\n",
       "      <td>https://www.cardekho.com/used-car-details/used...</td>\n",
       "    </tr>\n",
       "    <tr>\n",
       "      <th>1478</th>\n",
       "      <td>{'it': 0, 'ft': 'Petrol', 'bt': 'Hatchback', '...</td>\n",
       "      <td>{'heading': 'Car overview', 'top': [{'key': 'R...</td>\n",
       "      <td>{'heading': 'Features', 'top': [{'value': 'Pow...</td>\n",
       "      <td>{'heading': 'Specifications', 'top': [{'key': ...</td>\n",
       "      <td>https://www.cardekho.com/used-car-details/used...</td>\n",
       "    </tr>\n",
       "    <tr>\n",
       "      <th>1479</th>\n",
       "      <td>{'it': 0, 'ft': 'Diesel', 'bt': 'Hatchback', '...</td>\n",
       "      <td>{'heading': 'Car overview', 'top': [{'key': 'R...</td>\n",
       "      <td>{'heading': 'Features', 'top': [{'value': 'Pow...</td>\n",
       "      <td>{'heading': 'Specifications', 'top': [{'key': ...</td>\n",
       "      <td>https://www.cardekho.com/used-car-details/used...</td>\n",
       "    </tr>\n",
       "    <tr>\n",
       "      <th>1480</th>\n",
       "      <td>{'it': 0, 'ft': 'Petrol', 'bt': 'Hatchback', '...</td>\n",
       "      <td>{'heading': 'Car overview', 'top': [{'key': 'R...</td>\n",
       "      <td>{'heading': 'Features', 'top': [{'value': 'Pow...</td>\n",
       "      <td>{'heading': 'Specifications', 'top': [{'key': ...</td>\n",
       "      <td>https://www.cardekho.com/used-car-details/used...</td>\n",
       "    </tr>\n",
       "  </tbody>\n",
       "</table>\n",
       "<p>1481 rows × 5 columns</p>\n",
       "</div>"
      ],
      "text/plain": [
       "                                         new_car_detail  \\\n",
       "0     {'it': 0, 'ft': 'Petrol', 'bt': 'Hatchback', '...   \n",
       "1     {'it': 0, 'ft': 'Petrol', 'bt': 'SUV', 'km': '...   \n",
       "2     {'it': 0, 'ft': 'Petrol', 'bt': 'Hatchback', '...   \n",
       "3     {'it': 0, 'ft': 'Petrol', 'bt': 'Sedan', 'km':...   \n",
       "4     {'it': 0, 'ft': 'Diesel', 'bt': 'SUV', 'km': '...   \n",
       "...                                                 ...   \n",
       "1476  {'it': 0, 'ft': 'Diesel', 'bt': 'SUV', 'km': '...   \n",
       "1477  {'it': 0, 'ft': 'Petrol', 'bt': 'Sedan', 'km':...   \n",
       "1478  {'it': 0, 'ft': 'Petrol', 'bt': 'Hatchback', '...   \n",
       "1479  {'it': 0, 'ft': 'Diesel', 'bt': 'Hatchback', '...   \n",
       "1480  {'it': 0, 'ft': 'Petrol', 'bt': 'Hatchback', '...   \n",
       "\n",
       "                                       new_car_overview  \\\n",
       "0     {'heading': 'Car overview', 'top': [{'key': 'R...   \n",
       "1     {'heading': 'Car overview', 'top': [{'key': 'R...   \n",
       "2     {'heading': 'Car overview', 'top': [{'key': 'R...   \n",
       "3     {'heading': 'Car overview', 'top': [{'key': 'R...   \n",
       "4     {'heading': 'Car overview', 'top': [{'key': 'R...   \n",
       "...                                                 ...   \n",
       "1476  {'heading': 'Car overview', 'top': [{'key': 'R...   \n",
       "1477  {'heading': 'Car overview', 'top': [{'key': 'R...   \n",
       "1478  {'heading': 'Car overview', 'top': [{'key': 'R...   \n",
       "1479  {'heading': 'Car overview', 'top': [{'key': 'R...   \n",
       "1480  {'heading': 'Car overview', 'top': [{'key': 'R...   \n",
       "\n",
       "                                        new_car_feature  \\\n",
       "0     {'heading': 'Features', 'top': [{'value': 'Pow...   \n",
       "1     {'heading': 'Features', 'top': [{'value': 'Pow...   \n",
       "2     {'heading': 'Features', 'top': [{'value': 'Pow...   \n",
       "3     {'heading': 'Features', 'top': [{'value': 'Pow...   \n",
       "4     {'heading': 'Features', 'top': [{'value': 'Pow...   \n",
       "...                                                 ...   \n",
       "1476  {'heading': 'Features', 'top': [{'value': 'Pow...   \n",
       "1477  {'heading': 'Features', 'top': [{'value': 'Pow...   \n",
       "1478  {'heading': 'Features', 'top': [{'value': 'Pow...   \n",
       "1479  {'heading': 'Features', 'top': [{'value': 'Pow...   \n",
       "1480  {'heading': 'Features', 'top': [{'value': 'Pow...   \n",
       "\n",
       "                                          new_car_specs  \\\n",
       "0     {'heading': 'Specifications', 'top': [{'key': ...   \n",
       "1     {'heading': 'Specifications', 'top': [{'key': ...   \n",
       "2     {'heading': 'Specifications', 'top': [{'key': ...   \n",
       "3     {'heading': 'Specifications', 'top': [{'key': ...   \n",
       "4     {'heading': 'Specifications', 'top': [{'key': ...   \n",
       "...                                                 ...   \n",
       "1476  {'heading': 'Specifications', 'top': [{'key': ...   \n",
       "1477  {'heading': 'Specifications', 'top': [{'key': ...   \n",
       "1478  {'heading': 'Specifications', 'top': [{'key': ...   \n",
       "1479  {'heading': 'Specifications', 'top': [{'key': ...   \n",
       "1480  {'heading': 'Specifications', 'top': [{'key': ...   \n",
       "\n",
       "                                              car_links  \n",
       "0     https://www.cardekho.com/used-car-details/used...  \n",
       "1     https://www.cardekho.com/buy-used-car-details/...  \n",
       "2     https://www.cardekho.com/used-car-details/used...  \n",
       "3     https://www.cardekho.com/buy-used-car-details/...  \n",
       "4     https://www.cardekho.com/used-car-details/used...  \n",
       "...                                                 ...  \n",
       "1476  https://www.cardekho.com/used-car-details/used...  \n",
       "1477  https://www.cardekho.com/used-car-details/used...  \n",
       "1478  https://www.cardekho.com/used-car-details/used...  \n",
       "1479  https://www.cardekho.com/used-car-details/used...  \n",
       "1480  https://www.cardekho.com/used-car-details/used...  \n",
       "\n",
       "[1481 rows x 5 columns]"
      ]
     },
     "execution_count": 24,
     "metadata": {},
     "output_type": "execute_result"
    }
   ],
   "source": [
    "df = pd.read_excel(r'D:\\Education\\Project\\Sachin\\Car price prediction\\Data set\\Unstructured data\\bangalore_cars.xlsx')\n",
    "df"
   ]
  },
  {
   "cell_type": "markdown",
   "metadata": {},
   "source": [
    "**new_car_detail column**"
   ]
  },
  {
   "cell_type": "markdown",
   "metadata": {},
   "source": [
    "**convert a nested dictionary into a flat dictionary using flatten_dict function **"
   ]
  },
  {
   "cell_type": "code",
   "execution_count": 25,
   "metadata": {},
   "outputs": [],
   "source": [
    "def flatten_dict(d):\n",
    "\n",
    "    flat_dict = {}\n",
    "    for key, value in d.items():\n",
    "        if isinstance(value, dict):\n",
    "            for sub_key, sub_value in flatten_dict(value).items():\n",
    "                flat_dict[f\"{key}_{sub_key}\"] = sub_value\n",
    "        else:\n",
    "            flat_dict[key] = value\n",
    "    return flat_dict"
   ]
  },
  {
   "cell_type": "code",
   "execution_count": 26,
   "metadata": {},
   "outputs": [],
   "source": [
    "columns_to_flatten = ['new_car_detail']"
   ]
  },
  {
   "cell_type": "code",
   "execution_count": 27,
   "metadata": {},
   "outputs": [],
   "source": [
    "for col in columns_to_flatten:\n",
    "    if col in df.columns:\n",
    "        flattened_column = pd.DataFrame([flatten_dict(eval(row)) for row in df[col].dropna()])\n",
    "        \n",
    "        flattened_column.columns = [f\"{c}\" for c in flattened_column.columns]\n",
    "        \n",
    "        df = pd.concat([df, flattened_column], axis=1)\n",
    "        \n",
    "new_car_details = df.drop(columns=columns_to_flatten)"
   ]
  },
  {
   "cell_type": "markdown",
   "metadata": {},
   "source": [
    "**new_car_overview column**"
   ]
  },
  {
   "cell_type": "markdown",
   "metadata": {},
   "source": [
    "**Take key as a column name & value as a its value **"
   ]
  },
  {
   "cell_type": "code",
   "execution_count": 28,
   "metadata": {},
   "outputs": [],
   "source": [
    "def extract_key_value_safe(data):\n",
    "    try:\n",
    "        data_dict = ast.literal_eval(data)\n",
    "        \n",
    "        key_value_dict = {}\n",
    "        for item in data_dict.get('top', []):\n",
    "            key = item.get('key', '')  \n",
    "            value = item.get('value', '')  \n",
    "            if key:\n",
    "                key_value_dict[key] = value\n",
    "        \n",
    "        return key_value_dict\n",
    "    \n",
    "    except (ValueError, SyntaxError):\n",
    "        return {}"
   ]
  },
  {
   "cell_type": "code",
   "execution_count": 29,
   "metadata": {},
   "outputs": [],
   "source": [
    "df_overview = new_car_details['new_car_overview'].apply(extract_key_value_safe).apply(pd.Series)"
   ]
  },
  {
   "cell_type": "code",
   "execution_count": 30,
   "metadata": {},
   "outputs": [],
   "source": [
    "new_car_overview = pd.concat([df_overview, new_car_details], axis=1)"
   ]
  },
  {
   "cell_type": "markdown",
   "metadata": {},
   "source": [
    "**new_car_specs column**"
   ]
  },
  {
   "cell_type": "markdown",
   "metadata": {},
   "source": [
    "**Take key as a column name & value as a its value in different section . **"
   ]
  },
  {
   "cell_type": "code",
   "execution_count": 31,
   "metadata": {},
   "outputs": [],
   "source": [
    "def parse_column(data_column):\n",
    "    return data_column.apply(lambda x: ast.literal_eval(x) if isinstance(x, str) else {})"
   ]
  },
  {
   "cell_type": "code",
   "execution_count": 32,
   "metadata": {},
   "outputs": [],
   "source": [
    "df['new_car_specs'] = parse_column(df['new_car_specs'])"
   ]
  },
  {
   "cell_type": "code",
   "execution_count": 33,
   "metadata": {},
   "outputs": [],
   "source": [
    "def extract_specs(row):\n",
    "    specs = {}\n",
    "    \n",
    "    if 'top' in row:\n",
    "        for item in row['top']:\n",
    "            key = item.get('key', '').strip() if isinstance(item.get('key'), str) else item.get('key', '')\n",
    "            value = item.get('value', '').strip() if isinstance(item.get('value'), str) else item.get('value', '')\n",
    "            specs[key] = value\n",
    "    \n",
    "    if 'data' in row:\n",
    "        for section in row['data']:\n",
    "            for item in section.get('list', []):\n",
    "                key = item.get('key', '').strip() if isinstance(item.get('key'), str) else item.get('key', '')\n",
    "                value = item.get('value', '').strip() if isinstance(item.get('value'), str) else item.get('value', '')\n",
    "                specs[key] = value\n",
    "    \n",
    "    return specs"
   ]
  },
  {
   "cell_type": "code",
   "execution_count": 34,
   "metadata": {},
   "outputs": [],
   "source": [
    "df_specs = df['new_car_specs'].apply(extract_specs).apply(pd.Series, dtype='object')"
   ]
  },
  {
   "cell_type": "code",
   "execution_count": 35,
   "metadata": {},
   "outputs": [],
   "source": [
    "new_car_specs = pd.concat([new_car_overview, df_specs], axis=1)"
   ]
  },
  {
   "cell_type": "markdown",
   "metadata": {},
   "source": [
    "**new_car_feature column**"
   ]
  },
  {
   "cell_type": "markdown",
   "metadata": {},
   "source": [
    "**Count the values and stored in that heading . **"
   ]
  },
  {
   "cell_type": "code",
   "execution_count": 36,
   "metadata": {},
   "outputs": [],
   "source": [
    "def parse_column(data_column):\n",
    "    return data_column.apply(lambda x: ast.literal_eval(x) if isinstance(x, str) else {})"
   ]
  },
  {
   "cell_type": "code",
   "execution_count": 37,
   "metadata": {},
   "outputs": [],
   "source": [
    "df['new_car_feature'] = parse_column(df['new_car_feature'])"
   ]
  },
  {
   "cell_type": "code",
   "execution_count": 38,
   "metadata": {},
   "outputs": [],
   "source": [
    "def count_features_top(row):\n",
    "    if 'top' in row:\n",
    "        return len(row['top']) \n",
    "    return 0"
   ]
  },
  {
   "cell_type": "code",
   "execution_count": 39,
   "metadata": {},
   "outputs": [],
   "source": [
    "def count_features_data(row):\n",
    "    counts = {}\n",
    "    if 'data' in row:\n",
    "        for category in row['data']:\n",
    "            heading = category.get('heading', '').strip()  \n",
    "            feature_list = category.get('list', [])  \n",
    "            counts[heading] = len(feature_list)  \n",
    "    return counts"
   ]
  },
  {
   "cell_type": "code",
   "execution_count": 40,
   "metadata": {},
   "outputs": [],
   "source": [
    "df['features'] = df['new_car_feature'].apply(count_features_top)"
   ]
  },
  {
   "cell_type": "code",
   "execution_count": 41,
   "metadata": {},
   "outputs": [
    {
     "name": "stderr",
     "output_type": "stream",
     "text": [
      "C:\\Users\\Theri Jeeva\\AppData\\Local\\Temp\\ipykernel_24976\\3915894312.py:1: FutureWarning: The default dtype for empty Series will be 'object' instead of 'float64' in a future version. Specify a dtype explicitly to silence this warning.\n",
      "  feature_counts_df = df['new_car_feature'].apply(count_features_data).apply(pd.Series).fillna(0)\n",
      "C:\\Users\\Theri Jeeva\\AppData\\Local\\Temp\\ipykernel_24976\\3915894312.py:1: FutureWarning: The default dtype for empty Series will be 'object' instead of 'float64' in a future version. Specify a dtype explicitly to silence this warning.\n",
      "  feature_counts_df = df['new_car_feature'].apply(count_features_data).apply(pd.Series).fillna(0)\n",
      "C:\\Users\\Theri Jeeva\\AppData\\Local\\Temp\\ipykernel_24976\\3915894312.py:1: FutureWarning: The default dtype for empty Series will be 'object' instead of 'float64' in a future version. Specify a dtype explicitly to silence this warning.\n",
      "  feature_counts_df = df['new_car_feature'].apply(count_features_data).apply(pd.Series).fillna(0)\n",
      "C:\\Users\\Theri Jeeva\\AppData\\Local\\Temp\\ipykernel_24976\\3915894312.py:1: FutureWarning: The default dtype for empty Series will be 'object' instead of 'float64' in a future version. Specify a dtype explicitly to silence this warning.\n",
      "  feature_counts_df = df['new_car_feature'].apply(count_features_data).apply(pd.Series).fillna(0)\n",
      "C:\\Users\\Theri Jeeva\\AppData\\Local\\Temp\\ipykernel_24976\\3915894312.py:1: FutureWarning: The default dtype for empty Series will be 'object' instead of 'float64' in a future version. Specify a dtype explicitly to silence this warning.\n",
      "  feature_counts_df = df['new_car_feature'].apply(count_features_data).apply(pd.Series).fillna(0)\n",
      "C:\\Users\\Theri Jeeva\\AppData\\Local\\Temp\\ipykernel_24976\\3915894312.py:1: FutureWarning: The default dtype for empty Series will be 'object' instead of 'float64' in a future version. Specify a dtype explicitly to silence this warning.\n",
      "  feature_counts_df = df['new_car_feature'].apply(count_features_data).apply(pd.Series).fillna(0)\n",
      "C:\\Users\\Theri Jeeva\\AppData\\Local\\Temp\\ipykernel_24976\\3915894312.py:1: FutureWarning: The default dtype for empty Series will be 'object' instead of 'float64' in a future version. Specify a dtype explicitly to silence this warning.\n",
      "  feature_counts_df = df['new_car_feature'].apply(count_features_data).apply(pd.Series).fillna(0)\n",
      "C:\\Users\\Theri Jeeva\\AppData\\Local\\Temp\\ipykernel_24976\\3915894312.py:1: FutureWarning: The default dtype for empty Series will be 'object' instead of 'float64' in a future version. Specify a dtype explicitly to silence this warning.\n",
      "  feature_counts_df = df['new_car_feature'].apply(count_features_data).apply(pd.Series).fillna(0)\n",
      "C:\\Users\\Theri Jeeva\\AppData\\Local\\Temp\\ipykernel_24976\\3915894312.py:1: FutureWarning: The default dtype for empty Series will be 'object' instead of 'float64' in a future version. Specify a dtype explicitly to silence this warning.\n",
      "  feature_counts_df = df['new_car_feature'].apply(count_features_data).apply(pd.Series).fillna(0)\n",
      "C:\\Users\\Theri Jeeva\\AppData\\Local\\Temp\\ipykernel_24976\\3915894312.py:1: FutureWarning: The default dtype for empty Series will be 'object' instead of 'float64' in a future version. Specify a dtype explicitly to silence this warning.\n",
      "  feature_counts_df = df['new_car_feature'].apply(count_features_data).apply(pd.Series).fillna(0)\n",
      "C:\\Users\\Theri Jeeva\\AppData\\Local\\Temp\\ipykernel_24976\\3915894312.py:1: FutureWarning: The default dtype for empty Series will be 'object' instead of 'float64' in a future version. Specify a dtype explicitly to silence this warning.\n",
      "  feature_counts_df = df['new_car_feature'].apply(count_features_data).apply(pd.Series).fillna(0)\n",
      "C:\\Users\\Theri Jeeva\\AppData\\Local\\Temp\\ipykernel_24976\\3915894312.py:1: FutureWarning: The default dtype for empty Series will be 'object' instead of 'float64' in a future version. Specify a dtype explicitly to silence this warning.\n",
      "  feature_counts_df = df['new_car_feature'].apply(count_features_data).apply(pd.Series).fillna(0)\n",
      "C:\\Users\\Theri Jeeva\\AppData\\Local\\Temp\\ipykernel_24976\\3915894312.py:1: FutureWarning: The default dtype for empty Series will be 'object' instead of 'float64' in a future version. Specify a dtype explicitly to silence this warning.\n",
      "  feature_counts_df = df['new_car_feature'].apply(count_features_data).apply(pd.Series).fillna(0)\n",
      "C:\\Users\\Theri Jeeva\\AppData\\Local\\Temp\\ipykernel_24976\\3915894312.py:1: FutureWarning: The default dtype for empty Series will be 'object' instead of 'float64' in a future version. Specify a dtype explicitly to silence this warning.\n",
      "  feature_counts_df = df['new_car_feature'].apply(count_features_data).apply(pd.Series).fillna(0)\n"
     ]
    }
   ],
   "source": [
    "feature_counts_df = df['new_car_feature'].apply(count_features_data).apply(pd.Series).fillna(0)\n",
    "feature_counts_df = feature_counts_df.astype(int)"
   ]
  },
  {
   "cell_type": "code",
   "execution_count": 42,
   "metadata": {},
   "outputs": [],
   "source": [
    "new_car_features = pd.concat([new_car_specs, feature_counts_df], axis=1)"
   ]
  },
  {
   "cell_type": "markdown",
   "metadata": {},
   "source": [
    "**Add new column for city . **"
   ]
  },
  {
   "cell_type": "code",
   "execution_count": 43,
   "metadata": {},
   "outputs": [],
   "source": [
    "new_car_features['City'] = 'Bangalore'"
   ]
  },
  {
   "cell_type": "code",
   "execution_count": 44,
   "metadata": {},
   "outputs": [],
   "source": [
    "bangalore = new_car_features.drop(columns = [ 'new_car_overview', 'new_car_feature', 'new_car_specs', 'car_links'])"
   ]
  },
  {
   "cell_type": "code",
   "execution_count": 45,
   "metadata": {},
   "outputs": [],
   "source": [
    "bangalore.to_csv(r'D:\\Education\\Project\\Sachin\\Car price prediction\\Data set\\Structured data\\bangalore_cars.csv', index=False)"
   ]
  },
  {
   "cell_type": "markdown",
   "metadata": {},
   "source": [
    "****\n",
    "### Delhi_Cars_dataset"
   ]
  },
  {
   "cell_type": "code",
   "execution_count": 46,
   "metadata": {
    "execution": {
     "iopub.execute_input": "2023-05-07T14:24:04.174728Z",
     "iopub.status.busy": "2023-05-07T14:24:04.173857Z",
     "iopub.status.idle": "2023-05-07T14:24:04.181571Z",
     "shell.execute_reply": "2023-05-07T14:24:04.179833Z",
     "shell.execute_reply.started": "2023-05-07T14:24:04.174674Z"
    }
   },
   "outputs": [],
   "source": [
    "df = pd.read_excel(r'D:\\Education\\Project\\Sachin\\Car price prediction\\Data set\\Unstructured data\\delhi_cars.xlsx')"
   ]
  },
  {
   "cell_type": "markdown",
   "metadata": {},
   "source": [
    "**new_car_detail column**"
   ]
  },
  {
   "cell_type": "markdown",
   "metadata": {
    "execution": {
     "iopub.execute_input": "2023-05-07T14:24:04.184208Z",
     "iopub.status.busy": "2023-05-07T14:24:04.183669Z",
     "iopub.status.idle": "2023-05-07T14:24:04.198775Z",
     "shell.execute_reply": "2023-05-07T14:24:04.197363Z",
     "shell.execute_reply.started": "2023-05-07T14:24:04.184157Z"
    }
   },
   "source": [
    " **convert a nested dictionary into a flat dictionary using flatten_dict function **"
   ]
  },
  {
   "cell_type": "code",
   "execution_count": 47,
   "metadata": {},
   "outputs": [],
   "source": [
    "def flatten_dict(d):\n",
    "\n",
    "    flat_dict = {}\n",
    "    for key, value in d.items():\n",
    "        if isinstance(value, dict):\n",
    "            for sub_key, sub_value in flatten_dict(value).items():\n",
    "                flat_dict[f\"{key}_{sub_key}\"] = sub_value\n",
    "        else:\n",
    "            flat_dict[key] = value\n",
    "    return flat_dict"
   ]
  },
  {
   "cell_type": "code",
   "execution_count": 48,
   "metadata": {},
   "outputs": [],
   "source": [
    "columns_to_flatten = ['new_car_detail']"
   ]
  },
  {
   "cell_type": "code",
   "execution_count": 49,
   "metadata": {},
   "outputs": [],
   "source": [
    "for col in columns_to_flatten:\n",
    "    if col in df.columns:\n",
    "        flattened_column = pd.DataFrame([flatten_dict(eval(row)) for row in df[col].dropna()])\n",
    "\n",
    "        flattened_column.columns = [f\"{c}\" for c in flattened_column.columns]\n",
    "\n",
    "        df = pd.concat([df, flattened_column], axis=1)\n",
    "        \n",
    "new_car_details = df.drop(columns=columns_to_flatten)"
   ]
  },
  {
   "cell_type": "markdown",
   "metadata": {},
   "source": [
    "**new_car_overview column**"
   ]
  },
  {
   "cell_type": "markdown",
   "metadata": {},
   "source": [
    "**Take key as a column name & value as a its value **"
   ]
  },
  {
   "cell_type": "code",
   "execution_count": 50,
   "metadata": {},
   "outputs": [],
   "source": [
    "def extract_key_value_safe(data):\n",
    "    try:\n",
    "        data_dict = ast.literal_eval(data)\n",
    "        \n",
    "        key_value_dict = {}\n",
    "        for item in data_dict.get('top', []):\n",
    "            key = item.get('key', '')  \n",
    "            value = item.get('value', '')  \n",
    "            if key:\n",
    "                key_value_dict[key] = value\n",
    "        \n",
    "        return key_value_dict\n",
    "    \n",
    "    except (ValueError, SyntaxError):\n",
    "        return {}"
   ]
  },
  {
   "cell_type": "code",
   "execution_count": 51,
   "metadata": {},
   "outputs": [],
   "source": [
    "df_overview = new_car_details['new_car_overview'].apply(extract_key_value_safe).apply(pd.Series)"
   ]
  },
  {
   "cell_type": "code",
   "execution_count": 52,
   "metadata": {},
   "outputs": [],
   "source": [
    "new_car_overview = pd.concat([df_overview, new_car_details], axis=1)"
   ]
  },
  {
   "cell_type": "markdown",
   "metadata": {},
   "source": [
    "**new_car_specs column**"
   ]
  },
  {
   "cell_type": "markdown",
   "metadata": {},
   "source": [
    "**Take key as a column name & value as a its value in different section . **"
   ]
  },
  {
   "cell_type": "code",
   "execution_count": 53,
   "metadata": {},
   "outputs": [],
   "source": [
    "def parse_column(data_column):\n",
    "    return data_column.apply(lambda x: ast.literal_eval(x) if isinstance(x, str) else {})"
   ]
  },
  {
   "cell_type": "code",
   "execution_count": 54,
   "metadata": {},
   "outputs": [],
   "source": [
    "df['new_car_specs'] = parse_column(df['new_car_specs'])"
   ]
  },
  {
   "cell_type": "code",
   "execution_count": 55,
   "metadata": {},
   "outputs": [],
   "source": [
    "def extract_specs(row):\n",
    "    specs = {}\n",
    "    \n",
    "    if 'top' in row:\n",
    "        for item in row['top']:\n",
    "            key = item.get('key', '').strip() if isinstance(item.get('key'), str) else item.get('key', '')\n",
    "            value = item.get('value', '').strip() if isinstance(item.get('value'), str) else item.get('value', '')\n",
    "            specs[key] = value\n",
    "    \n",
    "    if 'data' in row:\n",
    "        for section in row['data']:\n",
    "            for item in section.get('list', []):\n",
    "                key = item.get('key', '').strip() if isinstance(item.get('key'), str) else item.get('key', '')\n",
    "                value = item.get('value', '').strip() if isinstance(item.get('value'), str) else item.get('value', '')\n",
    "                specs[key] = value\n",
    "    \n",
    "    return specs"
   ]
  },
  {
   "cell_type": "code",
   "execution_count": 56,
   "metadata": {},
   "outputs": [],
   "source": [
    "df_specs = df['new_car_specs'].apply(extract_specs).apply(pd.Series, dtype='object')"
   ]
  },
  {
   "cell_type": "code",
   "execution_count": 57,
   "metadata": {},
   "outputs": [],
   "source": [
    "new_car_specs = pd.concat([new_car_overview, df_specs], axis=1)"
   ]
  },
  {
   "cell_type": "markdown",
   "metadata": {},
   "source": [
    "**new_car_feature column**"
   ]
  },
  {
   "cell_type": "markdown",
   "metadata": {},
   "source": [
    "**Count the values and stored in that heading . **"
   ]
  },
  {
   "cell_type": "code",
   "execution_count": 58,
   "metadata": {},
   "outputs": [],
   "source": [
    "def parse_column(data_column):\n",
    "    return data_column.apply(lambda x: ast.literal_eval(x) if isinstance(x, str) else {})"
   ]
  },
  {
   "cell_type": "code",
   "execution_count": 59,
   "metadata": {},
   "outputs": [],
   "source": [
    "df['new_car_feature'] = parse_column(df['new_car_feature'])"
   ]
  },
  {
   "cell_type": "code",
   "execution_count": 60,
   "metadata": {},
   "outputs": [],
   "source": [
    "def count_features_top(row):\n",
    "    if 'top' in row:\n",
    "        return len(row['top'])  \n",
    "    return 0"
   ]
  },
  {
   "cell_type": "code",
   "execution_count": 61,
   "metadata": {},
   "outputs": [],
   "source": [
    "def count_features_data(row):\n",
    "    counts = {}\n",
    "    if 'data' in row:\n",
    "        for category in row['data']:\n",
    "            heading = category.get('heading', '').strip()  \n",
    "            feature_list = category.get('list', [])  \n",
    "            counts[heading] = len(feature_list)  \n",
    "    return counts"
   ]
  },
  {
   "cell_type": "code",
   "execution_count": 62,
   "metadata": {},
   "outputs": [],
   "source": [
    "df['features'] = df['new_car_feature'].apply(count_features_top)"
   ]
  },
  {
   "cell_type": "code",
   "execution_count": 63,
   "metadata": {},
   "outputs": [
    {
     "name": "stderr",
     "output_type": "stream",
     "text": [
      "C:\\Users\\Theri Jeeva\\AppData\\Local\\Temp\\ipykernel_24976\\3915894312.py:1: FutureWarning: The default dtype for empty Series will be 'object' instead of 'float64' in a future version. Specify a dtype explicitly to silence this warning.\n",
      "  feature_counts_df = df['new_car_feature'].apply(count_features_data).apply(pd.Series).fillna(0)\n",
      "C:\\Users\\Theri Jeeva\\AppData\\Local\\Temp\\ipykernel_24976\\3915894312.py:1: FutureWarning: The default dtype for empty Series will be 'object' instead of 'float64' in a future version. Specify a dtype explicitly to silence this warning.\n",
      "  feature_counts_df = df['new_car_feature'].apply(count_features_data).apply(pd.Series).fillna(0)\n",
      "C:\\Users\\Theri Jeeva\\AppData\\Local\\Temp\\ipykernel_24976\\3915894312.py:1: FutureWarning: The default dtype for empty Series will be 'object' instead of 'float64' in a future version. Specify a dtype explicitly to silence this warning.\n",
      "  feature_counts_df = df['new_car_feature'].apply(count_features_data).apply(pd.Series).fillna(0)\n",
      "C:\\Users\\Theri Jeeva\\AppData\\Local\\Temp\\ipykernel_24976\\3915894312.py:1: FutureWarning: The default dtype for empty Series will be 'object' instead of 'float64' in a future version. Specify a dtype explicitly to silence this warning.\n",
      "  feature_counts_df = df['new_car_feature'].apply(count_features_data).apply(pd.Series).fillna(0)\n"
     ]
    }
   ],
   "source": [
    "feature_counts_df = df['new_car_feature'].apply(count_features_data).apply(pd.Series).fillna(0)\n",
    "feature_counts_df = feature_counts_df.astype(int)"
   ]
  },
  {
   "cell_type": "code",
   "execution_count": 64,
   "metadata": {},
   "outputs": [],
   "source": [
    "new_car_feature = pd.concat([new_car_specs, feature_counts_df], axis=1)"
   ]
  },
  {
   "cell_type": "markdown",
   "metadata": {},
   "source": [
    "**Add new column for city . **"
   ]
  },
  {
   "cell_type": "code",
   "execution_count": 65,
   "metadata": {},
   "outputs": [],
   "source": [
    "new_car_features['City'] = 'Delhi'"
   ]
  },
  {
   "cell_type": "code",
   "execution_count": 66,
   "metadata": {},
   "outputs": [],
   "source": [
    "delhi = new_car_features.drop(columns = [ 'new_car_overview', 'new_car_feature', 'new_car_specs', 'car_links'])"
   ]
  },
  {
   "cell_type": "code",
   "execution_count": 67,
   "metadata": {},
   "outputs": [],
   "source": [
    "delhi.to_csv(r'D:\\Education\\Project\\Sachin\\Car price prediction\\Data set\\Structured data\\delhi_cars.csv', index=False)"
   ]
  },
  {
   "cell_type": "markdown",
   "metadata": {},
   "source": [
    "****\n",
    "### Kolkata_Cars_dataset"
   ]
  },
  {
   "cell_type": "code",
   "execution_count": 68,
   "metadata": {},
   "outputs": [],
   "source": [
    "df = pd.read_excel(r'D:\\Education\\Project\\Sachin\\Car price prediction\\Data set\\Unstructured data\\kolkata_cars.xlsx')"
   ]
  },
  {
   "cell_type": "markdown",
   "metadata": {},
   "source": [
    "**new_car_detail column**"
   ]
  },
  {
   "cell_type": "markdown",
   "metadata": {},
   "source": [
    "**convert a nested dictionary into a flat dictionary using flatten_dict function**"
   ]
  },
  {
   "cell_type": "code",
   "execution_count": 69,
   "metadata": {},
   "outputs": [],
   "source": [
    "def flatten_dict(d):\n",
    "\n",
    "    flat_dict = {}\n",
    "    for key, value in d.items():\n",
    "        if isinstance(value, dict):\n",
    "            for sub_key, sub_value in flatten_dict(value).items():\n",
    "                flat_dict[f\"{key}_{sub_key}\"] = sub_value\n",
    "        else:\n",
    "            flat_dict[key] = value\n",
    "    return flat_dict"
   ]
  },
  {
   "cell_type": "code",
   "execution_count": 70,
   "metadata": {},
   "outputs": [],
   "source": [
    "columns_to_flatten = ['new_car_detail']"
   ]
  },
  {
   "cell_type": "code",
   "execution_count": 71,
   "metadata": {},
   "outputs": [],
   "source": [
    "for col in columns_to_flatten:\n",
    "    if col in df.columns:\n",
    "        flattened_column = pd.DataFrame([flatten_dict(eval(row)) for row in df[col].dropna()])\n",
    "\n",
    "        flattened_column.columns = [f\"{c}\" for c in flattened_column.columns]\n",
    "\n",
    "        df = pd.concat([df, flattened_column], axis=1)\n",
    "        \n",
    "new_car_details = df.drop(columns=columns_to_flatten)"
   ]
  },
  {
   "cell_type": "markdown",
   "metadata": {},
   "source": [
    "**new_car_overview column**"
   ]
  },
  {
   "cell_type": "markdown",
   "metadata": {},
   "source": [
    "**Take key as a column name & value as a its value **"
   ]
  },
  {
   "cell_type": "code",
   "execution_count": 72,
   "metadata": {},
   "outputs": [],
   "source": [
    "def extract_key_value_safe(data):\n",
    "    try:\n",
    "        data_dict = ast.literal_eval(data)\n",
    "        \n",
    "        key_value_dict = {}\n",
    "        for item in data_dict.get('top', []):\n",
    "            key = item.get('key', '')  \n",
    "            value = item.get('value', '')  \n",
    "            if key:\n",
    "                key_value_dict[key] = value\n",
    "        \n",
    "        return key_value_dict\n",
    "    \n",
    "    except (ValueError, SyntaxError):\n",
    "        return {}"
   ]
  },
  {
   "cell_type": "code",
   "execution_count": 73,
   "metadata": {},
   "outputs": [],
   "source": [
    "df_overview = new_car_details['new_car_overview'].apply(extract_key_value_safe).apply(pd.Series)"
   ]
  },
  {
   "cell_type": "code",
   "execution_count": 74,
   "metadata": {},
   "outputs": [],
   "source": [
    "new_car_overview = pd.concat([df_overview, new_car_details], axis=1)"
   ]
  },
  {
   "cell_type": "markdown",
   "metadata": {},
   "source": [
    "**new_car_specs column**"
   ]
  },
  {
   "cell_type": "markdown",
   "metadata": {},
   "source": [
    "**Take key as a column name & value as a its value in different section . **"
   ]
  },
  {
   "cell_type": "code",
   "execution_count": 75,
   "metadata": {},
   "outputs": [],
   "source": [
    "def parse_column(data_column):\n",
    "    return data_column.apply(lambda x: ast.literal_eval(x) if isinstance(x, str) else {})"
   ]
  },
  {
   "cell_type": "code",
   "execution_count": 76,
   "metadata": {},
   "outputs": [],
   "source": [
    "df['new_car_specs'] = parse_column(df['new_car_specs'])"
   ]
  },
  {
   "cell_type": "code",
   "execution_count": 77,
   "metadata": {},
   "outputs": [],
   "source": [
    "def extract_specs(row):\n",
    "    specs = {}\n",
    "    \n",
    "    if 'top' in row:\n",
    "        for item in row['top']:\n",
    "            key = item.get('key', '').strip() if isinstance(item.get('key'), str) else item.get('key', '')\n",
    "            value = item.get('value', '').strip() if isinstance(item.get('value'), str) else item.get('value', '')\n",
    "            specs[key] = value\n",
    "    \n",
    "    if 'data' in row:\n",
    "        for section in row['data']:\n",
    "            for item in section.get('list', []):\n",
    "                key = item.get('key', '').strip() if isinstance(item.get('key'), str) else item.get('key', '')\n",
    "                value = item.get('value', '').strip() if isinstance(item.get('value'), str) else item.get('value', '')\n",
    "                specs[key] = value\n",
    "    \n",
    "    return specs"
   ]
  },
  {
   "cell_type": "code",
   "execution_count": 78,
   "metadata": {},
   "outputs": [],
   "source": [
    "df_specs = df['new_car_specs'].apply(extract_specs).apply(pd.Series, dtype='object')"
   ]
  },
  {
   "cell_type": "code",
   "execution_count": 79,
   "metadata": {},
   "outputs": [],
   "source": [
    "new_car_specs = pd.concat([new_car_overview, df_specs], axis=1)"
   ]
  },
  {
   "cell_type": "markdown",
   "metadata": {},
   "source": [
    "**new_car_feature column**"
   ]
  },
  {
   "cell_type": "markdown",
   "metadata": {},
   "source": [
    "**Count the values and stored in that heading . **"
   ]
  },
  {
   "cell_type": "code",
   "execution_count": 80,
   "metadata": {},
   "outputs": [],
   "source": [
    "def parse_column(data_column):\n",
    "    return data_column.apply(lambda x: ast.literal_eval(x) if isinstance(x, str) else {})"
   ]
  },
  {
   "cell_type": "code",
   "execution_count": 81,
   "metadata": {},
   "outputs": [],
   "source": [
    "df['new_car_feature'] = parse_column(df['new_car_feature'])"
   ]
  },
  {
   "cell_type": "code",
   "execution_count": 82,
   "metadata": {},
   "outputs": [],
   "source": [
    "def count_features_top(row):\n",
    "    if 'top' in row:\n",
    "        return len(row['top'])  \n",
    "    return 0"
   ]
  },
  {
   "cell_type": "code",
   "execution_count": 83,
   "metadata": {},
   "outputs": [],
   "source": [
    "def count_features_data(row):\n",
    "    counts = {}\n",
    "    if 'data' in row:\n",
    "        for category in row['data']:\n",
    "            heading = category.get('heading', '').strip()  \n",
    "            feature_list = category.get('list', []) \n",
    "            counts[heading] = len(feature_list)  \n",
    "    return counts"
   ]
  },
  {
   "cell_type": "code",
   "execution_count": 84,
   "metadata": {},
   "outputs": [],
   "source": [
    "df['features'] = df['new_car_feature'].apply(count_features_top)"
   ]
  },
  {
   "cell_type": "code",
   "execution_count": 85,
   "metadata": {},
   "outputs": [
    {
     "name": "stderr",
     "output_type": "stream",
     "text": [
      "C:\\Users\\Theri Jeeva\\AppData\\Local\\Temp\\ipykernel_24976\\3915894312.py:1: FutureWarning: The default dtype for empty Series will be 'object' instead of 'float64' in a future version. Specify a dtype explicitly to silence this warning.\n",
      "  feature_counts_df = df['new_car_feature'].apply(count_features_data).apply(pd.Series).fillna(0)\n",
      "C:\\Users\\Theri Jeeva\\AppData\\Local\\Temp\\ipykernel_24976\\3915894312.py:1: FutureWarning: The default dtype for empty Series will be 'object' instead of 'float64' in a future version. Specify a dtype explicitly to silence this warning.\n",
      "  feature_counts_df = df['new_car_feature'].apply(count_features_data).apply(pd.Series).fillna(0)\n",
      "C:\\Users\\Theri Jeeva\\AppData\\Local\\Temp\\ipykernel_24976\\3915894312.py:1: FutureWarning: The default dtype for empty Series will be 'object' instead of 'float64' in a future version. Specify a dtype explicitly to silence this warning.\n",
      "  feature_counts_df = df['new_car_feature'].apply(count_features_data).apply(pd.Series).fillna(0)\n",
      "C:\\Users\\Theri Jeeva\\AppData\\Local\\Temp\\ipykernel_24976\\3915894312.py:1: FutureWarning: The default dtype for empty Series will be 'object' instead of 'float64' in a future version. Specify a dtype explicitly to silence this warning.\n",
      "  feature_counts_df = df['new_car_feature'].apply(count_features_data).apply(pd.Series).fillna(0)\n",
      "C:\\Users\\Theri Jeeva\\AppData\\Local\\Temp\\ipykernel_24976\\3915894312.py:1: FutureWarning: The default dtype for empty Series will be 'object' instead of 'float64' in a future version. Specify a dtype explicitly to silence this warning.\n",
      "  feature_counts_df = df['new_car_feature'].apply(count_features_data).apply(pd.Series).fillna(0)\n",
      "C:\\Users\\Theri Jeeva\\AppData\\Local\\Temp\\ipykernel_24976\\3915894312.py:1: FutureWarning: The default dtype for empty Series will be 'object' instead of 'float64' in a future version. Specify a dtype explicitly to silence this warning.\n",
      "  feature_counts_df = df['new_car_feature'].apply(count_features_data).apply(pd.Series).fillna(0)\n",
      "C:\\Users\\Theri Jeeva\\AppData\\Local\\Temp\\ipykernel_24976\\3915894312.py:1: FutureWarning: The default dtype for empty Series will be 'object' instead of 'float64' in a future version. Specify a dtype explicitly to silence this warning.\n",
      "  feature_counts_df = df['new_car_feature'].apply(count_features_data).apply(pd.Series).fillna(0)\n",
      "C:\\Users\\Theri Jeeva\\AppData\\Local\\Temp\\ipykernel_24976\\3915894312.py:1: FutureWarning: The default dtype for empty Series will be 'object' instead of 'float64' in a future version. Specify a dtype explicitly to silence this warning.\n",
      "  feature_counts_df = df['new_car_feature'].apply(count_features_data).apply(pd.Series).fillna(0)\n",
      "C:\\Users\\Theri Jeeva\\AppData\\Local\\Temp\\ipykernel_24976\\3915894312.py:1: FutureWarning: The default dtype for empty Series will be 'object' instead of 'float64' in a future version. Specify a dtype explicitly to silence this warning.\n",
      "  feature_counts_df = df['new_car_feature'].apply(count_features_data).apply(pd.Series).fillna(0)\n",
      "C:\\Users\\Theri Jeeva\\AppData\\Local\\Temp\\ipykernel_24976\\3915894312.py:1: FutureWarning: The default dtype for empty Series will be 'object' instead of 'float64' in a future version. Specify a dtype explicitly to silence this warning.\n",
      "  feature_counts_df = df['new_car_feature'].apply(count_features_data).apply(pd.Series).fillna(0)\n",
      "C:\\Users\\Theri Jeeva\\AppData\\Local\\Temp\\ipykernel_24976\\3915894312.py:1: FutureWarning: The default dtype for empty Series will be 'object' instead of 'float64' in a future version. Specify a dtype explicitly to silence this warning.\n",
      "  feature_counts_df = df['new_car_feature'].apply(count_features_data).apply(pd.Series).fillna(0)\n",
      "C:\\Users\\Theri Jeeva\\AppData\\Local\\Temp\\ipykernel_24976\\3915894312.py:1: FutureWarning: The default dtype for empty Series will be 'object' instead of 'float64' in a future version. Specify a dtype explicitly to silence this warning.\n",
      "  feature_counts_df = df['new_car_feature'].apply(count_features_data).apply(pd.Series).fillna(0)\n",
      "C:\\Users\\Theri Jeeva\\AppData\\Local\\Temp\\ipykernel_24976\\3915894312.py:1: FutureWarning: The default dtype for empty Series will be 'object' instead of 'float64' in a future version. Specify a dtype explicitly to silence this warning.\n",
      "  feature_counts_df = df['new_car_feature'].apply(count_features_data).apply(pd.Series).fillna(0)\n",
      "C:\\Users\\Theri Jeeva\\AppData\\Local\\Temp\\ipykernel_24976\\3915894312.py:1: FutureWarning: The default dtype for empty Series will be 'object' instead of 'float64' in a future version. Specify a dtype explicitly to silence this warning.\n",
      "  feature_counts_df = df['new_car_feature'].apply(count_features_data).apply(pd.Series).fillna(0)\n"
     ]
    }
   ],
   "source": [
    "feature_counts_df = df['new_car_feature'].apply(count_features_data).apply(pd.Series).fillna(0)\n",
    "feature_counts_df = feature_counts_df.astype(int)"
   ]
  },
  {
   "cell_type": "code",
   "execution_count": 86,
   "metadata": {},
   "outputs": [],
   "source": [
    "new_car_feature = pd.concat([new_car_specs, feature_counts_df], axis=1)"
   ]
  },
  {
   "cell_type": "markdown",
   "metadata": {},
   "source": [
    "**Add new column for city . **"
   ]
  },
  {
   "cell_type": "code",
   "execution_count": 87,
   "metadata": {},
   "outputs": [],
   "source": [
    "new_car_features['City'] = 'Kolkata'"
   ]
  },
  {
   "cell_type": "code",
   "execution_count": 88,
   "metadata": {},
   "outputs": [],
   "source": [
    "kolkata = new_car_features.drop(columns = [ 'new_car_overview', 'new_car_feature', 'new_car_specs', 'car_links'])"
   ]
  },
  {
   "cell_type": "code",
   "execution_count": 89,
   "metadata": {},
   "outputs": [],
   "source": [
    "kolkata.to_csv(r'D:\\Education\\Project\\Sachin\\Car price prediction\\Data set\\Structured data\\kolkata_cars.csv', index=False)"
   ]
  },
  {
   "cell_type": "markdown",
   "metadata": {},
   "source": [
    "****\n",
    "### Jaipur_Cars_dataset"
   ]
  },
  {
   "cell_type": "code",
   "execution_count": 90,
   "metadata": {},
   "outputs": [],
   "source": [
    "df = pd.read_excel(r'D:\\Education\\Project\\Sachin\\Car price prediction\\Data set\\Unstructured data\\jaipur_cars.xlsx')"
   ]
  },
  {
   "cell_type": "markdown",
   "metadata": {},
   "source": [
    "**new_car_detail column**"
   ]
  },
  {
   "cell_type": "markdown",
   "metadata": {},
   "source": [
    "**convert a nested dictionary into a flat dictionary using flatten_dict function**"
   ]
  },
  {
   "cell_type": "code",
   "execution_count": 91,
   "metadata": {},
   "outputs": [],
   "source": [
    "def flatten_dict(d):\n",
    "\n",
    "    flat_dict = {}\n",
    "    for key, value in d.items():\n",
    "        if isinstance(value, dict):\n",
    "            for sub_key, sub_value in flatten_dict(value).items():\n",
    "                flat_dict[f\"{key}_{sub_key}\"] = sub_value\n",
    "        else:\n",
    "            flat_dict[key] = value\n",
    "    return flat_dict"
   ]
  },
  {
   "cell_type": "code",
   "execution_count": 92,
   "metadata": {},
   "outputs": [],
   "source": [
    "columns_to_flatten = ['new_car_detail']"
   ]
  },
  {
   "cell_type": "code",
   "execution_count": 93,
   "metadata": {},
   "outputs": [],
   "source": [
    "for col in columns_to_flatten:\n",
    "    if col in df.columns:\n",
    "        flattened_column = pd.DataFrame([flatten_dict(eval(row)) for row in df[col].dropna()])\n",
    "\n",
    "        flattened_column.columns = [f\"{c}\" for c in flattened_column.columns]\n",
    "\n",
    "        df = pd.concat([df, flattened_column], axis=1)\n",
    "        \n",
    "new_car_details = df.drop(columns=columns_to_flatten)"
   ]
  },
  {
   "cell_type": "markdown",
   "metadata": {},
   "source": [
    "**new_car_overview column**"
   ]
  },
  {
   "cell_type": "markdown",
   "metadata": {},
   "source": [
    "**Take key as a column name & value as a its value **"
   ]
  },
  {
   "cell_type": "code",
   "execution_count": 94,
   "metadata": {},
   "outputs": [],
   "source": [
    "def extract_key_value_safe(data):\n",
    "    try:\n",
    "        data_dict = ast.literal_eval(data)\n",
    "        \n",
    "        key_value_dict = {}\n",
    "        for item in data_dict.get('top', []):\n",
    "            key = item.get('key', '')  \n",
    "            value = item.get('value', '')  \n",
    "            if key:\n",
    "                key_value_dict[key] = value\n",
    "        \n",
    "        return key_value_dict\n",
    "    \n",
    "    except (ValueError, SyntaxError):\n",
    "        return {}"
   ]
  },
  {
   "cell_type": "code",
   "execution_count": 95,
   "metadata": {},
   "outputs": [],
   "source": [
    "df_overview = new_car_details['new_car_overview'].apply(extract_key_value_safe).apply(pd.Series)"
   ]
  },
  {
   "cell_type": "code",
   "execution_count": 96,
   "metadata": {},
   "outputs": [],
   "source": [
    "new_car_overview = pd.concat([df_overview, new_car_details], axis=1)"
   ]
  },
  {
   "cell_type": "markdown",
   "metadata": {},
   "source": [
    "**new_car_specs column**"
   ]
  },
  {
   "cell_type": "markdown",
   "metadata": {},
   "source": [
    "**Take key as a column name & value as a its value in different section . **"
   ]
  },
  {
   "cell_type": "code",
   "execution_count": 97,
   "metadata": {},
   "outputs": [],
   "source": [
    "def parse_column(data_column):\n",
    "    return data_column.apply(lambda x: ast.literal_eval(x) if isinstance(x, str) else {})"
   ]
  },
  {
   "cell_type": "code",
   "execution_count": 98,
   "metadata": {},
   "outputs": [],
   "source": [
    "df['new_car_specs'] = parse_column(df['new_car_specs'])"
   ]
  },
  {
   "cell_type": "code",
   "execution_count": 99,
   "metadata": {},
   "outputs": [],
   "source": [
    "def extract_specs(row):\n",
    "    specs = {}\n",
    "    \n",
    "    if 'top' in row:\n",
    "        for item in row['top']:\n",
    "            key = item.get('key', '').strip() if isinstance(item.get('key'), str) else item.get('key', '')\n",
    "            value = item.get('value', '').strip() if isinstance(item.get('value'), str) else item.get('value', '')\n",
    "            specs[key] = value\n",
    "    \n",
    "    if 'data' in row:\n",
    "        for section in row['data']:\n",
    "            for item in section.get('list', []):\n",
    "                key = item.get('key', '').strip() if isinstance(item.get('key'), str) else item.get('key', '')\n",
    "                value = item.get('value', '').strip() if isinstance(item.get('value'), str) else item.get('value', '')\n",
    "                specs[key] = value\n",
    "    \n",
    "    return specs"
   ]
  },
  {
   "cell_type": "code",
   "execution_count": 100,
   "metadata": {},
   "outputs": [],
   "source": [
    "df_specs = df['new_car_specs'].apply(extract_specs).apply(pd.Series, dtype='object')"
   ]
  },
  {
   "cell_type": "code",
   "execution_count": 101,
   "metadata": {},
   "outputs": [],
   "source": [
    "new_car_specs = pd.concat([new_car_overview, df_specs], axis=1)"
   ]
  },
  {
   "cell_type": "markdown",
   "metadata": {},
   "source": [
    "**new_car_feature column**"
   ]
  },
  {
   "cell_type": "markdown",
   "metadata": {},
   "source": [
    "**Count the values and stored in that heading . **"
   ]
  },
  {
   "cell_type": "code",
   "execution_count": 102,
   "metadata": {},
   "outputs": [],
   "source": [
    "def parse_column(data_column):\n",
    "    return data_column.apply(lambda x: ast.literal_eval(x) if isinstance(x, str) else {})"
   ]
  },
  {
   "cell_type": "code",
   "execution_count": 103,
   "metadata": {},
   "outputs": [],
   "source": [
    "df['new_car_feature'] = parse_column(df['new_car_feature'])"
   ]
  },
  {
   "cell_type": "code",
   "execution_count": 104,
   "metadata": {},
   "outputs": [],
   "source": [
    "def count_features_top(row):\n",
    "    if 'top' in row:\n",
    "        return len(row['top']) \n",
    "    return 0"
   ]
  },
  {
   "cell_type": "code",
   "execution_count": 105,
   "metadata": {},
   "outputs": [],
   "source": [
    "def count_features_data(row):\n",
    "    counts = {}\n",
    "    if 'data' in row:\n",
    "        for category in row['data']:\n",
    "            heading = category.get('heading', '').strip()  \n",
    "            feature_list = category.get('list', [])  \n",
    "            counts[heading] = len(feature_list)  \n",
    "    return counts"
   ]
  },
  {
   "cell_type": "code",
   "execution_count": 106,
   "metadata": {},
   "outputs": [],
   "source": [
    "df['features'] = df['new_car_feature'].apply(count_features_top)"
   ]
  },
  {
   "cell_type": "code",
   "execution_count": 107,
   "metadata": {},
   "outputs": [
    {
     "name": "stderr",
     "output_type": "stream",
     "text": [
      "C:\\Users\\Theri Jeeva\\AppData\\Local\\Temp\\ipykernel_24976\\3915894312.py:1: FutureWarning: The default dtype for empty Series will be 'object' instead of 'float64' in a future version. Specify a dtype explicitly to silence this warning.\n",
      "  feature_counts_df = df['new_car_feature'].apply(count_features_data).apply(pd.Series).fillna(0)\n",
      "C:\\Users\\Theri Jeeva\\AppData\\Local\\Temp\\ipykernel_24976\\3915894312.py:1: FutureWarning: The default dtype for empty Series will be 'object' instead of 'float64' in a future version. Specify a dtype explicitly to silence this warning.\n",
      "  feature_counts_df = df['new_car_feature'].apply(count_features_data).apply(pd.Series).fillna(0)\n",
      "C:\\Users\\Theri Jeeva\\AppData\\Local\\Temp\\ipykernel_24976\\3915894312.py:1: FutureWarning: The default dtype for empty Series will be 'object' instead of 'float64' in a future version. Specify a dtype explicitly to silence this warning.\n",
      "  feature_counts_df = df['new_car_feature'].apply(count_features_data).apply(pd.Series).fillna(0)\n",
      "C:\\Users\\Theri Jeeva\\AppData\\Local\\Temp\\ipykernel_24976\\3915894312.py:1: FutureWarning: The default dtype for empty Series will be 'object' instead of 'float64' in a future version. Specify a dtype explicitly to silence this warning.\n",
      "  feature_counts_df = df['new_car_feature'].apply(count_features_data).apply(pd.Series).fillna(0)\n",
      "C:\\Users\\Theri Jeeva\\AppData\\Local\\Temp\\ipykernel_24976\\3915894312.py:1: FutureWarning: The default dtype for empty Series will be 'object' instead of 'float64' in a future version. Specify a dtype explicitly to silence this warning.\n",
      "  feature_counts_df = df['new_car_feature'].apply(count_features_data).apply(pd.Series).fillna(0)\n",
      "C:\\Users\\Theri Jeeva\\AppData\\Local\\Temp\\ipykernel_24976\\3915894312.py:1: FutureWarning: The default dtype for empty Series will be 'object' instead of 'float64' in a future version. Specify a dtype explicitly to silence this warning.\n",
      "  feature_counts_df = df['new_car_feature'].apply(count_features_data).apply(pd.Series).fillna(0)\n",
      "C:\\Users\\Theri Jeeva\\AppData\\Local\\Temp\\ipykernel_24976\\3915894312.py:1: FutureWarning: The default dtype for empty Series will be 'object' instead of 'float64' in a future version. Specify a dtype explicitly to silence this warning.\n",
      "  feature_counts_df = df['new_car_feature'].apply(count_features_data).apply(pd.Series).fillna(0)\n"
     ]
    }
   ],
   "source": [
    "feature_counts_df = df['new_car_feature'].apply(count_features_data).apply(pd.Series).fillna(0)\n",
    "feature_counts_df = feature_counts_df.astype(int)"
   ]
  },
  {
   "cell_type": "code",
   "execution_count": 108,
   "metadata": {},
   "outputs": [],
   "source": [
    "new_car_feature = pd.concat([new_car_specs, feature_counts_df], axis=1)"
   ]
  },
  {
   "cell_type": "markdown",
   "metadata": {},
   "source": [
    "**Add new column for city . **\n"
   ]
  },
  {
   "cell_type": "code",
   "execution_count": 109,
   "metadata": {},
   "outputs": [],
   "source": [
    "new_car_features['City'] = 'Jaipur'"
   ]
  },
  {
   "cell_type": "code",
   "execution_count": 110,
   "metadata": {},
   "outputs": [],
   "source": [
    "jaipur = new_car_features.drop(columns = [ 'new_car_overview', 'new_car_feature', 'new_car_specs', 'car_links'])"
   ]
  },
  {
   "cell_type": "code",
   "execution_count": 111,
   "metadata": {},
   "outputs": [],
   "source": [
    "jaipur.to_csv(r'D:\\Education\\Project\\Sachin\\Car price prediction\\Data set\\Structured data\\jaipur_cars.csv', index=False)"
   ]
  },
  {
   "cell_type": "markdown",
   "metadata": {},
   "source": [
    "****\n",
    "### Hyderabad_Cars_dataset\n"
   ]
  },
  {
   "cell_type": "code",
   "execution_count": 112,
   "metadata": {},
   "outputs": [],
   "source": [
    "df = pd.read_excel(r'D:\\Education\\Project\\Sachin\\Car price prediction\\Data set\\Unstructured data\\hyderabad_cars.xlsx')"
   ]
  },
  {
   "cell_type": "markdown",
   "metadata": {},
   "source": [
    "**new_car_detail column**"
   ]
  },
  {
   "cell_type": "markdown",
   "metadata": {},
   "source": [
    "**convert a nested dictionary into a flat dictionary using flatten_dict function **"
   ]
  },
  {
   "cell_type": "code",
   "execution_count": 113,
   "metadata": {},
   "outputs": [],
   "source": [
    "def flatten_dict(d):\n",
    "\n",
    "    flat_dict = {}\n",
    "    for key, value in d.items():\n",
    "        if isinstance(value, dict):\n",
    "            for sub_key, sub_value in flatten_dict(value).items():\n",
    "                flat_dict[f\"{key}_{sub_key}\"] = sub_value\n",
    "        else:\n",
    "            flat_dict[key] = value\n",
    "    return flat_dict"
   ]
  },
  {
   "cell_type": "code",
   "execution_count": 114,
   "metadata": {},
   "outputs": [],
   "source": [
    "columns_to_flatten = ['new_car_detail']"
   ]
  },
  {
   "cell_type": "code",
   "execution_count": 115,
   "metadata": {},
   "outputs": [],
   "source": [
    "for col in columns_to_flatten:\n",
    "    if col in df.columns:\n",
    "        flattened_column = pd.DataFrame([flatten_dict(eval(row)) for row in df[col].dropna()])\n",
    "\n",
    "        flattened_column.columns = [f\"{c}\" for c in flattened_column.columns]\n",
    "\n",
    "        df = pd.concat([df, flattened_column], axis=1)\n",
    "        \n",
    "new_car_details = df.drop(columns=columns_to_flatten)"
   ]
  },
  {
   "cell_type": "markdown",
   "metadata": {},
   "source": [
    "**new_car_overview column**"
   ]
  },
  {
   "cell_type": "markdown",
   "metadata": {
    "execution": {
     "iopub.execute_input": "2023-05-07T14:24:04.200704Z",
     "iopub.status.busy": "2023-05-07T14:24:04.200348Z",
     "iopub.status.idle": "2023-05-07T14:24:04.238008Z",
     "shell.execute_reply": "2023-05-07T14:24:04.236868Z",
     "shell.execute_reply.started": "2023-05-07T14:24:04.200670Z"
    }
   },
   "source": [
    " **Take key as a column name & value as a its value **"
   ]
  },
  {
   "cell_type": "code",
   "execution_count": 116,
   "metadata": {},
   "outputs": [],
   "source": [
    "def extract_key_value_safe(data):\n",
    "    try:\n",
    "        data_dict = ast.literal_eval(data)\n",
    "        \n",
    "        key_value_dict = {}\n",
    "        for item in data_dict.get('top', []):\n",
    "            key = item.get('key', '')  \n",
    "            value = item.get('value', '')  \n",
    "            if key:\n",
    "                key_value_dict[key] = value\n",
    "        \n",
    "        return key_value_dict\n",
    "    \n",
    "    except (ValueError, SyntaxError):\n",
    "        return {}"
   ]
  },
  {
   "cell_type": "code",
   "execution_count": 117,
   "metadata": {},
   "outputs": [],
   "source": [
    "df_overview = new_car_details['new_car_overview'].apply(extract_key_value_safe).apply(pd.Series)"
   ]
  },
  {
   "cell_type": "code",
   "execution_count": 118,
   "metadata": {},
   "outputs": [],
   "source": [
    "new_car_overview = pd.concat([df_overview, new_car_details], axis=1)"
   ]
  },
  {
   "cell_type": "markdown",
   "metadata": {},
   "source": [
    "**new_car_specs column**"
   ]
  },
  {
   "cell_type": "markdown",
   "metadata": {},
   "source": [
    "**Take key as a column name & value as a its value in different section . **"
   ]
  },
  {
   "cell_type": "code",
   "execution_count": 119,
   "metadata": {},
   "outputs": [],
   "source": [
    "def parse_column(data_column):\n",
    "    return data_column.apply(lambda x: ast.literal_eval(x) if isinstance(x, str) else {})"
   ]
  },
  {
   "cell_type": "code",
   "execution_count": 120,
   "metadata": {},
   "outputs": [],
   "source": [
    "df['new_car_specs'] = parse_column(df['new_car_specs'])"
   ]
  },
  {
   "cell_type": "code",
   "execution_count": 121,
   "metadata": {},
   "outputs": [],
   "source": [
    "def extract_specs(row):\n",
    "    specs = {}\n",
    "    \n",
    "    if 'top' in row:\n",
    "        for item in row['top']:\n",
    "            key = item.get('key', '').strip() if isinstance(item.get('key'), str) else item.get('key', '')\n",
    "            value = item.get('value', '').strip() if isinstance(item.get('value'), str) else item.get('value', '')\n",
    "            specs[key] = value\n",
    "    \n",
    "    if 'data' in row:\n",
    "        for section in row['data']:\n",
    "            for item in section.get('list', []):\n",
    "                key = item.get('key', '').strip() if isinstance(item.get('key'), str) else item.get('key', '')\n",
    "                value = item.get('value', '').strip() if isinstance(item.get('value'), str) else item.get('value', '')\n",
    "                specs[key] = value\n",
    "    \n",
    "    return specs"
   ]
  },
  {
   "cell_type": "code",
   "execution_count": 122,
   "metadata": {},
   "outputs": [],
   "source": [
    "df_specs = df['new_car_specs'].apply(extract_specs).apply(pd.Series, dtype='object')"
   ]
  },
  {
   "cell_type": "code",
   "execution_count": 123,
   "metadata": {},
   "outputs": [],
   "source": [
    "new_car_specs = pd.concat([new_car_overview, df_specs], axis=1)"
   ]
  },
  {
   "cell_type": "markdown",
   "metadata": {},
   "source": [
    "**new_car_feature column**"
   ]
  },
  {
   "cell_type": "markdown",
   "metadata": {},
   "source": [
    "**Count the values and stored in that heading . **"
   ]
  },
  {
   "cell_type": "code",
   "execution_count": 124,
   "metadata": {},
   "outputs": [],
   "source": [
    "def parse_column(data_column):\n",
    "    return data_column.apply(lambda x: ast.literal_eval(x) if isinstance(x, str) else {})"
   ]
  },
  {
   "cell_type": "code",
   "execution_count": 125,
   "metadata": {},
   "outputs": [],
   "source": [
    "df['new_car_feature'] = parse_column(df['new_car_feature'])"
   ]
  },
  {
   "cell_type": "code",
   "execution_count": 126,
   "metadata": {},
   "outputs": [],
   "source": [
    "def count_features_top(row):\n",
    "    if 'top' in row:\n",
    "        return len(row['top'])  \n",
    "    return 0"
   ]
  },
  {
   "cell_type": "code",
   "execution_count": 127,
   "metadata": {},
   "outputs": [],
   "source": [
    "def count_features_data(row):\n",
    "    counts = {}\n",
    "    if 'data' in row:\n",
    "        for category in row['data']:\n",
    "            heading = category.get('heading', '').strip()  \n",
    "            feature_list = category.get('list', [])  \n",
    "            counts[heading] = len(feature_list) \n",
    "    return counts"
   ]
  },
  {
   "cell_type": "code",
   "execution_count": 128,
   "metadata": {},
   "outputs": [],
   "source": [
    "df['features'] = df['new_car_feature'].apply(count_features_top)"
   ]
  },
  {
   "cell_type": "code",
   "execution_count": 129,
   "metadata": {},
   "outputs": [
    {
     "name": "stderr",
     "output_type": "stream",
     "text": [
      "C:\\Users\\Theri Jeeva\\AppData\\Local\\Temp\\ipykernel_24976\\3915894312.py:1: FutureWarning: The default dtype for empty Series will be 'object' instead of 'float64' in a future version. Specify a dtype explicitly to silence this warning.\n",
      "  feature_counts_df = df['new_car_feature'].apply(count_features_data).apply(pd.Series).fillna(0)\n",
      "C:\\Users\\Theri Jeeva\\AppData\\Local\\Temp\\ipykernel_24976\\3915894312.py:1: FutureWarning: The default dtype for empty Series will be 'object' instead of 'float64' in a future version. Specify a dtype explicitly to silence this warning.\n",
      "  feature_counts_df = df['new_car_feature'].apply(count_features_data).apply(pd.Series).fillna(0)\n",
      "C:\\Users\\Theri Jeeva\\AppData\\Local\\Temp\\ipykernel_24976\\3915894312.py:1: FutureWarning: The default dtype for empty Series will be 'object' instead of 'float64' in a future version. Specify a dtype explicitly to silence this warning.\n",
      "  feature_counts_df = df['new_car_feature'].apply(count_features_data).apply(pd.Series).fillna(0)\n",
      "C:\\Users\\Theri Jeeva\\AppData\\Local\\Temp\\ipykernel_24976\\3915894312.py:1: FutureWarning: The default dtype for empty Series will be 'object' instead of 'float64' in a future version. Specify a dtype explicitly to silence this warning.\n",
      "  feature_counts_df = df['new_car_feature'].apply(count_features_data).apply(pd.Series).fillna(0)\n",
      "C:\\Users\\Theri Jeeva\\AppData\\Local\\Temp\\ipykernel_24976\\3915894312.py:1: FutureWarning: The default dtype for empty Series will be 'object' instead of 'float64' in a future version. Specify a dtype explicitly to silence this warning.\n",
      "  feature_counts_df = df['new_car_feature'].apply(count_features_data).apply(pd.Series).fillna(0)\n",
      "C:\\Users\\Theri Jeeva\\AppData\\Local\\Temp\\ipykernel_24976\\3915894312.py:1: FutureWarning: The default dtype for empty Series will be 'object' instead of 'float64' in a future version. Specify a dtype explicitly to silence this warning.\n",
      "  feature_counts_df = df['new_car_feature'].apply(count_features_data).apply(pd.Series).fillna(0)\n",
      "C:\\Users\\Theri Jeeva\\AppData\\Local\\Temp\\ipykernel_24976\\3915894312.py:1: FutureWarning: The default dtype for empty Series will be 'object' instead of 'float64' in a future version. Specify a dtype explicitly to silence this warning.\n",
      "  feature_counts_df = df['new_car_feature'].apply(count_features_data).apply(pd.Series).fillna(0)\n",
      "C:\\Users\\Theri Jeeva\\AppData\\Local\\Temp\\ipykernel_24976\\3915894312.py:1: FutureWarning: The default dtype for empty Series will be 'object' instead of 'float64' in a future version. Specify a dtype explicitly to silence this warning.\n",
      "  feature_counts_df = df['new_car_feature'].apply(count_features_data).apply(pd.Series).fillna(0)\n",
      "C:\\Users\\Theri Jeeva\\AppData\\Local\\Temp\\ipykernel_24976\\3915894312.py:1: FutureWarning: The default dtype for empty Series will be 'object' instead of 'float64' in a future version. Specify a dtype explicitly to silence this warning.\n",
      "  feature_counts_df = df['new_car_feature'].apply(count_features_data).apply(pd.Series).fillna(0)\n"
     ]
    }
   ],
   "source": [
    "feature_counts_df = df['new_car_feature'].apply(count_features_data).apply(pd.Series).fillna(0)\n",
    "feature_counts_df = feature_counts_df.astype(int)"
   ]
  },
  {
   "cell_type": "code",
   "execution_count": 130,
   "metadata": {},
   "outputs": [],
   "source": [
    "new_car_feature = pd.concat([new_car_specs, feature_counts_df], axis=1)"
   ]
  },
  {
   "cell_type": "markdown",
   "metadata": {},
   "source": [
    "**Add new column for city . **"
   ]
  },
  {
   "cell_type": "code",
   "execution_count": 131,
   "metadata": {},
   "outputs": [],
   "source": [
    "new_car_features['City'] = 'Hyderabad'"
   ]
  },
  {
   "cell_type": "code",
   "execution_count": 132,
   "metadata": {},
   "outputs": [],
   "source": [
    "hyderabad = new_car_features.drop(columns = [ 'new_car_overview', 'new_car_feature', 'new_car_specs', 'car_links'])"
   ]
  },
  {
   "cell_type": "code",
   "execution_count": 133,
   "metadata": {},
   "outputs": [],
   "source": [
    "hyderabad.to_csv(r'D:\\Education\\Project\\Sachin\\Car price prediction\\Data set\\Structured data\\hyderabad_cars.csv', index=False)"
   ]
  },
  {
   "cell_type": "markdown",
   "metadata": {},
   "source": [
    "**Concatenate all datasets and make it as a single dataset. **"
   ]
  },
  {
   "cell_type": "code",
   "execution_count": 134,
   "metadata": {},
   "outputs": [],
   "source": [
    "csv_files = ['chennai_cars.csv', 'bangalore_cars.csv', 'delhi_cars.csv', 'hyderabad_cars.csv' , 'jaipur_cars.csv', 'kolkata_cars.csv'] "
   ]
  },
  {
   "cell_type": "code",
   "execution_count": 135,
   "metadata": {},
   "outputs": [],
   "source": [
    "dfs = [pd.read_csv(file) for file in csv_files]"
   ]
  },
  {
   "cell_type": "code",
   "execution_count": 136,
   "metadata": {},
   "outputs": [],
   "source": [
    "car_prices_prediction_dataset = pd.concat(dfs, ignore_index=True)"
   ]
  },
  {
   "cell_type": "code",
   "execution_count": 137,
   "metadata": {},
   "outputs": [],
   "source": [
    "car_prices_prediction_dataset.to_csv(r'D:\\Education\\Project\\Sachin\\Car price prediction\\Data set\\car_prices_prediction_dataset.csv', index=False)"
   ]
  },
  {
   "cell_type": "code",
   "execution_count": 138,
   "metadata": {},
   "outputs": [
    {
     "name": "stdout",
     "output_type": "stream",
     "text": [
      "<class 'pandas.core.frame.DataFrame'>\n",
      "RangeIndex: 8369 entries, 0 to 8368\n",
      "Data columns (total 75 columns):\n",
      " #   Column                         Non-Null Count  Dtype  \n",
      "---  ------                         --------------  -----  \n",
      " 0   Registration Year              8317 non-null   object \n",
      " 1   Insurance Validity             8365 non-null   object \n",
      " 2   Fuel Type                      8369 non-null   object \n",
      " 3   Seats                          8363 non-null   object \n",
      " 4   Kms Driven                     8367 non-null   object \n",
      " 5   RTO                            7475 non-null   object \n",
      " 6   Ownership                      8337 non-null   object \n",
      " 7   Engine Displacement            8365 non-null   object \n",
      " 8   Transmission                   8369 non-null   object \n",
      " 9   Year of Manufacture            8349 non-null   float64\n",
      " 10  it                             8369 non-null   int64  \n",
      " 11  ft                             8369 non-null   object \n",
      " 12  bt                             8365 non-null   object \n",
      " 13  km                             8369 non-null   object \n",
      " 14  transmission                   8369 non-null   object \n",
      " 15  ownerNo                        8369 non-null   int64  \n",
      " 16  owner                          8369 non-null   object \n",
      " 17  oem                            8369 non-null   object \n",
      " 18  model                          8369 non-null   object \n",
      " 19  modelYear                      8369 non-null   int64  \n",
      " 20  centralVariantId               8369 non-null   int64  \n",
      " 21  variantName                    8369 non-null   object \n",
      " 22  price                          8369 non-null   object \n",
      " 23  priceActual                    1670 non-null   object \n",
      " 24  priceSaving                    0 non-null      float64\n",
      " 25  priceFixedText                 0 non-null      float64\n",
      " 26  trendingText_imgUrl            8369 non-null   object \n",
      " 27  trendingText_heading           8369 non-null   object \n",
      " 28  trendingText_desc              8369 non-null   object \n",
      " 29  Engine                         8365 non-null   object \n",
      " 30  Max Power                      8309 non-null   object \n",
      " 31  Torque                         8309 non-null   object \n",
      " 32  Wheel Size                     5386 non-null   object \n",
      " 33  Seats.1                        8363 non-null   float64\n",
      " 34  Color                          8366 non-null   object \n",
      " 35  Engine Type                    8074 non-null   object \n",
      " 36  Displacement                   8365 non-null   float64\n",
      " 37  Max Torque                     8309 non-null   object \n",
      " 38  No of Cylinder                 8338 non-null   float64\n",
      " 39  Values per Cylinder            8318 non-null   float64\n",
      " 40  Fuel Suppy System              6642 non-null   object \n",
      " 41  Turbo Charger                  7329 non-null   object \n",
      " 42  Length                         8290 non-null   object \n",
      " 43  Width                          8286 non-null   object \n",
      " 44  Height                         8290 non-null   object \n",
      " 45  Wheel Base                     8206 non-null   object \n",
      " 46  Kerb Weight                    8310 non-null   object \n",
      " 47  Gear Box                       8263 non-null   object \n",
      " 48  Drive Type                     6809 non-null   object \n",
      " 49  Seating Capacity               8363 non-null   float64\n",
      " 50  Steering Type                  8114 non-null   object \n",
      " 51  Front Brake Type               8273 non-null   object \n",
      " 52  Rear Brake Type                8273 non-null   object \n",
      " 53  Tyre Type                      8292 non-null   object \n",
      " 54  Alloy Wheel Size               5386 non-null   object \n",
      " 55  No Door Numbers                8358 non-null   float64\n",
      " 56  Cargo Volumn                   6776 non-null   object \n",
      " 57  Mileage                        8082 non-null   object \n",
      " 58  Value Configuration            6153 non-null   object \n",
      " 59  Compression Ratio              1895 non-null   object \n",
      " 60  Super Charger                  6407 non-null   object \n",
      " 61  Front Tread                    4811 non-null   object \n",
      " 62  Rear Tread                     4799 non-null   object \n",
      " 63  Gross Weight                   3828 non-null   object \n",
      " 64  Turning Radius                 6769 non-null   object \n",
      " 65  Top Speed                      4582 non-null   object \n",
      " 66  Acceleration                   4857 non-null   object \n",
      " 67  BoreX Stroke                   2405 non-null   object \n",
      " 68  Ground Clearance Unladen       515 non-null    object \n",
      " 69  Comfort & Convenience          8369 non-null   int64  \n",
      " 70  Interior                       8369 non-null   int64  \n",
      " 71  Exterior                       8369 non-null   int64  \n",
      " 72  Safety                         8369 non-null   int64  \n",
      " 73  Entertainment & Communication  8369 non-null   int64  \n",
      " 74  City                           8369 non-null   object \n",
      "dtypes: float64(9), int64(9), object(57)\n",
      "memory usage: 4.8+ MB\n"
     ]
    }
   ],
   "source": [
    "cp = car_prices_prediction_dataset\n",
    "cp.info()"
   ]
  },
  {
   "cell_type": "markdown",
   "metadata": {},
   "source": [
    "**Taking 14 attributes for model**"
   ]
  },
  {
   "cell_type": "code",
   "execution_count": 139,
   "metadata": {},
   "outputs": [],
   "source": [
    "cpd = cp[['oem', 'model', 'Transmission', 'Year of Manufacture', 'modelYear', 'Gear Box', 'City', 'Insurance Validity', 'ownerNo', 'Fuel Type',\n",
    "         'Kms Driven', 'bt', 'Mileage', 'price']]"
   ]
  },
  {
   "cell_type": "code",
   "execution_count": 140,
   "metadata": {},
   "outputs": [
    {
     "data": {
      "text/html": [
       "<div>\n",
       "<style scoped>\n",
       "    .dataframe tbody tr th:only-of-type {\n",
       "        vertical-align: middle;\n",
       "    }\n",
       "\n",
       "    .dataframe tbody tr th {\n",
       "        vertical-align: top;\n",
       "    }\n",
       "\n",
       "    .dataframe thead th {\n",
       "        text-align: right;\n",
       "    }\n",
       "</style>\n",
       "<table border=\"1\" class=\"dataframe\">\n",
       "  <thead>\n",
       "    <tr style=\"text-align: right;\">\n",
       "      <th></th>\n",
       "      <th>oem</th>\n",
       "      <th>model</th>\n",
       "      <th>Transmission</th>\n",
       "      <th>Year of Manufacture</th>\n",
       "      <th>modelYear</th>\n",
       "      <th>Gear Box</th>\n",
       "      <th>City</th>\n",
       "      <th>Insurance Validity</th>\n",
       "      <th>ownerNo</th>\n",
       "      <th>Fuel Type</th>\n",
       "      <th>Kms Driven</th>\n",
       "      <th>bt</th>\n",
       "      <th>Mileage</th>\n",
       "      <th>price</th>\n",
       "    </tr>\n",
       "  </thead>\n",
       "  <tbody>\n",
       "    <tr>\n",
       "      <th>0</th>\n",
       "      <td>Kia</td>\n",
       "      <td>Kia Sonet</td>\n",
       "      <td>Automatic</td>\n",
       "      <td>2022.0</td>\n",
       "      <td>2022</td>\n",
       "      <td>7-Speed DCT</td>\n",
       "      <td>Chennai</td>\n",
       "      <td>Third Party insurance</td>\n",
       "      <td>1</td>\n",
       "      <td>Petrol</td>\n",
       "      <td>20,000 Kms</td>\n",
       "      <td>SUV</td>\n",
       "      <td>NaN</td>\n",
       "      <td>₹ 11.50 Lakh</td>\n",
       "    </tr>\n",
       "    <tr>\n",
       "      <th>1</th>\n",
       "      <td>Maruti</td>\n",
       "      <td>Maruti Eeco</td>\n",
       "      <td>Manual</td>\n",
       "      <td>2015.0</td>\n",
       "      <td>2015</td>\n",
       "      <td>5 Speed</td>\n",
       "      <td>Chennai</td>\n",
       "      <td>Comprehensive</td>\n",
       "      <td>1</td>\n",
       "      <td>Petrol</td>\n",
       "      <td>20,687 Kms</td>\n",
       "      <td>Minivans</td>\n",
       "      <td>15.37 kmpl</td>\n",
       "      <td>₹ 4.15 Lakh</td>\n",
       "    </tr>\n",
       "    <tr>\n",
       "      <th>2</th>\n",
       "      <td>Nissan</td>\n",
       "      <td>Nissan Magnite</td>\n",
       "      <td>Manual</td>\n",
       "      <td>2021.0</td>\n",
       "      <td>2021</td>\n",
       "      <td>5 Speed</td>\n",
       "      <td>Chennai</td>\n",
       "      <td>Third Party insurance</td>\n",
       "      <td>1</td>\n",
       "      <td>Petrol</td>\n",
       "      <td>30,000 Kms</td>\n",
       "      <td>SUV</td>\n",
       "      <td>20 kmpl</td>\n",
       "      <td>₹ 7.50 Lakh</td>\n",
       "    </tr>\n",
       "    <tr>\n",
       "      <th>3</th>\n",
       "      <td>Hyundai</td>\n",
       "      <td>Hyundai i10</td>\n",
       "      <td>Manual</td>\n",
       "      <td>2015.0</td>\n",
       "      <td>2015</td>\n",
       "      <td>5 Speed</td>\n",
       "      <td>Chennai</td>\n",
       "      <td>Comprehensive</td>\n",
       "      <td>1</td>\n",
       "      <td>Petrol</td>\n",
       "      <td>59,247 Kms</td>\n",
       "      <td>Hatchback</td>\n",
       "      <td>19.81 kmpl</td>\n",
       "      <td>₹ 3.98 Lakh</td>\n",
       "    </tr>\n",
       "    <tr>\n",
       "      <th>4</th>\n",
       "      <td>Honda</td>\n",
       "      <td>Honda Jazz</td>\n",
       "      <td>Manual</td>\n",
       "      <td>2015.0</td>\n",
       "      <td>2015</td>\n",
       "      <td>5 Speed</td>\n",
       "      <td>Chennai</td>\n",
       "      <td>Third Party insurance</td>\n",
       "      <td>1</td>\n",
       "      <td>Petrol</td>\n",
       "      <td>50,000 Kms</td>\n",
       "      <td>Hatchback</td>\n",
       "      <td>18.7 kmpl</td>\n",
       "      <td>₹ 5.50 Lakh</td>\n",
       "    </tr>\n",
       "    <tr>\n",
       "      <th>...</th>\n",
       "      <td>...</td>\n",
       "      <td>...</td>\n",
       "      <td>...</td>\n",
       "      <td>...</td>\n",
       "      <td>...</td>\n",
       "      <td>...</td>\n",
       "      <td>...</td>\n",
       "      <td>...</td>\n",
       "      <td>...</td>\n",
       "      <td>...</td>\n",
       "      <td>...</td>\n",
       "      <td>...</td>\n",
       "      <td>...</td>\n",
       "      <td>...</td>\n",
       "    </tr>\n",
       "    <tr>\n",
       "      <th>8364</th>\n",
       "      <td>Maruti</td>\n",
       "      <td>Maruti Celerio</td>\n",
       "      <td>Manual</td>\n",
       "      <td>2022.0</td>\n",
       "      <td>2022</td>\n",
       "      <td>5-Speed</td>\n",
       "      <td>Kolkata</td>\n",
       "      <td>Third Party insurance</td>\n",
       "      <td>1</td>\n",
       "      <td>Petrol</td>\n",
       "      <td>10,000 Kms</td>\n",
       "      <td>Hatchback</td>\n",
       "      <td>25.24 kmpl</td>\n",
       "      <td>₹ 5.10 Lakh</td>\n",
       "    </tr>\n",
       "    <tr>\n",
       "      <th>8365</th>\n",
       "      <td>Maruti</td>\n",
       "      <td>Maruti Alto 800</td>\n",
       "      <td>Manual</td>\n",
       "      <td>2014.0</td>\n",
       "      <td>2014</td>\n",
       "      <td>5 Speed</td>\n",
       "      <td>Kolkata</td>\n",
       "      <td>Third Party insurance</td>\n",
       "      <td>1</td>\n",
       "      <td>Petrol</td>\n",
       "      <td>1,20,000 Kms</td>\n",
       "      <td>Hatchback</td>\n",
       "      <td>22.74 kmpl</td>\n",
       "      <td>₹ 1.80 Lakh</td>\n",
       "    </tr>\n",
       "    <tr>\n",
       "      <th>8366</th>\n",
       "      <td>Mercedes-Benz</td>\n",
       "      <td>Mercedes-Benz C-Class</td>\n",
       "      <td>Automatic</td>\n",
       "      <td>2011.0</td>\n",
       "      <td>2011</td>\n",
       "      <td>7 Speed</td>\n",
       "      <td>Kolkata</td>\n",
       "      <td>Third Party insurance</td>\n",
       "      <td>3</td>\n",
       "      <td>Petrol</td>\n",
       "      <td>50,000 Kms</td>\n",
       "      <td>Sedan</td>\n",
       "      <td>11.74 kmpl</td>\n",
       "      <td>₹ 5.50 Lakh</td>\n",
       "    </tr>\n",
       "    <tr>\n",
       "      <th>8367</th>\n",
       "      <td>Maruti</td>\n",
       "      <td>Maruti Ritz</td>\n",
       "      <td>Manual</td>\n",
       "      <td>2012.0</td>\n",
       "      <td>2012</td>\n",
       "      <td>5 Speed</td>\n",
       "      <td>Kolkata</td>\n",
       "      <td>Third Party insurance</td>\n",
       "      <td>1</td>\n",
       "      <td>Petrol</td>\n",
       "      <td>40,000 Kms</td>\n",
       "      <td>Hatchback</td>\n",
       "      <td>18.5 kmpl</td>\n",
       "      <td>₹ 1.40 Lakh</td>\n",
       "    </tr>\n",
       "    <tr>\n",
       "      <th>8368</th>\n",
       "      <td>Renault</td>\n",
       "      <td>Renault Duster</td>\n",
       "      <td>Manual</td>\n",
       "      <td>2017.0</td>\n",
       "      <td>2017</td>\n",
       "      <td>6 Speed</td>\n",
       "      <td>Kolkata</td>\n",
       "      <td>Third Party insurance</td>\n",
       "      <td>2</td>\n",
       "      <td>Diesel</td>\n",
       "      <td>1,20,000 Kms</td>\n",
       "      <td>SUV</td>\n",
       "      <td>19.72 kmpl</td>\n",
       "      <td>₹ 5 Lakh</td>\n",
       "    </tr>\n",
       "  </tbody>\n",
       "</table>\n",
       "<p>8250 rows × 14 columns</p>\n",
       "</div>"
      ],
      "text/plain": [
       "                oem                  model Transmission  Year of Manufacture  \\\n",
       "0               Kia              Kia Sonet    Automatic               2022.0   \n",
       "1            Maruti            Maruti Eeco       Manual               2015.0   \n",
       "2            Nissan         Nissan Magnite       Manual               2021.0   \n",
       "3           Hyundai            Hyundai i10       Manual               2015.0   \n",
       "4             Honda             Honda Jazz       Manual               2015.0   \n",
       "...             ...                    ...          ...                  ...   \n",
       "8364         Maruti         Maruti Celerio       Manual               2022.0   \n",
       "8365         Maruti        Maruti Alto 800       Manual               2014.0   \n",
       "8366  Mercedes-Benz  Mercedes-Benz C-Class    Automatic               2011.0   \n",
       "8367         Maruti            Maruti Ritz       Manual               2012.0   \n",
       "8368        Renault         Renault Duster       Manual               2017.0   \n",
       "\n",
       "      modelYear     Gear Box     City     Insurance Validity  ownerNo  \\\n",
       "0          2022  7-Speed DCT  Chennai  Third Party insurance        1   \n",
       "1          2015      5 Speed  Chennai          Comprehensive        1   \n",
       "2          2021      5 Speed  Chennai  Third Party insurance        1   \n",
       "3          2015      5 Speed  Chennai          Comprehensive        1   \n",
       "4          2015      5 Speed  Chennai  Third Party insurance        1   \n",
       "...         ...          ...      ...                    ...      ...   \n",
       "8364       2022      5-Speed  Kolkata  Third Party insurance        1   \n",
       "8365       2014      5 Speed  Kolkata  Third Party insurance        1   \n",
       "8366       2011      7 Speed  Kolkata  Third Party insurance        3   \n",
       "8367       2012      5 Speed  Kolkata  Third Party insurance        1   \n",
       "8368       2017      6 Speed  Kolkata  Third Party insurance        2   \n",
       "\n",
       "     Fuel Type    Kms Driven         bt     Mileage         price  \n",
       "0       Petrol    20,000 Kms        SUV         NaN  ₹ 11.50 Lakh  \n",
       "1       Petrol    20,687 Kms   Minivans  15.37 kmpl   ₹ 4.15 Lakh  \n",
       "2       Petrol    30,000 Kms        SUV     20 kmpl   ₹ 7.50 Lakh  \n",
       "3       Petrol    59,247 Kms  Hatchback  19.81 kmpl   ₹ 3.98 Lakh  \n",
       "4       Petrol    50,000 Kms  Hatchback   18.7 kmpl   ₹ 5.50 Lakh  \n",
       "...        ...           ...        ...         ...           ...  \n",
       "8364    Petrol    10,000 Kms  Hatchback  25.24 kmpl   ₹ 5.10 Lakh  \n",
       "8365    Petrol  1,20,000 Kms  Hatchback  22.74 kmpl   ₹ 1.80 Lakh  \n",
       "8366    Petrol    50,000 Kms      Sedan  11.74 kmpl   ₹ 5.50 Lakh  \n",
       "8367    Petrol    40,000 Kms  Hatchback   18.5 kmpl   ₹ 1.40 Lakh  \n",
       "8368    Diesel  1,20,000 Kms        SUV  19.72 kmpl      ₹ 5 Lakh  \n",
       "\n",
       "[8250 rows x 14 columns]"
      ]
     },
     "execution_count": 140,
     "metadata": {},
     "output_type": "execute_result"
    }
   ],
   "source": [
    "cpd.drop_duplicates()"
   ]
  },
  {
   "cell_type": "code",
   "execution_count": 141,
   "metadata": {},
   "outputs": [
    {
     "name": "stdout",
     "output_type": "stream",
     "text": [
      "<class 'pandas.core.frame.DataFrame'>\n",
      "RangeIndex: 8369 entries, 0 to 8368\n",
      "Data columns (total 14 columns):\n",
      " #   Column               Non-Null Count  Dtype  \n",
      "---  ------               --------------  -----  \n",
      " 0   oem                  8369 non-null   object \n",
      " 1   model                8369 non-null   object \n",
      " 2   Transmission         8369 non-null   object \n",
      " 3   Year of Manufacture  8349 non-null   float64\n",
      " 4   modelYear            8369 non-null   int64  \n",
      " 5   Gear Box             8263 non-null   object \n",
      " 6   City                 8369 non-null   object \n",
      " 7   Insurance Validity   8365 non-null   object \n",
      " 8   ownerNo              8369 non-null   int64  \n",
      " 9   Fuel Type            8369 non-null   object \n",
      " 10  Kms Driven           8367 non-null   object \n",
      " 11  bt                   8365 non-null   object \n",
      " 12  Mileage              8082 non-null   object \n",
      " 13  price                8369 non-null   object \n",
      "dtypes: float64(1), int64(2), object(11)\n",
      "memory usage: 915.5+ KB\n"
     ]
    }
   ],
   "source": [
    "cpd.info()"
   ]
  },
  {
   "cell_type": "code",
   "execution_count": 142,
   "metadata": {},
   "outputs": [
    {
     "data": {
      "text/plain": [
       "oem                    False\n",
       "model                  False\n",
       "Transmission           False\n",
       "Year of Manufacture    False\n",
       "modelYear              False\n",
       "Gear Box               False\n",
       "City                   False\n",
       "Insurance Validity     False\n",
       "ownerNo                False\n",
       "Fuel Type              False\n",
       "Kms Driven             False\n",
       "bt                     False\n",
       "Mileage                False\n",
       "price                  False\n",
       "dtype: bool"
      ]
     },
     "execution_count": 142,
     "metadata": {},
     "output_type": "execute_result"
    }
   ],
   "source": [
    "cpd.isna().all()"
   ]
  },
  {
   "cell_type": "code",
   "execution_count": 143,
   "metadata": {},
   "outputs": [
    {
     "data": {
      "text/html": [
       "<div>\n",
       "<style scoped>\n",
       "    .dataframe tbody tr th:only-of-type {\n",
       "        vertical-align: middle;\n",
       "    }\n",
       "\n",
       "    .dataframe tbody tr th {\n",
       "        vertical-align: top;\n",
       "    }\n",
       "\n",
       "    .dataframe thead th {\n",
       "        text-align: right;\n",
       "    }\n",
       "</style>\n",
       "<table border=\"1\" class=\"dataframe\">\n",
       "  <thead>\n",
       "    <tr style=\"text-align: right;\">\n",
       "      <th></th>\n",
       "      <th>oem</th>\n",
       "      <th>model</th>\n",
       "      <th>Transmission</th>\n",
       "      <th>Year of Manufacture</th>\n",
       "      <th>modelYear</th>\n",
       "      <th>Gear Box</th>\n",
       "      <th>City</th>\n",
       "      <th>Insurance Validity</th>\n",
       "      <th>ownerNo</th>\n",
       "      <th>Fuel Type</th>\n",
       "      <th>Kms Driven</th>\n",
       "      <th>bt</th>\n",
       "      <th>Mileage</th>\n",
       "      <th>price</th>\n",
       "    </tr>\n",
       "  </thead>\n",
       "  <tbody>\n",
       "    <tr>\n",
       "      <th>0</th>\n",
       "      <td>Kia</td>\n",
       "      <td>Kia Sonet</td>\n",
       "      <td>Automatic</td>\n",
       "      <td>2022.0</td>\n",
       "      <td>2022</td>\n",
       "      <td>7-Speed DCT</td>\n",
       "      <td>Chennai</td>\n",
       "      <td>Third Party insurance</td>\n",
       "      <td>1</td>\n",
       "      <td>Petrol</td>\n",
       "      <td>20,000 Kms</td>\n",
       "      <td>SUV</td>\n",
       "      <td>NaN</td>\n",
       "      <td>₹ 11.50 Lakh</td>\n",
       "    </tr>\n",
       "    <tr>\n",
       "      <th>1</th>\n",
       "      <td>Maruti</td>\n",
       "      <td>Maruti Eeco</td>\n",
       "      <td>Manual</td>\n",
       "      <td>2015.0</td>\n",
       "      <td>2015</td>\n",
       "      <td>5 Speed</td>\n",
       "      <td>Chennai</td>\n",
       "      <td>Comprehensive</td>\n",
       "      <td>1</td>\n",
       "      <td>Petrol</td>\n",
       "      <td>20,687 Kms</td>\n",
       "      <td>Minivans</td>\n",
       "      <td>15.37 kmpl</td>\n",
       "      <td>₹ 4.15 Lakh</td>\n",
       "    </tr>\n",
       "    <tr>\n",
       "      <th>2</th>\n",
       "      <td>Nissan</td>\n",
       "      <td>Nissan Magnite</td>\n",
       "      <td>Manual</td>\n",
       "      <td>2021.0</td>\n",
       "      <td>2021</td>\n",
       "      <td>5 Speed</td>\n",
       "      <td>Chennai</td>\n",
       "      <td>Third Party insurance</td>\n",
       "      <td>1</td>\n",
       "      <td>Petrol</td>\n",
       "      <td>30,000 Kms</td>\n",
       "      <td>SUV</td>\n",
       "      <td>20 kmpl</td>\n",
       "      <td>₹ 7.50 Lakh</td>\n",
       "    </tr>\n",
       "    <tr>\n",
       "      <th>3</th>\n",
       "      <td>Hyundai</td>\n",
       "      <td>Hyundai i10</td>\n",
       "      <td>Manual</td>\n",
       "      <td>2015.0</td>\n",
       "      <td>2015</td>\n",
       "      <td>5 Speed</td>\n",
       "      <td>Chennai</td>\n",
       "      <td>Comprehensive</td>\n",
       "      <td>1</td>\n",
       "      <td>Petrol</td>\n",
       "      <td>59,247 Kms</td>\n",
       "      <td>Hatchback</td>\n",
       "      <td>19.81 kmpl</td>\n",
       "      <td>₹ 3.98 Lakh</td>\n",
       "    </tr>\n",
       "    <tr>\n",
       "      <th>4</th>\n",
       "      <td>Honda</td>\n",
       "      <td>Honda Jazz</td>\n",
       "      <td>Manual</td>\n",
       "      <td>2015.0</td>\n",
       "      <td>2015</td>\n",
       "      <td>5 Speed</td>\n",
       "      <td>Chennai</td>\n",
       "      <td>Third Party insurance</td>\n",
       "      <td>1</td>\n",
       "      <td>Petrol</td>\n",
       "      <td>50,000 Kms</td>\n",
       "      <td>Hatchback</td>\n",
       "      <td>18.7 kmpl</td>\n",
       "      <td>₹ 5.50 Lakh</td>\n",
       "    </tr>\n",
       "    <tr>\n",
       "      <th>...</th>\n",
       "      <td>...</td>\n",
       "      <td>...</td>\n",
       "      <td>...</td>\n",
       "      <td>...</td>\n",
       "      <td>...</td>\n",
       "      <td>...</td>\n",
       "      <td>...</td>\n",
       "      <td>...</td>\n",
       "      <td>...</td>\n",
       "      <td>...</td>\n",
       "      <td>...</td>\n",
       "      <td>...</td>\n",
       "      <td>...</td>\n",
       "      <td>...</td>\n",
       "    </tr>\n",
       "    <tr>\n",
       "      <th>8364</th>\n",
       "      <td>Maruti</td>\n",
       "      <td>Maruti Celerio</td>\n",
       "      <td>Manual</td>\n",
       "      <td>2022.0</td>\n",
       "      <td>2022</td>\n",
       "      <td>5-Speed</td>\n",
       "      <td>Kolkata</td>\n",
       "      <td>Third Party insurance</td>\n",
       "      <td>1</td>\n",
       "      <td>Petrol</td>\n",
       "      <td>10,000 Kms</td>\n",
       "      <td>Hatchback</td>\n",
       "      <td>25.24 kmpl</td>\n",
       "      <td>₹ 5.10 Lakh</td>\n",
       "    </tr>\n",
       "    <tr>\n",
       "      <th>8365</th>\n",
       "      <td>Maruti</td>\n",
       "      <td>Maruti Alto 800</td>\n",
       "      <td>Manual</td>\n",
       "      <td>2014.0</td>\n",
       "      <td>2014</td>\n",
       "      <td>5 Speed</td>\n",
       "      <td>Kolkata</td>\n",
       "      <td>Third Party insurance</td>\n",
       "      <td>1</td>\n",
       "      <td>Petrol</td>\n",
       "      <td>1,20,000 Kms</td>\n",
       "      <td>Hatchback</td>\n",
       "      <td>22.74 kmpl</td>\n",
       "      <td>₹ 1.80 Lakh</td>\n",
       "    </tr>\n",
       "    <tr>\n",
       "      <th>8366</th>\n",
       "      <td>Mercedes-Benz</td>\n",
       "      <td>Mercedes-Benz C-Class</td>\n",
       "      <td>Automatic</td>\n",
       "      <td>2011.0</td>\n",
       "      <td>2011</td>\n",
       "      <td>7 Speed</td>\n",
       "      <td>Kolkata</td>\n",
       "      <td>Third Party insurance</td>\n",
       "      <td>3</td>\n",
       "      <td>Petrol</td>\n",
       "      <td>50,000 Kms</td>\n",
       "      <td>Sedan</td>\n",
       "      <td>11.74 kmpl</td>\n",
       "      <td>₹ 5.50 Lakh</td>\n",
       "    </tr>\n",
       "    <tr>\n",
       "      <th>8367</th>\n",
       "      <td>Maruti</td>\n",
       "      <td>Maruti Ritz</td>\n",
       "      <td>Manual</td>\n",
       "      <td>2012.0</td>\n",
       "      <td>2012</td>\n",
       "      <td>5 Speed</td>\n",
       "      <td>Kolkata</td>\n",
       "      <td>Third Party insurance</td>\n",
       "      <td>1</td>\n",
       "      <td>Petrol</td>\n",
       "      <td>40,000 Kms</td>\n",
       "      <td>Hatchback</td>\n",
       "      <td>18.5 kmpl</td>\n",
       "      <td>₹ 1.40 Lakh</td>\n",
       "    </tr>\n",
       "    <tr>\n",
       "      <th>8368</th>\n",
       "      <td>Renault</td>\n",
       "      <td>Renault Duster</td>\n",
       "      <td>Manual</td>\n",
       "      <td>2017.0</td>\n",
       "      <td>2017</td>\n",
       "      <td>6 Speed</td>\n",
       "      <td>Kolkata</td>\n",
       "      <td>Third Party insurance</td>\n",
       "      <td>2</td>\n",
       "      <td>Diesel</td>\n",
       "      <td>1,20,000 Kms</td>\n",
       "      <td>SUV</td>\n",
       "      <td>19.72 kmpl</td>\n",
       "      <td>₹ 5 Lakh</td>\n",
       "    </tr>\n",
       "  </tbody>\n",
       "</table>\n",
       "<p>8250 rows × 14 columns</p>\n",
       "</div>"
      ],
      "text/plain": [
       "                oem                  model Transmission  Year of Manufacture  \\\n",
       "0               Kia              Kia Sonet    Automatic               2022.0   \n",
       "1            Maruti            Maruti Eeco       Manual               2015.0   \n",
       "2            Nissan         Nissan Magnite       Manual               2021.0   \n",
       "3           Hyundai            Hyundai i10       Manual               2015.0   \n",
       "4             Honda             Honda Jazz       Manual               2015.0   \n",
       "...             ...                    ...          ...                  ...   \n",
       "8364         Maruti         Maruti Celerio       Manual               2022.0   \n",
       "8365         Maruti        Maruti Alto 800       Manual               2014.0   \n",
       "8366  Mercedes-Benz  Mercedes-Benz C-Class    Automatic               2011.0   \n",
       "8367         Maruti            Maruti Ritz       Manual               2012.0   \n",
       "8368        Renault         Renault Duster       Manual               2017.0   \n",
       "\n",
       "      modelYear     Gear Box     City     Insurance Validity  ownerNo  \\\n",
       "0          2022  7-Speed DCT  Chennai  Third Party insurance        1   \n",
       "1          2015      5 Speed  Chennai          Comprehensive        1   \n",
       "2          2021      5 Speed  Chennai  Third Party insurance        1   \n",
       "3          2015      5 Speed  Chennai          Comprehensive        1   \n",
       "4          2015      5 Speed  Chennai  Third Party insurance        1   \n",
       "...         ...          ...      ...                    ...      ...   \n",
       "8364       2022      5-Speed  Kolkata  Third Party insurance        1   \n",
       "8365       2014      5 Speed  Kolkata  Third Party insurance        1   \n",
       "8366       2011      7 Speed  Kolkata  Third Party insurance        3   \n",
       "8367       2012      5 Speed  Kolkata  Third Party insurance        1   \n",
       "8368       2017      6 Speed  Kolkata  Third Party insurance        2   \n",
       "\n",
       "     Fuel Type    Kms Driven         bt     Mileage         price  \n",
       "0       Petrol    20,000 Kms        SUV         NaN  ₹ 11.50 Lakh  \n",
       "1       Petrol    20,687 Kms   Minivans  15.37 kmpl   ₹ 4.15 Lakh  \n",
       "2       Petrol    30,000 Kms        SUV     20 kmpl   ₹ 7.50 Lakh  \n",
       "3       Petrol    59,247 Kms  Hatchback  19.81 kmpl   ₹ 3.98 Lakh  \n",
       "4       Petrol    50,000 Kms  Hatchback   18.7 kmpl   ₹ 5.50 Lakh  \n",
       "...        ...           ...        ...         ...           ...  \n",
       "8364    Petrol    10,000 Kms  Hatchback  25.24 kmpl   ₹ 5.10 Lakh  \n",
       "8365    Petrol  1,20,000 Kms  Hatchback  22.74 kmpl   ₹ 1.80 Lakh  \n",
       "8366    Petrol    50,000 Kms      Sedan  11.74 kmpl   ₹ 5.50 Lakh  \n",
       "8367    Petrol    40,000 Kms  Hatchback   18.5 kmpl   ₹ 1.40 Lakh  \n",
       "8368    Diesel  1,20,000 Kms        SUV  19.72 kmpl      ₹ 5 Lakh  \n",
       "\n",
       "[8250 rows x 14 columns]"
      ]
     },
     "execution_count": 143,
     "metadata": {},
     "output_type": "execute_result"
    }
   ],
   "source": [
    "cpd.drop_duplicates()"
   ]
  },
  {
   "cell_type": "code",
   "execution_count": 144,
   "metadata": {},
   "outputs": [],
   "source": [
    "cpd = cpd.dropna()"
   ]
  },
  {
   "cell_type": "code",
   "execution_count": 145,
   "metadata": {},
   "outputs": [
    {
     "name": "stdout",
     "output_type": "stream",
     "text": [
      "<class 'pandas.core.frame.DataFrame'>\n",
      "Int64Index: 7999 entries, 1 to 8368\n",
      "Data columns (total 14 columns):\n",
      " #   Column               Non-Null Count  Dtype  \n",
      "---  ------               --------------  -----  \n",
      " 0   oem                  7999 non-null   object \n",
      " 1   model                7999 non-null   object \n",
      " 2   Transmission         7999 non-null   object \n",
      " 3   Year of Manufacture  7999 non-null   float64\n",
      " 4   modelYear            7999 non-null   int64  \n",
      " 5   Gear Box             7999 non-null   object \n",
      " 6   City                 7999 non-null   object \n",
      " 7   Insurance Validity   7999 non-null   object \n",
      " 8   ownerNo              7999 non-null   int64  \n",
      " 9   Fuel Type            7999 non-null   object \n",
      " 10  Kms Driven           7999 non-null   object \n",
      " 11  bt                   7999 non-null   object \n",
      " 12  Mileage              7999 non-null   object \n",
      " 13  price                7999 non-null   object \n",
      "dtypes: float64(1), int64(2), object(11)\n",
      "memory usage: 937.4+ KB\n"
     ]
    }
   ],
   "source": [
    "cpd.info()"
   ]
  },
  {
   "cell_type": "markdown",
   "metadata": {},
   "source": [
    "**Standardising Data Formats**"
   ]
  },
  {
   "cell_type": "code",
   "execution_count": 146,
   "metadata": {},
   "outputs": [],
   "source": [
    "def extract_number(text):\n",
    "    if isinstance(text, str):\n",
    "        match = re.findall(r\"[-+]?\\d*\\.\\d+|\\d+\", text.replace(\",\", \"\"))\n",
    "        return float(match[0]) if match else None\n",
    "    return text\n",
    "\n",
    "cpd['Kms Driven'] = cpd['Kms Driven'].apply(extract_number)\n",
    "cpd['Mileage'] = cpd['Mileage'].apply(extract_number)\n",
    "cpd['Gear Box'] = cpd['Gear Box'].apply(extract_number)\n",
    "cpd['Gear Box'] = cpd['Gear Box'].astype('Int64')"
   ]
  },
  {
   "cell_type": "code",
   "execution_count": 147,
   "metadata": {},
   "outputs": [],
   "source": [
    "def convert_price(price):\n",
    "    if isinstance(price, str):\n",
    "        price = price.replace('₹', '').replace(',', '').strip()  \n",
    "\n",
    "        if 'Lakh' in price:\n",
    "            price = price.replace('Lakh', '').strip()  \n",
    "            return float(price) * 100000  \n",
    "#         elif 'Crore' in price:\n",
    "#             price = price.replace('Crore', '').strip()  \n",
    "#             return float(price) * 10000000  \n",
    "\n",
    "    try:\n",
    "        return float(price)\n",
    "    except ValueError:\n",
    "        return None  \n",
    "\n",
    "cpd['price'] = cpd['price'].apply(convert_price)\n"
   ]
  },
  {
   "cell_type": "code",
   "execution_count": 148,
   "metadata": {},
   "outputs": [
    {
     "data": {
      "text/html": [
       "<div>\n",
       "<style scoped>\n",
       "    .dataframe tbody tr th:only-of-type {\n",
       "        vertical-align: middle;\n",
       "    }\n",
       "\n",
       "    .dataframe tbody tr th {\n",
       "        vertical-align: top;\n",
       "    }\n",
       "\n",
       "    .dataframe thead th {\n",
       "        text-align: right;\n",
       "    }\n",
       "</style>\n",
       "<table border=\"1\" class=\"dataframe\">\n",
       "  <thead>\n",
       "    <tr style=\"text-align: right;\">\n",
       "      <th></th>\n",
       "      <th>oem</th>\n",
       "      <th>model</th>\n",
       "      <th>Transmission</th>\n",
       "      <th>Year of Manufacture</th>\n",
       "      <th>modelYear</th>\n",
       "      <th>Gear Box</th>\n",
       "      <th>City</th>\n",
       "      <th>Insurance Validity</th>\n",
       "      <th>ownerNo</th>\n",
       "      <th>Fuel Type</th>\n",
       "      <th>Kms Driven</th>\n",
       "      <th>bt</th>\n",
       "      <th>Mileage</th>\n",
       "      <th>price</th>\n",
       "    </tr>\n",
       "  </thead>\n",
       "  <tbody>\n",
       "    <tr>\n",
       "      <th>1</th>\n",
       "      <td>Maruti</td>\n",
       "      <td>Maruti Eeco</td>\n",
       "      <td>Manual</td>\n",
       "      <td>2015.0</td>\n",
       "      <td>2015</td>\n",
       "      <td>5</td>\n",
       "      <td>Chennai</td>\n",
       "      <td>Comprehensive</td>\n",
       "      <td>1</td>\n",
       "      <td>Petrol</td>\n",
       "      <td>20687.0</td>\n",
       "      <td>Minivans</td>\n",
       "      <td>15.37</td>\n",
       "      <td>415000.0</td>\n",
       "    </tr>\n",
       "    <tr>\n",
       "      <th>2</th>\n",
       "      <td>Nissan</td>\n",
       "      <td>Nissan Magnite</td>\n",
       "      <td>Manual</td>\n",
       "      <td>2021.0</td>\n",
       "      <td>2021</td>\n",
       "      <td>5</td>\n",
       "      <td>Chennai</td>\n",
       "      <td>Third Party insurance</td>\n",
       "      <td>1</td>\n",
       "      <td>Petrol</td>\n",
       "      <td>30000.0</td>\n",
       "      <td>SUV</td>\n",
       "      <td>20.00</td>\n",
       "      <td>750000.0</td>\n",
       "    </tr>\n",
       "    <tr>\n",
       "      <th>3</th>\n",
       "      <td>Hyundai</td>\n",
       "      <td>Hyundai i10</td>\n",
       "      <td>Manual</td>\n",
       "      <td>2015.0</td>\n",
       "      <td>2015</td>\n",
       "      <td>5</td>\n",
       "      <td>Chennai</td>\n",
       "      <td>Comprehensive</td>\n",
       "      <td>1</td>\n",
       "      <td>Petrol</td>\n",
       "      <td>59247.0</td>\n",
       "      <td>Hatchback</td>\n",
       "      <td>19.81</td>\n",
       "      <td>398000.0</td>\n",
       "    </tr>\n",
       "    <tr>\n",
       "      <th>4</th>\n",
       "      <td>Honda</td>\n",
       "      <td>Honda Jazz</td>\n",
       "      <td>Manual</td>\n",
       "      <td>2015.0</td>\n",
       "      <td>2015</td>\n",
       "      <td>5</td>\n",
       "      <td>Chennai</td>\n",
       "      <td>Third Party insurance</td>\n",
       "      <td>1</td>\n",
       "      <td>Petrol</td>\n",
       "      <td>50000.0</td>\n",
       "      <td>Hatchback</td>\n",
       "      <td>18.70</td>\n",
       "      <td>550000.0</td>\n",
       "    </tr>\n",
       "    <tr>\n",
       "      <th>5</th>\n",
       "      <td>Mercedes-Benz</td>\n",
       "      <td>Mercedes-Benz E-Class</td>\n",
       "      <td>Automatic</td>\n",
       "      <td>2016.0</td>\n",
       "      <td>2016</td>\n",
       "      <td>7</td>\n",
       "      <td>Chennai</td>\n",
       "      <td>Comprehensive</td>\n",
       "      <td>1</td>\n",
       "      <td>Diesel</td>\n",
       "      <td>20000.0</td>\n",
       "      <td>Sedan</td>\n",
       "      <td>13.00</td>\n",
       "      <td>3300000.0</td>\n",
       "    </tr>\n",
       "    <tr>\n",
       "      <th>...</th>\n",
       "      <td>...</td>\n",
       "      <td>...</td>\n",
       "      <td>...</td>\n",
       "      <td>...</td>\n",
       "      <td>...</td>\n",
       "      <td>...</td>\n",
       "      <td>...</td>\n",
       "      <td>...</td>\n",
       "      <td>...</td>\n",
       "      <td>...</td>\n",
       "      <td>...</td>\n",
       "      <td>...</td>\n",
       "      <td>...</td>\n",
       "      <td>...</td>\n",
       "    </tr>\n",
       "    <tr>\n",
       "      <th>8364</th>\n",
       "      <td>Maruti</td>\n",
       "      <td>Maruti Celerio</td>\n",
       "      <td>Manual</td>\n",
       "      <td>2022.0</td>\n",
       "      <td>2022</td>\n",
       "      <td>5</td>\n",
       "      <td>Kolkata</td>\n",
       "      <td>Third Party insurance</td>\n",
       "      <td>1</td>\n",
       "      <td>Petrol</td>\n",
       "      <td>10000.0</td>\n",
       "      <td>Hatchback</td>\n",
       "      <td>25.24</td>\n",
       "      <td>510000.0</td>\n",
       "    </tr>\n",
       "    <tr>\n",
       "      <th>8365</th>\n",
       "      <td>Maruti</td>\n",
       "      <td>Maruti Alto 800</td>\n",
       "      <td>Manual</td>\n",
       "      <td>2014.0</td>\n",
       "      <td>2014</td>\n",
       "      <td>5</td>\n",
       "      <td>Kolkata</td>\n",
       "      <td>Third Party insurance</td>\n",
       "      <td>1</td>\n",
       "      <td>Petrol</td>\n",
       "      <td>120000.0</td>\n",
       "      <td>Hatchback</td>\n",
       "      <td>22.74</td>\n",
       "      <td>180000.0</td>\n",
       "    </tr>\n",
       "    <tr>\n",
       "      <th>8366</th>\n",
       "      <td>Mercedes-Benz</td>\n",
       "      <td>Mercedes-Benz C-Class</td>\n",
       "      <td>Automatic</td>\n",
       "      <td>2011.0</td>\n",
       "      <td>2011</td>\n",
       "      <td>7</td>\n",
       "      <td>Kolkata</td>\n",
       "      <td>Third Party insurance</td>\n",
       "      <td>3</td>\n",
       "      <td>Petrol</td>\n",
       "      <td>50000.0</td>\n",
       "      <td>Sedan</td>\n",
       "      <td>11.74</td>\n",
       "      <td>550000.0</td>\n",
       "    </tr>\n",
       "    <tr>\n",
       "      <th>8367</th>\n",
       "      <td>Maruti</td>\n",
       "      <td>Maruti Ritz</td>\n",
       "      <td>Manual</td>\n",
       "      <td>2012.0</td>\n",
       "      <td>2012</td>\n",
       "      <td>5</td>\n",
       "      <td>Kolkata</td>\n",
       "      <td>Third Party insurance</td>\n",
       "      <td>1</td>\n",
       "      <td>Petrol</td>\n",
       "      <td>40000.0</td>\n",
       "      <td>Hatchback</td>\n",
       "      <td>18.50</td>\n",
       "      <td>140000.0</td>\n",
       "    </tr>\n",
       "    <tr>\n",
       "      <th>8368</th>\n",
       "      <td>Renault</td>\n",
       "      <td>Renault Duster</td>\n",
       "      <td>Manual</td>\n",
       "      <td>2017.0</td>\n",
       "      <td>2017</td>\n",
       "      <td>6</td>\n",
       "      <td>Kolkata</td>\n",
       "      <td>Third Party insurance</td>\n",
       "      <td>2</td>\n",
       "      <td>Diesel</td>\n",
       "      <td>120000.0</td>\n",
       "      <td>SUV</td>\n",
       "      <td>19.72</td>\n",
       "      <td>500000.0</td>\n",
       "    </tr>\n",
       "  </tbody>\n",
       "</table>\n",
       "<p>7999 rows × 14 columns</p>\n",
       "</div>"
      ],
      "text/plain": [
       "                oem                  model Transmission  Year of Manufacture  \\\n",
       "1            Maruti            Maruti Eeco       Manual               2015.0   \n",
       "2            Nissan         Nissan Magnite       Manual               2021.0   \n",
       "3           Hyundai            Hyundai i10       Manual               2015.0   \n",
       "4             Honda             Honda Jazz       Manual               2015.0   \n",
       "5     Mercedes-Benz  Mercedes-Benz E-Class    Automatic               2016.0   \n",
       "...             ...                    ...          ...                  ...   \n",
       "8364         Maruti         Maruti Celerio       Manual               2022.0   \n",
       "8365         Maruti        Maruti Alto 800       Manual               2014.0   \n",
       "8366  Mercedes-Benz  Mercedes-Benz C-Class    Automatic               2011.0   \n",
       "8367         Maruti            Maruti Ritz       Manual               2012.0   \n",
       "8368        Renault         Renault Duster       Manual               2017.0   \n",
       "\n",
       "      modelYear  Gear Box     City     Insurance Validity  ownerNo Fuel Type  \\\n",
       "1          2015         5  Chennai          Comprehensive        1    Petrol   \n",
       "2          2021         5  Chennai  Third Party insurance        1    Petrol   \n",
       "3          2015         5  Chennai          Comprehensive        1    Petrol   \n",
       "4          2015         5  Chennai  Third Party insurance        1    Petrol   \n",
       "5          2016         7  Chennai          Comprehensive        1    Diesel   \n",
       "...         ...       ...      ...                    ...      ...       ...   \n",
       "8364       2022         5  Kolkata  Third Party insurance        1    Petrol   \n",
       "8365       2014         5  Kolkata  Third Party insurance        1    Petrol   \n",
       "8366       2011         7  Kolkata  Third Party insurance        3    Petrol   \n",
       "8367       2012         5  Kolkata  Third Party insurance        1    Petrol   \n",
       "8368       2017         6  Kolkata  Third Party insurance        2    Diesel   \n",
       "\n",
       "      Kms Driven         bt  Mileage      price  \n",
       "1        20687.0   Minivans    15.37   415000.0  \n",
       "2        30000.0        SUV    20.00   750000.0  \n",
       "3        59247.0  Hatchback    19.81   398000.0  \n",
       "4        50000.0  Hatchback    18.70   550000.0  \n",
       "5        20000.0      Sedan    13.00  3300000.0  \n",
       "...          ...        ...      ...        ...  \n",
       "8364     10000.0  Hatchback    25.24   510000.0  \n",
       "8365    120000.0  Hatchback    22.74   180000.0  \n",
       "8366     50000.0      Sedan    11.74   550000.0  \n",
       "8367     40000.0  Hatchback    18.50   140000.0  \n",
       "8368    120000.0        SUV    19.72   500000.0  \n",
       "\n",
       "[7999 rows x 14 columns]"
      ]
     },
     "execution_count": 148,
     "metadata": {},
     "output_type": "execute_result"
    }
   ],
   "source": [
    " cpd"
   ]
  },
  {
   "cell_type": "code",
   "execution_count": 149,
   "metadata": {},
   "outputs": [
    {
     "name": "stdout",
     "output_type": "stream",
     "text": [
      "<class 'pandas.core.frame.DataFrame'>\n",
      "Int64Index: 7999 entries, 1 to 8368\n",
      "Data columns (total 14 columns):\n",
      " #   Column               Non-Null Count  Dtype  \n",
      "---  ------               --------------  -----  \n",
      " 0   oem                  7999 non-null   object \n",
      " 1   model                7999 non-null   object \n",
      " 2   Transmission         7999 non-null   object \n",
      " 3   Year of Manufacture  7999 non-null   float64\n",
      " 4   modelYear            7999 non-null   int64  \n",
      " 5   Gear Box             7794 non-null   Int64  \n",
      " 6   City                 7999 non-null   object \n",
      " 7   Insurance Validity   7999 non-null   object \n",
      " 8   ownerNo              7999 non-null   int64  \n",
      " 9   Fuel Type            7999 non-null   object \n",
      " 10  Kms Driven           7999 non-null   float64\n",
      " 11  bt                   7999 non-null   object \n",
      " 12  Mileage              7999 non-null   float64\n",
      " 13  price                7985 non-null   float64\n",
      "dtypes: Int64(1), float64(4), int64(2), object(7)\n",
      "memory usage: 945.2+ KB\n"
     ]
    }
   ],
   "source": [
    "cpd.info()"
   ]
  },
  {
   "cell_type": "code",
   "execution_count": 150,
   "metadata": {},
   "outputs": [],
   "source": [
    "cpd['price'].fillna(cpd['price'].mode()[0], inplace=True)"
   ]
  },
  {
   "cell_type": "code",
   "execution_count": 151,
   "metadata": {},
   "outputs": [],
   "source": [
    "cpd['Gear Box'].fillna(cpd['Gear Box'].mode()[0], inplace=True)\n"
   ]
  },
  {
   "cell_type": "code",
   "execution_count": 152,
   "metadata": {},
   "outputs": [
    {
     "name": "stdout",
     "output_type": "stream",
     "text": [
      "<class 'pandas.core.frame.DataFrame'>\n",
      "Int64Index: 7999 entries, 1 to 8368\n",
      "Data columns (total 14 columns):\n",
      " #   Column               Non-Null Count  Dtype  \n",
      "---  ------               --------------  -----  \n",
      " 0   oem                  7999 non-null   object \n",
      " 1   model                7999 non-null   object \n",
      " 2   Transmission         7999 non-null   object \n",
      " 3   Year of Manufacture  7999 non-null   float64\n",
      " 4   modelYear            7999 non-null   int64  \n",
      " 5   Gear Box             7999 non-null   Int64  \n",
      " 6   City                 7999 non-null   object \n",
      " 7   Insurance Validity   7999 non-null   object \n",
      " 8   ownerNo              7999 non-null   int64  \n",
      " 9   Fuel Type            7999 non-null   object \n",
      " 10  Kms Driven           7999 non-null   float64\n",
      " 11  bt                   7999 non-null   object \n",
      " 12  Mileage              7999 non-null   float64\n",
      " 13  price                7999 non-null   float64\n",
      "dtypes: Int64(1), float64(4), int64(2), object(7)\n",
      "memory usage: 945.2+ KB\n"
     ]
    }
   ],
   "source": [
    "cpd.info()"
   ]
  },
  {
   "cell_type": "markdown",
   "metadata": {},
   "source": [
    " ****\n",
    "# Exploratory Data Analysis (EDA)"
   ]
  },
  {
   "cell_type": "markdown",
   "metadata": {},
   "source": [
    "### 📈 Data Visualizations:"
   ]
  },
  {
   "cell_type": "markdown",
   "metadata": {},
   "source": [
    "### Scatter plot"
   ]
  },
  {
   "cell_type": "code",
   "execution_count": 153,
   "metadata": {},
   "outputs": [
    {
     "data": {
      "image/png": "[encoded data removed]",
      "text/plain": [
       "<Figure size 800x600 with 1 Axes>"
      ]
     },
     "metadata": {},
     "output_type": "display_data"
    }
   ],
   "source": [
    "plt.figure(figsize=(8, 6))\n",
    "plt.scatter(cpd['Kms Driven'], cpd['price'], alpha=0.5)\n",
    "plt.title('Kms Driven vs Price')\n",
    "plt.xlabel('Kms Driven')\n",
    "plt.ylabel('Price')\n",
    "plt.show()"
   ]
  },
  {
   "cell_type": "markdown",
   "metadata": {},
   "source": [
    "### Histogram plot"
   ]
  },
  {
   "cell_type": "code",
   "execution_count": 154,
   "metadata": {},
   "outputs": [
    {
     "data": {
      "image/png": "[encoded data removed]",
      "text/plain": [
       "<Figure size 800x600 with 1 Axes>"
      ]
     },
     "metadata": {},
     "output_type": "display_data"
    }
   ],
   "source": [
    "plt.figure(figsize=(8,6))\n",
    "sns.histplot(cpd['price'], bins=30, kde=True)\n",
    "plt.title('Price Distribution')\n",
    "plt.xlabel('Price')\n",
    "plt.ylabel('Frequency')\n",
    "plt.show()"
   ]
  },
  {
   "cell_type": "markdown",
   "metadata": {},
   "source": [
    "### Box Plot"
   ]
  },
  {
   "cell_type": "code",
   "execution_count": 155,
   "metadata": {},
   "outputs": [
    {
     "data": {
      "image/png": "[encoded data removed]",
      "text/plain": [
       "<Figure size 800x600 with 1 Axes>"
      ]
     },
     "metadata": {},
     "output_type": "display_data"
    }
   ],
   "source": [
    "plt.figure(figsize=(8,6))\n",
    "sns.boxplot(x='Mileage', y='price', data= cpd)\n",
    "plt.title('Box Plot of Price by Mileage')\n",
    "plt.xlabel('Mileage')\n",
    "plt.ylabel('Price')\n",
    "plt.show()"
   ]
  },
  {
   "cell_type": "markdown",
   "metadata": {},
   "source": [
    "### Heatmap"
   ]
  },
  {
   "cell_type": "code",
   "execution_count": 156,
   "metadata": {},
   "outputs": [
    {
     "data": {
      "image/png": "[encoded data removed]",
      "text/plain": [
       "<Figure size 1500x800 with 2 Axes>"
      ]
     },
     "metadata": {},
     "output_type": "display_data"
    }
   ],
   "source": [
    "plt.figure(figsize=(15, 8))\n",
    "sns.heatmap(cpd.corr(), annot=True, cmap='coolwarm')\n",
    "plt.title(\"Correlation Heatmap\")\n",
    "plt.show()"
   ]
  },
  {
   "cell_type": "markdown",
   "metadata": {},
   "source": [
    "****\n",
    "\n",
    "# 🔢 Features encoding"
   ]
  },
  {
   "cell_type": "code",
   "execution_count": 157,
   "metadata": {},
   "outputs": [],
   "source": [
    "nominal_columns = ['oem', 'model', 'Transmission', 'City', 'Insurance Validity', 'Fuel Type', 'bt']"
   ]
  },
  {
   "cell_type": "markdown",
   "metadata": {},
   "source": [
    "## One-hot encoding"
   ]
  },
  {
   "cell_type": "code",
   "execution_count": 158,
   "metadata": {},
   "outputs": [
    {
     "data": {
      "text/html": [
       "<div>\n",
       "<style scoped>\n",
       "    .dataframe tbody tr th:only-of-type {\n",
       "        vertical-align: middle;\n",
       "    }\n",
       "\n",
       "    .dataframe tbody tr th {\n",
       "        vertical-align: top;\n",
       "    }\n",
       "\n",
       "    .dataframe thead th {\n",
       "        text-align: right;\n",
       "    }\n",
       "</style>\n",
       "<table border=\"1\" class=\"dataframe\">\n",
       "  <thead>\n",
       "    <tr style=\"text-align: right;\">\n",
       "      <th></th>\n",
       "      <th>Year of Manufacture</th>\n",
       "      <th>modelYear</th>\n",
       "      <th>Gear Box</th>\n",
       "      <th>ownerNo</th>\n",
       "      <th>Kms Driven</th>\n",
       "      <th>Mileage</th>\n",
       "      <th>price</th>\n",
       "      <th>oem_BMW</th>\n",
       "      <th>oem_Chevrolet</th>\n",
       "      <th>oem_Citroen</th>\n",
       "      <th>...</th>\n",
       "      <th>Fuel Type_Petrol</th>\n",
       "      <th>bt_Coupe</th>\n",
       "      <th>bt_Hatchback</th>\n",
       "      <th>bt_Hybrids</th>\n",
       "      <th>bt_MUV</th>\n",
       "      <th>bt_Minivans</th>\n",
       "      <th>bt_Pickup Trucks</th>\n",
       "      <th>bt_SUV</th>\n",
       "      <th>bt_Sedan</th>\n",
       "      <th>bt_Wagon</th>\n",
       "    </tr>\n",
       "  </thead>\n",
       "  <tbody>\n",
       "    <tr>\n",
       "      <th>1</th>\n",
       "      <td>2015.0</td>\n",
       "      <td>2015</td>\n",
       "      <td>5</td>\n",
       "      <td>1</td>\n",
       "      <td>20687.0</td>\n",
       "      <td>15.37</td>\n",
       "      <td>415000.0</td>\n",
       "      <td>0</td>\n",
       "      <td>0</td>\n",
       "      <td>0</td>\n",
       "      <td>...</td>\n",
       "      <td>1</td>\n",
       "      <td>0</td>\n",
       "      <td>0</td>\n",
       "      <td>0</td>\n",
       "      <td>0</td>\n",
       "      <td>1</td>\n",
       "      <td>0</td>\n",
       "      <td>0</td>\n",
       "      <td>0</td>\n",
       "      <td>0</td>\n",
       "    </tr>\n",
       "    <tr>\n",
       "      <th>2</th>\n",
       "      <td>2021.0</td>\n",
       "      <td>2021</td>\n",
       "      <td>5</td>\n",
       "      <td>1</td>\n",
       "      <td>30000.0</td>\n",
       "      <td>20.00</td>\n",
       "      <td>750000.0</td>\n",
       "      <td>0</td>\n",
       "      <td>0</td>\n",
       "      <td>0</td>\n",
       "      <td>...</td>\n",
       "      <td>1</td>\n",
       "      <td>0</td>\n",
       "      <td>0</td>\n",
       "      <td>0</td>\n",
       "      <td>0</td>\n",
       "      <td>0</td>\n",
       "      <td>0</td>\n",
       "      <td>1</td>\n",
       "      <td>0</td>\n",
       "      <td>0</td>\n",
       "    </tr>\n",
       "    <tr>\n",
       "      <th>3</th>\n",
       "      <td>2015.0</td>\n",
       "      <td>2015</td>\n",
       "      <td>5</td>\n",
       "      <td>1</td>\n",
       "      <td>59247.0</td>\n",
       "      <td>19.81</td>\n",
       "      <td>398000.0</td>\n",
       "      <td>0</td>\n",
       "      <td>0</td>\n",
       "      <td>0</td>\n",
       "      <td>...</td>\n",
       "      <td>1</td>\n",
       "      <td>0</td>\n",
       "      <td>1</td>\n",
       "      <td>0</td>\n",
       "      <td>0</td>\n",
       "      <td>0</td>\n",
       "      <td>0</td>\n",
       "      <td>0</td>\n",
       "      <td>0</td>\n",
       "      <td>0</td>\n",
       "    </tr>\n",
       "    <tr>\n",
       "      <th>4</th>\n",
       "      <td>2015.0</td>\n",
       "      <td>2015</td>\n",
       "      <td>5</td>\n",
       "      <td>1</td>\n",
       "      <td>50000.0</td>\n",
       "      <td>18.70</td>\n",
       "      <td>550000.0</td>\n",
       "      <td>0</td>\n",
       "      <td>0</td>\n",
       "      <td>0</td>\n",
       "      <td>...</td>\n",
       "      <td>1</td>\n",
       "      <td>0</td>\n",
       "      <td>1</td>\n",
       "      <td>0</td>\n",
       "      <td>0</td>\n",
       "      <td>0</td>\n",
       "      <td>0</td>\n",
       "      <td>0</td>\n",
       "      <td>0</td>\n",
       "      <td>0</td>\n",
       "    </tr>\n",
       "    <tr>\n",
       "      <th>5</th>\n",
       "      <td>2016.0</td>\n",
       "      <td>2016</td>\n",
       "      <td>7</td>\n",
       "      <td>1</td>\n",
       "      <td>20000.0</td>\n",
       "      <td>13.00</td>\n",
       "      <td>3300000.0</td>\n",
       "      <td>0</td>\n",
       "      <td>0</td>\n",
       "      <td>0</td>\n",
       "      <td>...</td>\n",
       "      <td>0</td>\n",
       "      <td>0</td>\n",
       "      <td>0</td>\n",
       "      <td>0</td>\n",
       "      <td>0</td>\n",
       "      <td>0</td>\n",
       "      <td>0</td>\n",
       "      <td>0</td>\n",
       "      <td>1</td>\n",
       "      <td>0</td>\n",
       "    </tr>\n",
       "  </tbody>\n",
       "</table>\n",
       "<p>5 rows × 340 columns</p>\n",
       "</div>"
      ],
      "text/plain": [
       "   Year of Manufacture  modelYear  Gear Box  ownerNo  Kms Driven  Mileage  \\\n",
       "1               2015.0       2015         5        1     20687.0    15.37   \n",
       "2               2021.0       2021         5        1     30000.0    20.00   \n",
       "3               2015.0       2015         5        1     59247.0    19.81   \n",
       "4               2015.0       2015         5        1     50000.0    18.70   \n",
       "5               2016.0       2016         7        1     20000.0    13.00   \n",
       "\n",
       "       price  oem_BMW  oem_Chevrolet  oem_Citroen  ...  Fuel Type_Petrol  \\\n",
       "1   415000.0        0              0            0  ...                 1   \n",
       "2   750000.0        0              0            0  ...                 1   \n",
       "3   398000.0        0              0            0  ...                 1   \n",
       "4   550000.0        0              0            0  ...                 1   \n",
       "5  3300000.0        0              0            0  ...                 0   \n",
       "\n",
       "   bt_Coupe  bt_Hatchback  bt_Hybrids  bt_MUV  bt_Minivans  bt_Pickup Trucks  \\\n",
       "1         0             0           0       0            1                 0   \n",
       "2         0             0           0       0            0                 0   \n",
       "3         0             1           0       0            0                 0   \n",
       "4         0             1           0       0            0                 0   \n",
       "5         0             0           0       0            0                 0   \n",
       "\n",
       "   bt_SUV  bt_Sedan  bt_Wagon  \n",
       "1       0         0         0  \n",
       "2       1         0         0  \n",
       "3       0         0         0  \n",
       "4       0         0         0  \n",
       "5       0         1         0  \n",
       "\n",
       "[5 rows x 340 columns]"
      ]
     },
     "execution_count": 158,
     "metadata": {},
     "output_type": "execute_result"
    }
   ],
   "source": [
    "encoded_data = pd.get_dummies(cpd, columns=nominal_columns, drop_first=True)\n",
    "encoded_data.head()"
   ]
  },
  {
   "cell_type": "markdown",
   "metadata": {},
   "source": [
    "****\n",
    "\n",
    "# 🔢 Normalizing Numerical Features"
   ]
  },
  {
   "cell_type": "code",
   "execution_count": 159,
   "metadata": {},
   "outputs": [],
   "source": [
    "numerical_columns = ['Year of Manufacture', 'modelYear', 'Gear Box', 'ownerNo', 'Kms Driven', 'Mileage', 'price']"
   ]
  },
  {
   "cell_type": "code",
   "execution_count": 160,
   "metadata": {},
   "outputs": [],
   "source": [
    "encoded_data['price'] = pd.to_numeric(encoded_data['price'], errors='coerce')"
   ]
  },
  {
   "cell_type": "code",
   "execution_count": 161,
   "metadata": {},
   "outputs": [
    {
     "data": {
      "text/html": [
       "<div>\n",
       "<style scoped>\n",
       "    .dataframe tbody tr th:only-of-type {\n",
       "        vertical-align: middle;\n",
       "    }\n",
       "\n",
       "    .dataframe tbody tr th {\n",
       "        vertical-align: top;\n",
       "    }\n",
       "\n",
       "    .dataframe thead th {\n",
       "        text-align: right;\n",
       "    }\n",
       "</style>\n",
       "<table border=\"1\" class=\"dataframe\">\n",
       "  <thead>\n",
       "    <tr style=\"text-align: right;\">\n",
       "      <th></th>\n",
       "      <th>Year of Manufacture</th>\n",
       "      <th>modelYear</th>\n",
       "      <th>Gear Box</th>\n",
       "      <th>ownerNo</th>\n",
       "      <th>Kms Driven</th>\n",
       "      <th>Mileage</th>\n",
       "      <th>price</th>\n",
       "    </tr>\n",
       "  </thead>\n",
       "  <tbody>\n",
       "    <tr>\n",
       "      <th>1</th>\n",
       "      <td>0.619048</td>\n",
       "      <td>0.619048</td>\n",
       "      <td>0.166667</td>\n",
       "      <td>0.2</td>\n",
       "      <td>0.003743</td>\n",
       "      <td>0.062368</td>\n",
       "      <td>0.040430</td>\n",
       "    </tr>\n",
       "    <tr>\n",
       "      <th>2</th>\n",
       "      <td>0.904762</td>\n",
       "      <td>0.904762</td>\n",
       "      <td>0.166667</td>\n",
       "      <td>0.2</td>\n",
       "      <td>0.005436</td>\n",
       "      <td>0.097201</td>\n",
       "      <td>0.075428</td>\n",
       "    </tr>\n",
       "    <tr>\n",
       "      <th>3</th>\n",
       "      <td>0.619048</td>\n",
       "      <td>0.619048</td>\n",
       "      <td>0.166667</td>\n",
       "      <td>0.2</td>\n",
       "      <td>0.010754</td>\n",
       "      <td>0.095772</td>\n",
       "      <td>0.038654</td>\n",
       "    </tr>\n",
       "    <tr>\n",
       "      <th>4</th>\n",
       "      <td>0.619048</td>\n",
       "      <td>0.619048</td>\n",
       "      <td>0.166667</td>\n",
       "      <td>0.2</td>\n",
       "      <td>0.009073</td>\n",
       "      <td>0.087421</td>\n",
       "      <td>0.054534</td>\n",
       "    </tr>\n",
       "    <tr>\n",
       "      <th>5</th>\n",
       "      <td>0.666667</td>\n",
       "      <td>0.666667</td>\n",
       "      <td>0.500000</td>\n",
       "      <td>0.2</td>\n",
       "      <td>0.003618</td>\n",
       "      <td>0.044538</td>\n",
       "      <td>0.341830</td>\n",
       "    </tr>\n",
       "  </tbody>\n",
       "</table>\n",
       "</div>"
      ],
      "text/plain": [
       "   Year of Manufacture  modelYear  Gear Box  ownerNo  Kms Driven   Mileage  \\\n",
       "1             0.619048   0.619048  0.166667      0.2    0.003743  0.062368   \n",
       "2             0.904762   0.904762  0.166667      0.2    0.005436  0.097201   \n",
       "3             0.619048   0.619048  0.166667      0.2    0.010754  0.095772   \n",
       "4             0.619048   0.619048  0.166667      0.2    0.009073  0.087421   \n",
       "5             0.666667   0.666667  0.500000      0.2    0.003618  0.044538   \n",
       "\n",
       "      price  \n",
       "1  0.040430  \n",
       "2  0.075428  \n",
       "3  0.038654  \n",
       "4  0.054534  \n",
       "5  0.341830  "
      ]
     },
     "execution_count": 161,
     "metadata": {},
     "output_type": "execute_result"
    }
   ],
   "source": [
    "scaler = MinMaxScaler()\n",
    "encoded_data[numerical_columns] = scaler.fit_transform(encoded_data[numerical_columns])\n",
    "\n",
    "encoded_data[numerical_columns].head()"
   ]
  },
  {
   "cell_type": "markdown",
   "metadata": {},
   "source": [
    "### Descriptive Statistics"
   ]
  },
  {
   "cell_type": "code",
   "execution_count": 162,
   "metadata": {},
   "outputs": [
    {
     "data": {
      "text/html": [
       "<div>\n",
       "<style scoped>\n",
       "    .dataframe tbody tr th:only-of-type {\n",
       "        vertical-align: middle;\n",
       "    }\n",
       "\n",
       "    .dataframe tbody tr th {\n",
       "        vertical-align: top;\n",
       "    }\n",
       "\n",
       "    .dataframe thead th {\n",
       "        text-align: right;\n",
       "    }\n",
       "</style>\n",
       "<table border=\"1\" class=\"dataframe\">\n",
       "  <thead>\n",
       "    <tr style=\"text-align: right;\">\n",
       "      <th></th>\n",
       "      <th>count</th>\n",
       "      <th>mean</th>\n",
       "      <th>std</th>\n",
       "      <th>min</th>\n",
       "      <th>25%</th>\n",
       "      <th>50%</th>\n",
       "      <th>75%</th>\n",
       "      <th>max</th>\n",
       "      <th>median</th>\n",
       "      <th>mode</th>\n",
       "    </tr>\n",
       "  </thead>\n",
       "  <tbody>\n",
       "    <tr>\n",
       "      <th>Year of Manufacture</th>\n",
       "      <td>7999.0</td>\n",
       "      <td>0.688818</td>\n",
       "      <td>0.175535</td>\n",
       "      <td>0.0</td>\n",
       "      <td>0.571429</td>\n",
       "      <td>0.714286</td>\n",
       "      <td>0.809524</td>\n",
       "      <td>1.0</td>\n",
       "      <td>0.714286</td>\n",
       "      <td>0.761905</td>\n",
       "    </tr>\n",
       "    <tr>\n",
       "      <th>modelYear</th>\n",
       "      <td>7999.0</td>\n",
       "      <td>0.688818</td>\n",
       "      <td>0.175535</td>\n",
       "      <td>0.0</td>\n",
       "      <td>0.571429</td>\n",
       "      <td>0.714286</td>\n",
       "      <td>0.809524</td>\n",
       "      <td>1.0</td>\n",
       "      <td>0.714286</td>\n",
       "      <td>0.761905</td>\n",
       "    </tr>\n",
       "    <tr>\n",
       "      <th>Gear Box</th>\n",
       "      <td>7999.0</td>\n",
       "      <td>0.240322</td>\n",
       "      <td>0.149750</td>\n",
       "      <td>0.0</td>\n",
       "      <td>0.166667</td>\n",
       "      <td>0.166667</td>\n",
       "      <td>0.333333</td>\n",
       "      <td>1.0</td>\n",
       "      <td>0.166667</td>\n",
       "      <td>0.166667</td>\n",
       "    </tr>\n",
       "    <tr>\n",
       "      <th>ownerNo</th>\n",
       "      <td>7999.0</td>\n",
       "      <td>0.272334</td>\n",
       "      <td>0.127701</td>\n",
       "      <td>0.0</td>\n",
       "      <td>0.200000</td>\n",
       "      <td>0.200000</td>\n",
       "      <td>0.400000</td>\n",
       "      <td>1.0</td>\n",
       "      <td>0.200000</td>\n",
       "      <td>0.200000</td>\n",
       "    </tr>\n",
       "    <tr>\n",
       "      <th>Kms Driven</th>\n",
       "      <td>7999.0</td>\n",
       "      <td>0.010836</td>\n",
       "      <td>0.013484</td>\n",
       "      <td>0.0</td>\n",
       "      <td>0.005800</td>\n",
       "      <td>0.009927</td>\n",
       "      <td>0.014527</td>\n",
       "      <td>1.0</td>\n",
       "      <td>0.009927</td>\n",
       "      <td>0.021800</td>\n",
       "    </tr>\n",
       "    <tr>\n",
       "      <th>Mileage</th>\n",
       "      <td>7999.0</td>\n",
       "      <td>0.091768</td>\n",
       "      <td>0.030290</td>\n",
       "      <td>0.0</td>\n",
       "      <td>0.074631</td>\n",
       "      <td>0.089678</td>\n",
       "      <td>0.108712</td>\n",
       "      <td>1.0</td>\n",
       "      <td>0.089678</td>\n",
       "      <td>0.088926</td>\n",
       "    </tr>\n",
       "    <tr>\n",
       "      <th>price</th>\n",
       "      <td>7999.0</td>\n",
       "      <td>0.088121</td>\n",
       "      <td>0.101375</td>\n",
       "      <td>0.0</td>\n",
       "      <td>0.038759</td>\n",
       "      <td>0.059758</td>\n",
       "      <td>0.091099</td>\n",
       "      <td>1.0</td>\n",
       "      <td>0.059758</td>\n",
       "      <td>0.064981</td>\n",
       "    </tr>\n",
       "  </tbody>\n",
       "</table>\n",
       "</div>"
      ],
      "text/plain": [
       "                      count      mean       std  min       25%       50%  \\\n",
       "Year of Manufacture  7999.0  0.688818  0.175535  0.0  0.571429  0.714286   \n",
       "modelYear            7999.0  0.688818  0.175535  0.0  0.571429  0.714286   \n",
       "Gear Box             7999.0  0.240322  0.149750  0.0  0.166667  0.166667   \n",
       "ownerNo              7999.0  0.272334  0.127701  0.0  0.200000  0.200000   \n",
       "Kms Driven           7999.0  0.010836  0.013484  0.0  0.005800  0.009927   \n",
       "Mileage              7999.0  0.091768  0.030290  0.0  0.074631  0.089678   \n",
       "price                7999.0  0.088121  0.101375  0.0  0.038759  0.059758   \n",
       "\n",
       "                          75%  max    median      mode  \n",
       "Year of Manufacture  0.809524  1.0  0.714286  0.761905  \n",
       "modelYear            0.809524  1.0  0.714286  0.761905  \n",
       "Gear Box             0.333333  1.0  0.166667  0.166667  \n",
       "ownerNo              0.400000  1.0  0.200000  0.200000  \n",
       "Kms Driven           0.014527  1.0  0.009927  0.021800  \n",
       "Mileage              0.108712  1.0  0.089678  0.088926  \n",
       "price                0.091099  1.0  0.059758  0.064981  "
      ]
     },
     "execution_count": 162,
     "metadata": {},
     "output_type": "execute_result"
    }
   ],
   "source": [
    "numerical_stats = encoded_data[numerical_columns].describe().T\n",
    "\n",
    "numerical_stats['median'] = encoded_data[numerical_columns].median()\n",
    "numerical_stats['mode'] = encoded_data[numerical_columns].mode().iloc[0]\n",
    "\n",
    "numerical_stats\n"
   ]
  },
  {
   "cell_type": "markdown",
   "metadata": {
    "execution": {
     "iopub.execute_input": "2023-05-07T14:24:08.507522Z",
     "iopub.status.busy": "2023-05-07T14:24:08.507165Z",
     "iopub.status.idle": "2023-05-07T14:24:09.087094Z",
     "shell.execute_reply": "2023-05-07T14:24:09.085809Z",
     "shell.execute_reply.started": "2023-05-07T14:24:08.507485Z"
    }
   },
   "source": [
    "****\n",
    "# Outlier Detection\n",
    "\n",
    "Identify and remove or cap outliers in the dataset to avoid skewing the model.\n",
    "Using IQR (Interquartile Range) method"
   ]
  },
  {
   "cell_type": "code",
   "execution_count": 163,
   "metadata": {
    "execution": {
     "iopub.execute_input": "2023-05-07T14:24:09.089554Z",
     "iopub.status.busy": "2023-05-07T14:24:09.088835Z",
     "iopub.status.idle": "2023-05-07T14:24:09.323231Z",
     "shell.execute_reply": "2023-05-07T14:24:09.321861Z",
     "shell.execute_reply.started": "2023-05-07T14:24:09.089507Z"
    }
   },
   "outputs": [],
   "source": [
    "def remove_outliers_iqr(df, numerical_columns):\n",
    "    Q1 = encoded_data[numerical_columns].quantile(0.25)\n",
    "    Q3 = encoded_data[numerical_columns].quantile(0.75)\n",
    "    IQR = Q3 - Q1\n",
    "\n",
    "    lower_bound = Q1 - 1.5 * IQR\n",
    "    upper_bound = Q3 + 1.5 * IQR\n",
    "\n",
    "    df_out = cpd[~((encoded_data[numerical_columns] < lower_bound) | (encoded_data[numerical_columns] > upper_bound)).any(axis=1)]\n",
    "    return df_out\n"
   ]
  },
  {
   "cell_type": "code",
   "execution_count": 164,
   "metadata": {
    "execution": {
     "iopub.execute_input": "2023-05-07T14:24:09.908284Z",
     "iopub.status.busy": "2023-05-07T14:24:09.907630Z",
     "iopub.status.idle": "2023-05-07T14:24:10.208770Z",
     "shell.execute_reply": "2023-05-07T14:24:10.207219Z",
     "shell.execute_reply.started": "2023-05-07T14:24:09.908244Z"
    },
    "scrolled": true
   },
   "outputs": [
    {
     "data": {
      "text/plain": [
       "((6792, 14), (7999, 340))"
      ]
     },
     "execution_count": 164,
     "metadata": {},
     "output_type": "execute_result"
    }
   ],
   "source": [
    "cleaned_data = remove_outliers_iqr(encoded_data, numerical_columns)\n",
    "cleaned_data.shape, encoded_data.shape"
   ]
  },
  {
   "cell_type": "code",
   "execution_count": 165,
   "metadata": {
    "execution": {
     "iopub.execute_input": "2023-05-07T14:24:10.277536Z",
     "iopub.status.busy": "2023-05-07T14:24:10.277189Z",
     "iopub.status.idle": "2023-05-07T14:24:10.341451Z",
     "shell.execute_reply": "2023-05-07T14:24:10.340267Z",
     "shell.execute_reply.started": "2023-05-07T14:24:10.277504Z"
    }
   },
   "outputs": [
    {
     "data": {
      "text/html": [
       "<div>\n",
       "<style scoped>\n",
       "    .dataframe tbody tr th:only-of-type {\n",
       "        vertical-align: middle;\n",
       "    }\n",
       "\n",
       "    .dataframe tbody tr th {\n",
       "        vertical-align: top;\n",
       "    }\n",
       "\n",
       "    .dataframe thead th {\n",
       "        text-align: right;\n",
       "    }\n",
       "</style>\n",
       "<table border=\"1\" class=\"dataframe\">\n",
       "  <thead>\n",
       "    <tr style=\"text-align: right;\">\n",
       "      <th></th>\n",
       "      <th>oem</th>\n",
       "      <th>model</th>\n",
       "      <th>Transmission</th>\n",
       "      <th>Year of Manufacture</th>\n",
       "      <th>modelYear</th>\n",
       "      <th>Gear Box</th>\n",
       "      <th>City</th>\n",
       "      <th>Insurance Validity</th>\n",
       "      <th>ownerNo</th>\n",
       "      <th>Fuel Type</th>\n",
       "      <th>Kms Driven</th>\n",
       "      <th>bt</th>\n",
       "      <th>Mileage</th>\n",
       "      <th>price</th>\n",
       "    </tr>\n",
       "  </thead>\n",
       "  <tbody>\n",
       "    <tr>\n",
       "      <th>1</th>\n",
       "      <td>Maruti</td>\n",
       "      <td>Maruti Eeco</td>\n",
       "      <td>Manual</td>\n",
       "      <td>2015.0</td>\n",
       "      <td>2015</td>\n",
       "      <td>5</td>\n",
       "      <td>Chennai</td>\n",
       "      <td>Comprehensive</td>\n",
       "      <td>1</td>\n",
       "      <td>Petrol</td>\n",
       "      <td>20687.0</td>\n",
       "      <td>Minivans</td>\n",
       "      <td>15.37</td>\n",
       "      <td>415000.0</td>\n",
       "    </tr>\n",
       "    <tr>\n",
       "      <th>2</th>\n",
       "      <td>Nissan</td>\n",
       "      <td>Nissan Magnite</td>\n",
       "      <td>Manual</td>\n",
       "      <td>2021.0</td>\n",
       "      <td>2021</td>\n",
       "      <td>5</td>\n",
       "      <td>Chennai</td>\n",
       "      <td>Third Party insurance</td>\n",
       "      <td>1</td>\n",
       "      <td>Petrol</td>\n",
       "      <td>30000.0</td>\n",
       "      <td>SUV</td>\n",
       "      <td>20.00</td>\n",
       "      <td>750000.0</td>\n",
       "    </tr>\n",
       "    <tr>\n",
       "      <th>3</th>\n",
       "      <td>Hyundai</td>\n",
       "      <td>Hyundai i10</td>\n",
       "      <td>Manual</td>\n",
       "      <td>2015.0</td>\n",
       "      <td>2015</td>\n",
       "      <td>5</td>\n",
       "      <td>Chennai</td>\n",
       "      <td>Comprehensive</td>\n",
       "      <td>1</td>\n",
       "      <td>Petrol</td>\n",
       "      <td>59247.0</td>\n",
       "      <td>Hatchback</td>\n",
       "      <td>19.81</td>\n",
       "      <td>398000.0</td>\n",
       "    </tr>\n",
       "    <tr>\n",
       "      <th>4</th>\n",
       "      <td>Honda</td>\n",
       "      <td>Honda Jazz</td>\n",
       "      <td>Manual</td>\n",
       "      <td>2015.0</td>\n",
       "      <td>2015</td>\n",
       "      <td>5</td>\n",
       "      <td>Chennai</td>\n",
       "      <td>Third Party insurance</td>\n",
       "      <td>1</td>\n",
       "      <td>Petrol</td>\n",
       "      <td>50000.0</td>\n",
       "      <td>Hatchback</td>\n",
       "      <td>18.70</td>\n",
       "      <td>550000.0</td>\n",
       "    </tr>\n",
       "    <tr>\n",
       "      <th>6</th>\n",
       "      <td>Maruti</td>\n",
       "      <td>Maruti Celerio</td>\n",
       "      <td>Automatic</td>\n",
       "      <td>2016.0</td>\n",
       "      <td>2016</td>\n",
       "      <td>5</td>\n",
       "      <td>Chennai</td>\n",
       "      <td>Comprehensive</td>\n",
       "      <td>1</td>\n",
       "      <td>Petrol</td>\n",
       "      <td>29403.0</td>\n",
       "      <td>Hatchback</td>\n",
       "      <td>23.10</td>\n",
       "      <td>453000.0</td>\n",
       "    </tr>\n",
       "    <tr>\n",
       "      <th>...</th>\n",
       "      <td>...</td>\n",
       "      <td>...</td>\n",
       "      <td>...</td>\n",
       "      <td>...</td>\n",
       "      <td>...</td>\n",
       "      <td>...</td>\n",
       "      <td>...</td>\n",
       "      <td>...</td>\n",
       "      <td>...</td>\n",
       "      <td>...</td>\n",
       "      <td>...</td>\n",
       "      <td>...</td>\n",
       "      <td>...</td>\n",
       "      <td>...</td>\n",
       "    </tr>\n",
       "    <tr>\n",
       "      <th>8364</th>\n",
       "      <td>Maruti</td>\n",
       "      <td>Maruti Celerio</td>\n",
       "      <td>Manual</td>\n",
       "      <td>2022.0</td>\n",
       "      <td>2022</td>\n",
       "      <td>5</td>\n",
       "      <td>Kolkata</td>\n",
       "      <td>Third Party insurance</td>\n",
       "      <td>1</td>\n",
       "      <td>Petrol</td>\n",
       "      <td>10000.0</td>\n",
       "      <td>Hatchback</td>\n",
       "      <td>25.24</td>\n",
       "      <td>510000.0</td>\n",
       "    </tr>\n",
       "    <tr>\n",
       "      <th>8365</th>\n",
       "      <td>Maruti</td>\n",
       "      <td>Maruti Alto 800</td>\n",
       "      <td>Manual</td>\n",
       "      <td>2014.0</td>\n",
       "      <td>2014</td>\n",
       "      <td>5</td>\n",
       "      <td>Kolkata</td>\n",
       "      <td>Third Party insurance</td>\n",
       "      <td>1</td>\n",
       "      <td>Petrol</td>\n",
       "      <td>120000.0</td>\n",
       "      <td>Hatchback</td>\n",
       "      <td>22.74</td>\n",
       "      <td>180000.0</td>\n",
       "    </tr>\n",
       "    <tr>\n",
       "      <th>8366</th>\n",
       "      <td>Mercedes-Benz</td>\n",
       "      <td>Mercedes-Benz C-Class</td>\n",
       "      <td>Automatic</td>\n",
       "      <td>2011.0</td>\n",
       "      <td>2011</td>\n",
       "      <td>7</td>\n",
       "      <td>Kolkata</td>\n",
       "      <td>Third Party insurance</td>\n",
       "      <td>3</td>\n",
       "      <td>Petrol</td>\n",
       "      <td>50000.0</td>\n",
       "      <td>Sedan</td>\n",
       "      <td>11.74</td>\n",
       "      <td>550000.0</td>\n",
       "    </tr>\n",
       "    <tr>\n",
       "      <th>8367</th>\n",
       "      <td>Maruti</td>\n",
       "      <td>Maruti Ritz</td>\n",
       "      <td>Manual</td>\n",
       "      <td>2012.0</td>\n",
       "      <td>2012</td>\n",
       "      <td>5</td>\n",
       "      <td>Kolkata</td>\n",
       "      <td>Third Party insurance</td>\n",
       "      <td>1</td>\n",
       "      <td>Petrol</td>\n",
       "      <td>40000.0</td>\n",
       "      <td>Hatchback</td>\n",
       "      <td>18.50</td>\n",
       "      <td>140000.0</td>\n",
       "    </tr>\n",
       "    <tr>\n",
       "      <th>8368</th>\n",
       "      <td>Renault</td>\n",
       "      <td>Renault Duster</td>\n",
       "      <td>Manual</td>\n",
       "      <td>2017.0</td>\n",
       "      <td>2017</td>\n",
       "      <td>6</td>\n",
       "      <td>Kolkata</td>\n",
       "      <td>Third Party insurance</td>\n",
       "      <td>2</td>\n",
       "      <td>Diesel</td>\n",
       "      <td>120000.0</td>\n",
       "      <td>SUV</td>\n",
       "      <td>19.72</td>\n",
       "      <td>500000.0</td>\n",
       "    </tr>\n",
       "  </tbody>\n",
       "</table>\n",
       "<p>6792 rows × 14 columns</p>\n",
       "</div>"
      ],
      "text/plain": [
       "                oem                  model Transmission  Year of Manufacture  \\\n",
       "1            Maruti            Maruti Eeco       Manual               2015.0   \n",
       "2            Nissan         Nissan Magnite       Manual               2021.0   \n",
       "3           Hyundai            Hyundai i10       Manual               2015.0   \n",
       "4             Honda             Honda Jazz       Manual               2015.0   \n",
       "6            Maruti         Maruti Celerio    Automatic               2016.0   \n",
       "...             ...                    ...          ...                  ...   \n",
       "8364         Maruti         Maruti Celerio       Manual               2022.0   \n",
       "8365         Maruti        Maruti Alto 800       Manual               2014.0   \n",
       "8366  Mercedes-Benz  Mercedes-Benz C-Class    Automatic               2011.0   \n",
       "8367         Maruti            Maruti Ritz       Manual               2012.0   \n",
       "8368        Renault         Renault Duster       Manual               2017.0   \n",
       "\n",
       "      modelYear  Gear Box     City     Insurance Validity  ownerNo Fuel Type  \\\n",
       "1          2015         5  Chennai          Comprehensive        1    Petrol   \n",
       "2          2021         5  Chennai  Third Party insurance        1    Petrol   \n",
       "3          2015         5  Chennai          Comprehensive        1    Petrol   \n",
       "4          2015         5  Chennai  Third Party insurance        1    Petrol   \n",
       "6          2016         5  Chennai          Comprehensive        1    Petrol   \n",
       "...         ...       ...      ...                    ...      ...       ...   \n",
       "8364       2022         5  Kolkata  Third Party insurance        1    Petrol   \n",
       "8365       2014         5  Kolkata  Third Party insurance        1    Petrol   \n",
       "8366       2011         7  Kolkata  Third Party insurance        3    Petrol   \n",
       "8367       2012         5  Kolkata  Third Party insurance        1    Petrol   \n",
       "8368       2017         6  Kolkata  Third Party insurance        2    Diesel   \n",
       "\n",
       "      Kms Driven         bt  Mileage     price  \n",
       "1        20687.0   Minivans    15.37  415000.0  \n",
       "2        30000.0        SUV    20.00  750000.0  \n",
       "3        59247.0  Hatchback    19.81  398000.0  \n",
       "4        50000.0  Hatchback    18.70  550000.0  \n",
       "6        29403.0  Hatchback    23.10  453000.0  \n",
       "...          ...        ...      ...       ...  \n",
       "8364     10000.0  Hatchback    25.24  510000.0  \n",
       "8365    120000.0  Hatchback    22.74  180000.0  \n",
       "8366     50000.0      Sedan    11.74  550000.0  \n",
       "8367     40000.0  Hatchback    18.50  140000.0  \n",
       "8368    120000.0        SUV    19.72  500000.0  \n",
       "\n",
       "[6792 rows x 14 columns]"
      ]
     },
     "execution_count": 165,
     "metadata": {},
     "output_type": "execute_result"
    }
   ],
   "source": [
    "cleaned_data"
   ]
  },
  {
   "cell_type": "markdown",
   "metadata": {},
   "source": [
    "****\n",
    "\n",
    "# ⚖️ Correlations between features and label:"
   ]
  },
  {
   "cell_type": "code",
   "execution_count": 166,
   "metadata": {
    "execution": {
     "iopub.execute_input": "2023-05-07T14:27:46.321604Z",
     "iopub.status.busy": "2023-05-07T14:27:46.321209Z",
     "iopub.status.idle": "2023-05-07T14:27:46.335475Z",
     "shell.execute_reply": "2023-05-07T14:27:46.334196Z",
     "shell.execute_reply.started": "2023-05-07T14:27:46.321570Z"
    },
    "scrolled": true
   },
   "outputs": [
    {
     "data": {
      "text/plain": [
       "price                  1.000000\n",
       "Gear Box               0.741370\n",
       "oem_Mercedes-Benz      0.384837\n",
       "oem_BMW                0.381760\n",
       "Year of Manufacture    0.335383\n",
       "                         ...   \n",
       "oem_Maruti            -0.232542\n",
       "Fuel Type_Petrol      -0.251894\n",
       "Mileage               -0.337929\n",
       "bt_Hatchback          -0.382184\n",
       "Transmission_Manual   -0.496928\n",
       "Name: price, Length: 340, dtype: float64"
      ]
     },
     "execution_count": 166,
     "metadata": {},
     "output_type": "execute_result"
    }
   ],
   "source": [
    "correlation_matrix = encoded_data.corr()\n",
    "\n",
    "correlation_matrix['price'].sort_values(ascending=False)\n"
   ]
  },
  {
   "cell_type": "code",
   "execution_count": 167,
   "metadata": {},
   "outputs": [
    {
     "data": {
      "text/html": [
       "<div>\n",
       "<style scoped>\n",
       "    .dataframe tbody tr th:only-of-type {\n",
       "        vertical-align: middle;\n",
       "    }\n",
       "\n",
       "    .dataframe tbody tr th {\n",
       "        vertical-align: top;\n",
       "    }\n",
       "\n",
       "    .dataframe thead th {\n",
       "        text-align: right;\n",
       "    }\n",
       "</style>\n",
       "<table border=\"1\" class=\"dataframe\">\n",
       "  <thead>\n",
       "    <tr style=\"text-align: right;\">\n",
       "      <th></th>\n",
       "      <th>Year of Manufacture</th>\n",
       "      <th>modelYear</th>\n",
       "      <th>Gear Box</th>\n",
       "      <th>ownerNo</th>\n",
       "      <th>Kms Driven</th>\n",
       "      <th>Mileage</th>\n",
       "      <th>price</th>\n",
       "      <th>oem_BMW</th>\n",
       "      <th>oem_Chevrolet</th>\n",
       "      <th>oem_Citroen</th>\n",
       "      <th>...</th>\n",
       "      <th>Fuel Type_Petrol</th>\n",
       "      <th>bt_Coupe</th>\n",
       "      <th>bt_Hatchback</th>\n",
       "      <th>bt_Hybrids</th>\n",
       "      <th>bt_MUV</th>\n",
       "      <th>bt_Minivans</th>\n",
       "      <th>bt_Pickup Trucks</th>\n",
       "      <th>bt_SUV</th>\n",
       "      <th>bt_Sedan</th>\n",
       "      <th>bt_Wagon</th>\n",
       "    </tr>\n",
       "  </thead>\n",
       "  <tbody>\n",
       "    <tr>\n",
       "      <th>Year of Manufacture</th>\n",
       "      <td>1.000000</td>\n",
       "      <td>1.000000</td>\n",
       "      <td>0.163932</td>\n",
       "      <td>-0.373432</td>\n",
       "      <td>-0.241708</td>\n",
       "      <td>0.110437</td>\n",
       "      <td>0.335383</td>\n",
       "      <td>0.006797</td>\n",
       "      <td>-0.128782</td>\n",
       "      <td>0.045365</td>\n",
       "      <td>...</td>\n",
       "      <td>0.099133</td>\n",
       "      <td>-0.003224</td>\n",
       "      <td>-0.115684</td>\n",
       "      <td>0.001622</td>\n",
       "      <td>0.037968</td>\n",
       "      <td>-0.003390</td>\n",
       "      <td>0.002295</td>\n",
       "      <td>0.251544</td>\n",
       "      <td>-0.132884</td>\n",
       "      <td>0.007690</td>\n",
       "    </tr>\n",
       "    <tr>\n",
       "      <th>modelYear</th>\n",
       "      <td>1.000000</td>\n",
       "      <td>1.000000</td>\n",
       "      <td>0.163932</td>\n",
       "      <td>-0.373432</td>\n",
       "      <td>-0.241708</td>\n",
       "      <td>0.110437</td>\n",
       "      <td>0.335383</td>\n",
       "      <td>0.006797</td>\n",
       "      <td>-0.128782</td>\n",
       "      <td>0.045365</td>\n",
       "      <td>...</td>\n",
       "      <td>0.099133</td>\n",
       "      <td>-0.003224</td>\n",
       "      <td>-0.115684</td>\n",
       "      <td>0.001622</td>\n",
       "      <td>0.037968</td>\n",
       "      <td>-0.003390</td>\n",
       "      <td>0.002295</td>\n",
       "      <td>0.251544</td>\n",
       "      <td>-0.132884</td>\n",
       "      <td>0.007690</td>\n",
       "    </tr>\n",
       "    <tr>\n",
       "      <th>Gear Box</th>\n",
       "      <td>0.163932</td>\n",
       "      <td>0.163932</td>\n",
       "      <td>1.000000</td>\n",
       "      <td>-0.050890</td>\n",
       "      <td>-0.002541</td>\n",
       "      <td>-0.339728</td>\n",
       "      <td>0.741370</td>\n",
       "      <td>0.404220</td>\n",
       "      <td>-0.036701</td>\n",
       "      <td>0.050469</td>\n",
       "      <td>...</td>\n",
       "      <td>-0.318333</td>\n",
       "      <td>0.091408</td>\n",
       "      <td>-0.399916</td>\n",
       "      <td>0.031837</td>\n",
       "      <td>-0.053287</td>\n",
       "      <td>-0.031146</td>\n",
       "      <td>-0.007779</td>\n",
       "      <td>0.351342</td>\n",
       "      <td>0.121573</td>\n",
       "      <td>-0.005500</td>\n",
       "    </tr>\n",
       "    <tr>\n",
       "      <th>ownerNo</th>\n",
       "      <td>-0.373432</td>\n",
       "      <td>-0.373432</td>\n",
       "      <td>-0.050890</td>\n",
       "      <td>1.000000</td>\n",
       "      <td>0.112462</td>\n",
       "      <td>-0.074845</td>\n",
       "      <td>-0.129668</td>\n",
       "      <td>0.008608</td>\n",
       "      <td>0.075717</td>\n",
       "      <td>-0.011729</td>\n",
       "      <td>...</td>\n",
       "      <td>-0.061968</td>\n",
       "      <td>0.027714</td>\n",
       "      <td>0.034330</td>\n",
       "      <td>-0.006334</td>\n",
       "      <td>-0.016469</td>\n",
       "      <td>0.033811</td>\n",
       "      <td>-0.008958</td>\n",
       "      <td>-0.088483</td>\n",
       "      <td>0.048522</td>\n",
       "      <td>-0.006334</td>\n",
       "    </tr>\n",
       "    <tr>\n",
       "      <th>Kms Driven</th>\n",
       "      <td>-0.241708</td>\n",
       "      <td>-0.241708</td>\n",
       "      <td>-0.002541</td>\n",
       "      <td>0.112462</td>\n",
       "      <td>1.000000</td>\n",
       "      <td>-0.009634</td>\n",
       "      <td>-0.062746</td>\n",
       "      <td>-0.018647</td>\n",
       "      <td>0.031680</td>\n",
       "      <td>-0.014253</td>\n",
       "      <td>...</td>\n",
       "      <td>-0.176839</td>\n",
       "      <td>-0.012476</td>\n",
       "      <td>-0.042661</td>\n",
       "      <td>-0.003724</td>\n",
       "      <td>0.043275</td>\n",
       "      <td>-0.010128</td>\n",
       "      <td>0.008085</td>\n",
       "      <td>-0.032940</td>\n",
       "      <td>0.063097</td>\n",
       "      <td>-0.002970</td>\n",
       "    </tr>\n",
       "    <tr>\n",
       "      <th>...</th>\n",
       "      <td>...</td>\n",
       "      <td>...</td>\n",
       "      <td>...</td>\n",
       "      <td>...</td>\n",
       "      <td>...</td>\n",
       "      <td>...</td>\n",
       "      <td>...</td>\n",
       "      <td>...</td>\n",
       "      <td>...</td>\n",
       "      <td>...</td>\n",
       "      <td>...</td>\n",
       "      <td>...</td>\n",
       "      <td>...</td>\n",
       "      <td>...</td>\n",
       "      <td>...</td>\n",
       "      <td>...</td>\n",
       "      <td>...</td>\n",
       "      <td>...</td>\n",
       "      <td>...</td>\n",
       "      <td>...</td>\n",
       "      <td>...</td>\n",
       "    </tr>\n",
       "    <tr>\n",
       "      <th>bt_Minivans</th>\n",
       "      <td>-0.003390</td>\n",
       "      <td>-0.003390</td>\n",
       "      <td>-0.031146</td>\n",
       "      <td>0.033811</td>\n",
       "      <td>-0.010128</td>\n",
       "      <td>-0.041880</td>\n",
       "      <td>-0.027953</td>\n",
       "      <td>-0.007991</td>\n",
       "      <td>-0.005143</td>\n",
       "      <td>-0.001662</td>\n",
       "      <td>...</td>\n",
       "      <td>0.016566</td>\n",
       "      <td>-0.001763</td>\n",
       "      <td>-0.046261</td>\n",
       "      <td>-0.000587</td>\n",
       "      <td>-0.011065</td>\n",
       "      <td>1.000000</td>\n",
       "      <td>-0.000831</td>\n",
       "      <td>-0.030302</td>\n",
       "      <td>-0.031587</td>\n",
       "      <td>-0.000587</td>\n",
       "    </tr>\n",
       "    <tr>\n",
       "      <th>bt_Pickup Trucks</th>\n",
       "      <td>0.002295</td>\n",
       "      <td>0.002295</td>\n",
       "      <td>-0.007779</td>\n",
       "      <td>-0.008958</td>\n",
       "      <td>0.008085</td>\n",
       "      <td>-0.027017</td>\n",
       "      <td>0.008369</td>\n",
       "      <td>-0.002406</td>\n",
       "      <td>-0.001549</td>\n",
       "      <td>-0.000500</td>\n",
       "      <td>...</td>\n",
       "      <td>-0.022525</td>\n",
       "      <td>-0.000531</td>\n",
       "      <td>-0.013931</td>\n",
       "      <td>-0.000177</td>\n",
       "      <td>-0.003332</td>\n",
       "      <td>-0.000831</td>\n",
       "      <td>1.000000</td>\n",
       "      <td>-0.009125</td>\n",
       "      <td>-0.009512</td>\n",
       "      <td>-0.000177</td>\n",
       "    </tr>\n",
       "    <tr>\n",
       "      <th>bt_SUV</th>\n",
       "      <td>0.251544</td>\n",
       "      <td>0.251544</td>\n",
       "      <td>0.351342</td>\n",
       "      <td>-0.088483</td>\n",
       "      <td>-0.032940</td>\n",
       "      <td>-0.314540</td>\n",
       "      <td>0.328956</td>\n",
       "      <td>0.044256</td>\n",
       "      <td>-0.050559</td>\n",
       "      <td>0.018289</td>\n",
       "      <td>...</td>\n",
       "      <td>-0.289443</td>\n",
       "      <td>-0.019366</td>\n",
       "      <td>-0.508289</td>\n",
       "      <td>-0.006452</td>\n",
       "      <td>-0.121574</td>\n",
       "      <td>-0.030302</td>\n",
       "      <td>-0.009125</td>\n",
       "      <td>1.000000</td>\n",
       "      <td>-0.347055</td>\n",
       "      <td>-0.006452</td>\n",
       "    </tr>\n",
       "    <tr>\n",
       "      <th>bt_Sedan</th>\n",
       "      <td>-0.132884</td>\n",
       "      <td>-0.132884</td>\n",
       "      <td>0.121573</td>\n",
       "      <td>0.048522</td>\n",
       "      <td>0.063097</td>\n",
       "      <td>-0.050936</td>\n",
       "      <td>0.076543</td>\n",
       "      <td>0.114037</td>\n",
       "      <td>0.031540</td>\n",
       "      <td>-0.019031</td>\n",
       "      <td>...</td>\n",
       "      <td>-0.065843</td>\n",
       "      <td>-0.020186</td>\n",
       "      <td>-0.529830</td>\n",
       "      <td>-0.006725</td>\n",
       "      <td>-0.126726</td>\n",
       "      <td>-0.031587</td>\n",
       "      <td>-0.009512</td>\n",
       "      <td>-0.347055</td>\n",
       "      <td>1.000000</td>\n",
       "      <td>-0.006725</td>\n",
       "    </tr>\n",
       "    <tr>\n",
       "      <th>bt_Wagon</th>\n",
       "      <td>0.007690</td>\n",
       "      <td>0.007690</td>\n",
       "      <td>-0.005500</td>\n",
       "      <td>-0.006334</td>\n",
       "      <td>-0.002970</td>\n",
       "      <td>0.006172</td>\n",
       "      <td>-0.003532</td>\n",
       "      <td>-0.001701</td>\n",
       "      <td>-0.001095</td>\n",
       "      <td>-0.000354</td>\n",
       "      <td>...</td>\n",
       "      <td>0.007850</td>\n",
       "      <td>-0.000375</td>\n",
       "      <td>-0.009850</td>\n",
       "      <td>-0.000125</td>\n",
       "      <td>-0.002356</td>\n",
       "      <td>-0.000587</td>\n",
       "      <td>-0.000177</td>\n",
       "      <td>-0.006452</td>\n",
       "      <td>-0.006725</td>\n",
       "      <td>1.000000</td>\n",
       "    </tr>\n",
       "  </tbody>\n",
       "</table>\n",
       "<p>340 rows × 340 columns</p>\n",
       "</div>"
      ],
      "text/plain": [
       "                     Year of Manufacture  modelYear  Gear Box   ownerNo  \\\n",
       "Year of Manufacture             1.000000   1.000000  0.163932 -0.373432   \n",
       "modelYear                       1.000000   1.000000  0.163932 -0.373432   \n",
       "Gear Box                        0.163932   0.163932  1.000000 -0.050890   \n",
       "ownerNo                        -0.373432  -0.373432 -0.050890  1.000000   \n",
       "Kms Driven                     -0.241708  -0.241708 -0.002541  0.112462   \n",
       "...                                  ...        ...       ...       ...   \n",
       "bt_Minivans                    -0.003390  -0.003390 -0.031146  0.033811   \n",
       "bt_Pickup Trucks                0.002295   0.002295 -0.007779 -0.008958   \n",
       "bt_SUV                          0.251544   0.251544  0.351342 -0.088483   \n",
       "bt_Sedan                       -0.132884  -0.132884  0.121573  0.048522   \n",
       "bt_Wagon                        0.007690   0.007690 -0.005500 -0.006334   \n",
       "\n",
       "                     Kms Driven   Mileage     price   oem_BMW  oem_Chevrolet  \\\n",
       "Year of Manufacture   -0.241708  0.110437  0.335383  0.006797      -0.128782   \n",
       "modelYear             -0.241708  0.110437  0.335383  0.006797      -0.128782   \n",
       "Gear Box              -0.002541 -0.339728  0.741370  0.404220      -0.036701   \n",
       "ownerNo                0.112462 -0.074845 -0.129668  0.008608       0.075717   \n",
       "Kms Driven             1.000000 -0.009634 -0.062746 -0.018647       0.031680   \n",
       "...                         ...       ...       ...       ...            ...   \n",
       "bt_Minivans           -0.010128 -0.041880 -0.027953 -0.007991      -0.005143   \n",
       "bt_Pickup Trucks       0.008085 -0.027017  0.008369 -0.002406      -0.001549   \n",
       "bt_SUV                -0.032940 -0.314540  0.328956  0.044256      -0.050559   \n",
       "bt_Sedan               0.063097 -0.050936  0.076543  0.114037       0.031540   \n",
       "bt_Wagon              -0.002970  0.006172 -0.003532 -0.001701      -0.001095   \n",
       "\n",
       "                     oem_Citroen  ...  Fuel Type_Petrol  bt_Coupe  \\\n",
       "Year of Manufacture     0.045365  ...          0.099133 -0.003224   \n",
       "modelYear               0.045365  ...          0.099133 -0.003224   \n",
       "Gear Box                0.050469  ...         -0.318333  0.091408   \n",
       "ownerNo                -0.011729  ...         -0.061968  0.027714   \n",
       "Kms Driven             -0.014253  ...         -0.176839 -0.012476   \n",
       "...                          ...  ...               ...       ...   \n",
       "bt_Minivans            -0.001662  ...          0.016566 -0.001763   \n",
       "bt_Pickup Trucks       -0.000500  ...         -0.022525 -0.000531   \n",
       "bt_SUV                  0.018289  ...         -0.289443 -0.019366   \n",
       "bt_Sedan               -0.019031  ...         -0.065843 -0.020186   \n",
       "bt_Wagon               -0.000354  ...          0.007850 -0.000375   \n",
       "\n",
       "                     bt_Hatchback  bt_Hybrids    bt_MUV  bt_Minivans  \\\n",
       "Year of Manufacture     -0.115684    0.001622  0.037968    -0.003390   \n",
       "modelYear               -0.115684    0.001622  0.037968    -0.003390   \n",
       "Gear Box                -0.399916    0.031837 -0.053287    -0.031146   \n",
       "ownerNo                  0.034330   -0.006334 -0.016469     0.033811   \n",
       "Kms Driven              -0.042661   -0.003724  0.043275    -0.010128   \n",
       "...                           ...         ...       ...          ...   \n",
       "bt_Minivans             -0.046261   -0.000587 -0.011065     1.000000   \n",
       "bt_Pickup Trucks        -0.013931   -0.000177 -0.003332    -0.000831   \n",
       "bt_SUV                  -0.508289   -0.006452 -0.121574    -0.030302   \n",
       "bt_Sedan                -0.529830   -0.006725 -0.126726    -0.031587   \n",
       "bt_Wagon                -0.009850   -0.000125 -0.002356    -0.000587   \n",
       "\n",
       "                     bt_Pickup Trucks    bt_SUV  bt_Sedan  bt_Wagon  \n",
       "Year of Manufacture          0.002295  0.251544 -0.132884  0.007690  \n",
       "modelYear                    0.002295  0.251544 -0.132884  0.007690  \n",
       "Gear Box                    -0.007779  0.351342  0.121573 -0.005500  \n",
       "ownerNo                     -0.008958 -0.088483  0.048522 -0.006334  \n",
       "Kms Driven                   0.008085 -0.032940  0.063097 -0.002970  \n",
       "...                               ...       ...       ...       ...  \n",
       "bt_Minivans                 -0.000831 -0.030302 -0.031587 -0.000587  \n",
       "bt_Pickup Trucks             1.000000 -0.009125 -0.009512 -0.000177  \n",
       "bt_SUV                      -0.009125  1.000000 -0.347055 -0.006452  \n",
       "bt_Sedan                    -0.009512 -0.347055  1.000000 -0.006725  \n",
       "bt_Wagon                    -0.000177 -0.006452 -0.006725  1.000000  \n",
       "\n",
       "[340 rows x 340 columns]"
      ]
     },
     "execution_count": 167,
     "metadata": {},
     "output_type": "execute_result"
    }
   ],
   "source": [
    "correlation_matrix"
   ]
  },
  {
   "cell_type": "code",
   "execution_count": null,
   "metadata": {},
   "outputs": [],
   "source": []
  },
  {
   "cell_type": "markdown",
   "metadata": {},
   "source": [
    "****\n",
    "\n",
    "# ✂️ Division into training and test sets"
   ]
  },
  {
   "cell_type": "code",
   "execution_count": 168,
   "metadata": {
    "execution": {
     "iopub.execute_input": "2023-05-07T14:28:03.754735Z",
     "iopub.status.busy": "2023-05-07T14:28:03.754267Z",
     "iopub.status.idle": "2023-05-07T14:28:03.780281Z",
     "shell.execute_reply": "2023-05-07T14:28:03.778970Z",
     "shell.execute_reply.started": "2023-05-07T14:28:03.754693Z"
    }
   },
   "outputs": [
    {
     "data": {
      "text/html": [
       "<div>\n",
       "<style scoped>\n",
       "    .dataframe tbody tr th:only-of-type {\n",
       "        vertical-align: middle;\n",
       "    }\n",
       "\n",
       "    .dataframe tbody tr th {\n",
       "        vertical-align: top;\n",
       "    }\n",
       "\n",
       "    .dataframe thead th {\n",
       "        text-align: right;\n",
       "    }\n",
       "</style>\n",
       "<table border=\"1\" class=\"dataframe\">\n",
       "  <thead>\n",
       "    <tr style=\"text-align: right;\">\n",
       "      <th></th>\n",
       "      <th>Year of Manufacture</th>\n",
       "      <th>modelYear</th>\n",
       "      <th>Gear Box</th>\n",
       "      <th>ownerNo</th>\n",
       "      <th>Kms Driven</th>\n",
       "      <th>Mileage</th>\n",
       "      <th>oem_BMW</th>\n",
       "      <th>oem_Chevrolet</th>\n",
       "      <th>oem_Citroen</th>\n",
       "      <th>oem_Datsun</th>\n",
       "      <th>...</th>\n",
       "      <th>Fuel Type_Petrol</th>\n",
       "      <th>bt_Coupe</th>\n",
       "      <th>bt_Hatchback</th>\n",
       "      <th>bt_Hybrids</th>\n",
       "      <th>bt_MUV</th>\n",
       "      <th>bt_Minivans</th>\n",
       "      <th>bt_Pickup Trucks</th>\n",
       "      <th>bt_SUV</th>\n",
       "      <th>bt_Sedan</th>\n",
       "      <th>bt_Wagon</th>\n",
       "    </tr>\n",
       "  </thead>\n",
       "  <tbody>\n",
       "    <tr>\n",
       "      <th>3152</th>\n",
       "      <td>0.666667</td>\n",
       "      <td>0.666667</td>\n",
       "      <td>0.000000</td>\n",
       "      <td>0.2</td>\n",
       "      <td>0.008891</td>\n",
       "      <td>0.090581</td>\n",
       "      <td>0</td>\n",
       "      <td>0</td>\n",
       "      <td>0</td>\n",
       "      <td>0</td>\n",
       "      <td>...</td>\n",
       "      <td>1</td>\n",
       "      <td>0</td>\n",
       "      <td>0</td>\n",
       "      <td>0</td>\n",
       "      <td>0</td>\n",
       "      <td>0</td>\n",
       "      <td>0</td>\n",
       "      <td>0</td>\n",
       "      <td>1</td>\n",
       "      <td>0</td>\n",
       "    </tr>\n",
       "    <tr>\n",
       "      <th>2443</th>\n",
       "      <td>0.714286</td>\n",
       "      <td>0.714286</td>\n",
       "      <td>0.333333</td>\n",
       "      <td>0.4</td>\n",
       "      <td>0.008339</td>\n",
       "      <td>0.061766</td>\n",
       "      <td>0</td>\n",
       "      <td>0</td>\n",
       "      <td>0</td>\n",
       "      <td>0</td>\n",
       "      <td>...</td>\n",
       "      <td>1</td>\n",
       "      <td>0</td>\n",
       "      <td>0</td>\n",
       "      <td>0</td>\n",
       "      <td>0</td>\n",
       "      <td>0</td>\n",
       "      <td>0</td>\n",
       "      <td>1</td>\n",
       "      <td>0</td>\n",
       "      <td>0</td>\n",
       "    </tr>\n",
       "    <tr>\n",
       "      <th>1645</th>\n",
       "      <td>0.666667</td>\n",
       "      <td>0.666667</td>\n",
       "      <td>0.000000</td>\n",
       "      <td>0.4</td>\n",
       "      <td>0.021000</td>\n",
       "      <td>0.090581</td>\n",
       "      <td>0</td>\n",
       "      <td>0</td>\n",
       "      <td>0</td>\n",
       "      <td>0</td>\n",
       "      <td>...</td>\n",
       "      <td>1</td>\n",
       "      <td>0</td>\n",
       "      <td>0</td>\n",
       "      <td>0</td>\n",
       "      <td>0</td>\n",
       "      <td>0</td>\n",
       "      <td>0</td>\n",
       "      <td>0</td>\n",
       "      <td>1</td>\n",
       "      <td>0</td>\n",
       "    </tr>\n",
       "    <tr>\n",
       "      <th>3755</th>\n",
       "      <td>0.714286</td>\n",
       "      <td>0.714286</td>\n",
       "      <td>0.166667</td>\n",
       "      <td>0.2</td>\n",
       "      <td>0.007827</td>\n",
       "      <td>0.070870</td>\n",
       "      <td>0</td>\n",
       "      <td>0</td>\n",
       "      <td>0</td>\n",
       "      <td>0</td>\n",
       "      <td>...</td>\n",
       "      <td>1</td>\n",
       "      <td>0</td>\n",
       "      <td>1</td>\n",
       "      <td>0</td>\n",
       "      <td>0</td>\n",
       "      <td>0</td>\n",
       "      <td>0</td>\n",
       "      <td>0</td>\n",
       "      <td>0</td>\n",
       "      <td>0</td>\n",
       "    </tr>\n",
       "    <tr>\n",
       "      <th>4189</th>\n",
       "      <td>0.666667</td>\n",
       "      <td>0.666667</td>\n",
       "      <td>0.166667</td>\n",
       "      <td>0.2</td>\n",
       "      <td>0.009703</td>\n",
       "      <td>0.082155</td>\n",
       "      <td>0</td>\n",
       "      <td>0</td>\n",
       "      <td>0</td>\n",
       "      <td>0</td>\n",
       "      <td>...</td>\n",
       "      <td>1</td>\n",
       "      <td>0</td>\n",
       "      <td>0</td>\n",
       "      <td>0</td>\n",
       "      <td>0</td>\n",
       "      <td>0</td>\n",
       "      <td>0</td>\n",
       "      <td>0</td>\n",
       "      <td>1</td>\n",
       "      <td>0</td>\n",
       "    </tr>\n",
       "    <tr>\n",
       "      <th>...</th>\n",
       "      <td>...</td>\n",
       "      <td>...</td>\n",
       "      <td>...</td>\n",
       "      <td>...</td>\n",
       "      <td>...</td>\n",
       "      <td>...</td>\n",
       "      <td>...</td>\n",
       "      <td>...</td>\n",
       "      <td>...</td>\n",
       "      <td>...</td>\n",
       "      <td>...</td>\n",
       "      <td>...</td>\n",
       "      <td>...</td>\n",
       "      <td>...</td>\n",
       "      <td>...</td>\n",
       "      <td>...</td>\n",
       "      <td>...</td>\n",
       "      <td>...</td>\n",
       "      <td>...</td>\n",
       "      <td>...</td>\n",
       "      <td>...</td>\n",
       "    </tr>\n",
       "    <tr>\n",
       "      <th>5472</th>\n",
       "      <td>0.523810</td>\n",
       "      <td>0.523810</td>\n",
       "      <td>0.333333</td>\n",
       "      <td>0.4</td>\n",
       "      <td>0.010891</td>\n",
       "      <td>0.114655</td>\n",
       "      <td>0</td>\n",
       "      <td>0</td>\n",
       "      <td>0</td>\n",
       "      <td>0</td>\n",
       "      <td>...</td>\n",
       "      <td>0</td>\n",
       "      <td>0</td>\n",
       "      <td>0</td>\n",
       "      <td>0</td>\n",
       "      <td>0</td>\n",
       "      <td>0</td>\n",
       "      <td>0</td>\n",
       "      <td>0</td>\n",
       "      <td>1</td>\n",
       "      <td>0</td>\n",
       "    </tr>\n",
       "    <tr>\n",
       "      <th>5649</th>\n",
       "      <td>0.095238</td>\n",
       "      <td>0.095238</td>\n",
       "      <td>0.166667</td>\n",
       "      <td>0.6</td>\n",
       "      <td>0.012709</td>\n",
       "      <td>0.043033</td>\n",
       "      <td>0</td>\n",
       "      <td>0</td>\n",
       "      <td>0</td>\n",
       "      <td>0</td>\n",
       "      <td>...</td>\n",
       "      <td>1</td>\n",
       "      <td>0</td>\n",
       "      <td>0</td>\n",
       "      <td>0</td>\n",
       "      <td>1</td>\n",
       "      <td>0</td>\n",
       "      <td>0</td>\n",
       "      <td>0</td>\n",
       "      <td>0</td>\n",
       "      <td>0</td>\n",
       "    </tr>\n",
       "    <tr>\n",
       "      <th>900</th>\n",
       "      <td>0.571429</td>\n",
       "      <td>0.571429</td>\n",
       "      <td>0.166667</td>\n",
       "      <td>0.6</td>\n",
       "      <td>0.015525</td>\n",
       "      <td>0.105477</td>\n",
       "      <td>0</td>\n",
       "      <td>0</td>\n",
       "      <td>0</td>\n",
       "      <td>0</td>\n",
       "      <td>...</td>\n",
       "      <td>1</td>\n",
       "      <td>0</td>\n",
       "      <td>1</td>\n",
       "      <td>0</td>\n",
       "      <td>0</td>\n",
       "      <td>0</td>\n",
       "      <td>0</td>\n",
       "      <td>0</td>\n",
       "      <td>0</td>\n",
       "      <td>0</td>\n",
       "    </tr>\n",
       "    <tr>\n",
       "      <th>7947</th>\n",
       "      <td>0.380952</td>\n",
       "      <td>0.380952</td>\n",
       "      <td>0.166667</td>\n",
       "      <td>0.2</td>\n",
       "      <td>0.012229</td>\n",
       "      <td>0.037391</td>\n",
       "      <td>0</td>\n",
       "      <td>0</td>\n",
       "      <td>0</td>\n",
       "      <td>0</td>\n",
       "      <td>...</td>\n",
       "      <td>0</td>\n",
       "      <td>0</td>\n",
       "      <td>0</td>\n",
       "      <td>0</td>\n",
       "      <td>0</td>\n",
       "      <td>0</td>\n",
       "      <td>0</td>\n",
       "      <td>1</td>\n",
       "      <td>0</td>\n",
       "      <td>0</td>\n",
       "    </tr>\n",
       "    <tr>\n",
       "      <th>7593</th>\n",
       "      <td>0.761905</td>\n",
       "      <td>0.761905</td>\n",
       "      <td>0.166667</td>\n",
       "      <td>0.4</td>\n",
       "      <td>0.008063</td>\n",
       "      <td>0.105477</td>\n",
       "      <td>0</td>\n",
       "      <td>0</td>\n",
       "      <td>0</td>\n",
       "      <td>0</td>\n",
       "      <td>...</td>\n",
       "      <td>1</td>\n",
       "      <td>0</td>\n",
       "      <td>1</td>\n",
       "      <td>0</td>\n",
       "      <td>0</td>\n",
       "      <td>0</td>\n",
       "      <td>0</td>\n",
       "      <td>0</td>\n",
       "      <td>0</td>\n",
       "      <td>0</td>\n",
       "    </tr>\n",
       "  </tbody>\n",
       "</table>\n",
       "<p>6399 rows × 339 columns</p>\n",
       "</div>"
      ],
      "text/plain": [
       "      Year of Manufacture  modelYear  Gear Box  ownerNo  Kms Driven   Mileage  \\\n",
       "3152             0.666667   0.666667  0.000000      0.2    0.008891  0.090581   \n",
       "2443             0.714286   0.714286  0.333333      0.4    0.008339  0.061766   \n",
       "1645             0.666667   0.666667  0.000000      0.4    0.021000  0.090581   \n",
       "3755             0.714286   0.714286  0.166667      0.2    0.007827  0.070870   \n",
       "4189             0.666667   0.666667  0.166667      0.2    0.009703  0.082155   \n",
       "...                   ...        ...       ...      ...         ...       ...   \n",
       "5472             0.523810   0.523810  0.333333      0.4    0.010891  0.114655   \n",
       "5649             0.095238   0.095238  0.166667      0.6    0.012709  0.043033   \n",
       "900              0.571429   0.571429  0.166667      0.6    0.015525  0.105477   \n",
       "7947             0.380952   0.380952  0.166667      0.2    0.012229  0.037391   \n",
       "7593             0.761905   0.761905  0.166667      0.4    0.008063  0.105477   \n",
       "\n",
       "      oem_BMW  oem_Chevrolet  oem_Citroen  oem_Datsun  ...  Fuel Type_Petrol  \\\n",
       "3152        0              0            0           0  ...                 1   \n",
       "2443        0              0            0           0  ...                 1   \n",
       "1645        0              0            0           0  ...                 1   \n",
       "3755        0              0            0           0  ...                 1   \n",
       "4189        0              0            0           0  ...                 1   \n",
       "...       ...            ...          ...         ...  ...               ...   \n",
       "5472        0              0            0           0  ...                 0   \n",
       "5649        0              0            0           0  ...                 1   \n",
       "900         0              0            0           0  ...                 1   \n",
       "7947        0              0            0           0  ...                 0   \n",
       "7593        0              0            0           0  ...                 1   \n",
       "\n",
       "      bt_Coupe  bt_Hatchback  bt_Hybrids  bt_MUV  bt_Minivans  \\\n",
       "3152         0             0           0       0            0   \n",
       "2443         0             0           0       0            0   \n",
       "1645         0             0           0       0            0   \n",
       "3755         0             1           0       0            0   \n",
       "4189         0             0           0       0            0   \n",
       "...        ...           ...         ...     ...          ...   \n",
       "5472         0             0           0       0            0   \n",
       "5649         0             0           0       1            0   \n",
       "900          0             1           0       0            0   \n",
       "7947         0             0           0       0            0   \n",
       "7593         0             1           0       0            0   \n",
       "\n",
       "      bt_Pickup Trucks  bt_SUV  bt_Sedan  bt_Wagon  \n",
       "3152                 0       0         1         0  \n",
       "2443                 0       1         0         0  \n",
       "1645                 0       0         1         0  \n",
       "3755                 0       0         0         0  \n",
       "4189                 0       0         1         0  \n",
       "...                ...     ...       ...       ...  \n",
       "5472                 0       0         1         0  \n",
       "5649                 0       0         0         0  \n",
       "900                  0       0         0         0  \n",
       "7947                 0       1         0         0  \n",
       "7593                 0       0         0         0  \n",
       "\n",
       "[6399 rows x 339 columns]"
      ]
     },
     "execution_count": 168,
     "metadata": {},
     "output_type": "execute_result"
    }
   ],
   "source": [
    "df_clean = encoded_data.copy()\n",
    "\n",
    "X = df_clean.drop(columns=['price'])\n",
    "y = df_clean['price']\n",
    "\n",
    "X_train, X_test, y_train, y_test = train_test_split(X, y, test_size=0.20, random_state=42)\n",
    "\n",
    "X_train"
   ]
  },
  {
   "cell_type": "code",
   "execution_count": 169,
   "metadata": {},
   "outputs": [
    {
     "data": {
      "text/html": [
       "<div>\n",
       "<style scoped>\n",
       "    .dataframe tbody tr th:only-of-type {\n",
       "        vertical-align: middle;\n",
       "    }\n",
       "\n",
       "    .dataframe tbody tr th {\n",
       "        vertical-align: top;\n",
       "    }\n",
       "\n",
       "    .dataframe thead th {\n",
       "        text-align: right;\n",
       "    }\n",
       "</style>\n",
       "<table border=\"1\" class=\"dataframe\">\n",
       "  <thead>\n",
       "    <tr style=\"text-align: right;\">\n",
       "      <th></th>\n",
       "      <th>Year of Manufacture</th>\n",
       "      <th>modelYear</th>\n",
       "      <th>Gear Box</th>\n",
       "      <th>ownerNo</th>\n",
       "      <th>Kms Driven</th>\n",
       "      <th>Mileage</th>\n",
       "      <th>oem_BMW</th>\n",
       "      <th>oem_Chevrolet</th>\n",
       "      <th>oem_Citroen</th>\n",
       "      <th>oem_Datsun</th>\n",
       "      <th>...</th>\n",
       "      <th>Fuel Type_Petrol</th>\n",
       "      <th>bt_Coupe</th>\n",
       "      <th>bt_Hatchback</th>\n",
       "      <th>bt_Hybrids</th>\n",
       "      <th>bt_MUV</th>\n",
       "      <th>bt_Minivans</th>\n",
       "      <th>bt_Pickup Trucks</th>\n",
       "      <th>bt_SUV</th>\n",
       "      <th>bt_Sedan</th>\n",
       "      <th>bt_Wagon</th>\n",
       "    </tr>\n",
       "  </thead>\n",
       "  <tbody>\n",
       "    <tr>\n",
       "      <th>4216</th>\n",
       "      <td>0.952381</td>\n",
       "      <td>0.952381</td>\n",
       "      <td>0.333333</td>\n",
       "      <td>0.2</td>\n",
       "      <td>0.001982</td>\n",
       "      <td>0.061089</td>\n",
       "      <td>0</td>\n",
       "      <td>0</td>\n",
       "      <td>0</td>\n",
       "      <td>0</td>\n",
       "      <td>...</td>\n",
       "      <td>1</td>\n",
       "      <td>0</td>\n",
       "      <td>0</td>\n",
       "      <td>0</td>\n",
       "      <td>0</td>\n",
       "      <td>0</td>\n",
       "      <td>0</td>\n",
       "      <td>1</td>\n",
       "      <td>0</td>\n",
       "      <td>0</td>\n",
       "    </tr>\n",
       "    <tr>\n",
       "      <th>2694</th>\n",
       "      <td>0.809524</td>\n",
       "      <td>0.809524</td>\n",
       "      <td>0.166667</td>\n",
       "      <td>0.2</td>\n",
       "      <td>0.007796</td>\n",
       "      <td>0.088926</td>\n",
       "      <td>0</td>\n",
       "      <td>0</td>\n",
       "      <td>0</td>\n",
       "      <td>0</td>\n",
       "      <td>...</td>\n",
       "      <td>1</td>\n",
       "      <td>0</td>\n",
       "      <td>1</td>\n",
       "      <td>0</td>\n",
       "      <td>0</td>\n",
       "      <td>0</td>\n",
       "      <td>0</td>\n",
       "      <td>0</td>\n",
       "      <td>0</td>\n",
       "      <td>0</td>\n",
       "    </tr>\n",
       "    <tr>\n",
       "      <th>3878</th>\n",
       "      <td>0.476190</td>\n",
       "      <td>0.476190</td>\n",
       "      <td>0.166667</td>\n",
       "      <td>0.2</td>\n",
       "      <td>0.007254</td>\n",
       "      <td>0.049804</td>\n",
       "      <td>0</td>\n",
       "      <td>0</td>\n",
       "      <td>0</td>\n",
       "      <td>0</td>\n",
       "      <td>...</td>\n",
       "      <td>1</td>\n",
       "      <td>0</td>\n",
       "      <td>0</td>\n",
       "      <td>0</td>\n",
       "      <td>0</td>\n",
       "      <td>0</td>\n",
       "      <td>0</td>\n",
       "      <td>0</td>\n",
       "      <td>1</td>\n",
       "      <td>0</td>\n",
       "    </tr>\n",
       "    <tr>\n",
       "      <th>6879</th>\n",
       "      <td>0.952381</td>\n",
       "      <td>0.952381</td>\n",
       "      <td>0.166667</td>\n",
       "      <td>0.2</td>\n",
       "      <td>0.003618</td>\n",
       "      <td>0.115107</td>\n",
       "      <td>0</td>\n",
       "      <td>0</td>\n",
       "      <td>0</td>\n",
       "      <td>0</td>\n",
       "      <td>...</td>\n",
       "      <td>1</td>\n",
       "      <td>0</td>\n",
       "      <td>1</td>\n",
       "      <td>0</td>\n",
       "      <td>0</td>\n",
       "      <td>0</td>\n",
       "      <td>0</td>\n",
       "      <td>0</td>\n",
       "      <td>0</td>\n",
       "      <td>0</td>\n",
       "    </tr>\n",
       "    <tr>\n",
       "      <th>7908</th>\n",
       "      <td>0.857143</td>\n",
       "      <td>0.857143</td>\n",
       "      <td>0.500000</td>\n",
       "      <td>0.4</td>\n",
       "      <td>0.007254</td>\n",
       "      <td>0.070870</td>\n",
       "      <td>0</td>\n",
       "      <td>0</td>\n",
       "      <td>0</td>\n",
       "      <td>0</td>\n",
       "      <td>...</td>\n",
       "      <td>1</td>\n",
       "      <td>0</td>\n",
       "      <td>0</td>\n",
       "      <td>0</td>\n",
       "      <td>0</td>\n",
       "      <td>0</td>\n",
       "      <td>0</td>\n",
       "      <td>1</td>\n",
       "      <td>0</td>\n",
       "      <td>0</td>\n",
       "    </tr>\n",
       "    <tr>\n",
       "      <th>...</th>\n",
       "      <td>...</td>\n",
       "      <td>...</td>\n",
       "      <td>...</td>\n",
       "      <td>...</td>\n",
       "      <td>...</td>\n",
       "      <td>...</td>\n",
       "      <td>...</td>\n",
       "      <td>...</td>\n",
       "      <td>...</td>\n",
       "      <td>...</td>\n",
       "      <td>...</td>\n",
       "      <td>...</td>\n",
       "      <td>...</td>\n",
       "      <td>...</td>\n",
       "      <td>...</td>\n",
       "      <td>...</td>\n",
       "      <td>...</td>\n",
       "      <td>...</td>\n",
       "      <td>...</td>\n",
       "      <td>...</td>\n",
       "      <td>...</td>\n",
       "    </tr>\n",
       "    <tr>\n",
       "      <th>3039</th>\n",
       "      <td>0.619048</td>\n",
       "      <td>0.619048</td>\n",
       "      <td>0.166667</td>\n",
       "      <td>0.2</td>\n",
       "      <td>0.011436</td>\n",
       "      <td>0.073127</td>\n",
       "      <td>0</td>\n",
       "      <td>0</td>\n",
       "      <td>0</td>\n",
       "      <td>0</td>\n",
       "      <td>...</td>\n",
       "      <td>1</td>\n",
       "      <td>0</td>\n",
       "      <td>0</td>\n",
       "      <td>0</td>\n",
       "      <td>0</td>\n",
       "      <td>0</td>\n",
       "      <td>0</td>\n",
       "      <td>0</td>\n",
       "      <td>1</td>\n",
       "      <td>0</td>\n",
       "    </tr>\n",
       "    <tr>\n",
       "      <th>1164</th>\n",
       "      <td>0.714286</td>\n",
       "      <td>0.714286</td>\n",
       "      <td>0.166667</td>\n",
       "      <td>0.2</td>\n",
       "      <td>0.007461</td>\n",
       "      <td>0.100211</td>\n",
       "      <td>0</td>\n",
       "      <td>0</td>\n",
       "      <td>0</td>\n",
       "      <td>0</td>\n",
       "      <td>...</td>\n",
       "      <td>1</td>\n",
       "      <td>0</td>\n",
       "      <td>1</td>\n",
       "      <td>0</td>\n",
       "      <td>0</td>\n",
       "      <td>0</td>\n",
       "      <td>0</td>\n",
       "      <td>0</td>\n",
       "      <td>0</td>\n",
       "      <td>0</td>\n",
       "    </tr>\n",
       "    <tr>\n",
       "      <th>7072</th>\n",
       "      <td>0.571429</td>\n",
       "      <td>0.571429</td>\n",
       "      <td>0.166667</td>\n",
       "      <td>0.4</td>\n",
       "      <td>0.013076</td>\n",
       "      <td>0.101038</td>\n",
       "      <td>0</td>\n",
       "      <td>0</td>\n",
       "      <td>0</td>\n",
       "      <td>0</td>\n",
       "      <td>...</td>\n",
       "      <td>1</td>\n",
       "      <td>0</td>\n",
       "      <td>1</td>\n",
       "      <td>0</td>\n",
       "      <td>0</td>\n",
       "      <td>0</td>\n",
       "      <td>0</td>\n",
       "      <td>0</td>\n",
       "      <td>0</td>\n",
       "      <td>0</td>\n",
       "    </tr>\n",
       "    <tr>\n",
       "      <th>7049</th>\n",
       "      <td>0.809524</td>\n",
       "      <td>0.809524</td>\n",
       "      <td>0.166667</td>\n",
       "      <td>0.4</td>\n",
       "      <td>0.001930</td>\n",
       "      <td>0.126918</td>\n",
       "      <td>0</td>\n",
       "      <td>0</td>\n",
       "      <td>0</td>\n",
       "      <td>0</td>\n",
       "      <td>...</td>\n",
       "      <td>1</td>\n",
       "      <td>0</td>\n",
       "      <td>1</td>\n",
       "      <td>0</td>\n",
       "      <td>0</td>\n",
       "      <td>0</td>\n",
       "      <td>0</td>\n",
       "      <td>0</td>\n",
       "      <td>0</td>\n",
       "      <td>0</td>\n",
       "    </tr>\n",
       "    <tr>\n",
       "      <th>1529</th>\n",
       "      <td>0.476190</td>\n",
       "      <td>0.476190</td>\n",
       "      <td>0.333333</td>\n",
       "      <td>0.2</td>\n",
       "      <td>0.007357</td>\n",
       "      <td>0.116311</td>\n",
       "      <td>0</td>\n",
       "      <td>0</td>\n",
       "      <td>0</td>\n",
       "      <td>0</td>\n",
       "      <td>...</td>\n",
       "      <td>0</td>\n",
       "      <td>0</td>\n",
       "      <td>1</td>\n",
       "      <td>0</td>\n",
       "      <td>0</td>\n",
       "      <td>0</td>\n",
       "      <td>0</td>\n",
       "      <td>0</td>\n",
       "      <td>0</td>\n",
       "      <td>0</td>\n",
       "    </tr>\n",
       "  </tbody>\n",
       "</table>\n",
       "<p>1600 rows × 339 columns</p>\n",
       "</div>"
      ],
      "text/plain": [
       "      Year of Manufacture  modelYear  Gear Box  ownerNo  Kms Driven   Mileage  \\\n",
       "4216             0.952381   0.952381  0.333333      0.2    0.001982  0.061089   \n",
       "2694             0.809524   0.809524  0.166667      0.2    0.007796  0.088926   \n",
       "3878             0.476190   0.476190  0.166667      0.2    0.007254  0.049804   \n",
       "6879             0.952381   0.952381  0.166667      0.2    0.003618  0.115107   \n",
       "7908             0.857143   0.857143  0.500000      0.4    0.007254  0.070870   \n",
       "...                   ...        ...       ...      ...         ...       ...   \n",
       "3039             0.619048   0.619048  0.166667      0.2    0.011436  0.073127   \n",
       "1164             0.714286   0.714286  0.166667      0.2    0.007461  0.100211   \n",
       "7072             0.571429   0.571429  0.166667      0.4    0.013076  0.101038   \n",
       "7049             0.809524   0.809524  0.166667      0.4    0.001930  0.126918   \n",
       "1529             0.476190   0.476190  0.333333      0.2    0.007357  0.116311   \n",
       "\n",
       "      oem_BMW  oem_Chevrolet  oem_Citroen  oem_Datsun  ...  Fuel Type_Petrol  \\\n",
       "4216        0              0            0           0  ...                 1   \n",
       "2694        0              0            0           0  ...                 1   \n",
       "3878        0              0            0           0  ...                 1   \n",
       "6879        0              0            0           0  ...                 1   \n",
       "7908        0              0            0           0  ...                 1   \n",
       "...       ...            ...          ...         ...  ...               ...   \n",
       "3039        0              0            0           0  ...                 1   \n",
       "1164        0              0            0           0  ...                 1   \n",
       "7072        0              0            0           0  ...                 1   \n",
       "7049        0              0            0           0  ...                 1   \n",
       "1529        0              0            0           0  ...                 0   \n",
       "\n",
       "      bt_Coupe  bt_Hatchback  bt_Hybrids  bt_MUV  bt_Minivans  \\\n",
       "4216         0             0           0       0            0   \n",
       "2694         0             1           0       0            0   \n",
       "3878         0             0           0       0            0   \n",
       "6879         0             1           0       0            0   \n",
       "7908         0             0           0       0            0   \n",
       "...        ...           ...         ...     ...          ...   \n",
       "3039         0             0           0       0            0   \n",
       "1164         0             1           0       0            0   \n",
       "7072         0             1           0       0            0   \n",
       "7049         0             1           0       0            0   \n",
       "1529         0             1           0       0            0   \n",
       "\n",
       "      bt_Pickup Trucks  bt_SUV  bt_Sedan  bt_Wagon  \n",
       "4216                 0       1         0         0  \n",
       "2694                 0       0         0         0  \n",
       "3878                 0       0         1         0  \n",
       "6879                 0       0         0         0  \n",
       "7908                 0       1         0         0  \n",
       "...                ...     ...       ...       ...  \n",
       "3039                 0       0         1         0  \n",
       "1164                 0       0         0         0  \n",
       "7072                 0       0         0         0  \n",
       "7049                 0       0         0         0  \n",
       "1529                 0       0         0         0  \n",
       "\n",
       "[1600 rows x 339 columns]"
      ]
     },
     "execution_count": 169,
     "metadata": {},
     "output_type": "execute_result"
    }
   ],
   "source": [
    "X_test"
   ]
  },
  {
   "cell_type": "markdown",
   "metadata": {},
   "source": [
    "****\n",
    "\n",
    "# 🤖 Modeling"
   ]
  },
  {
   "cell_type": "markdown",
   "metadata": {},
   "source": [
    "## 🟠 Linear Regression"
   ]
  },
  {
   "cell_type": "markdown",
   "metadata": {},
   "source": [
    "#### We train the model"
   ]
  },
  {
   "cell_type": "code",
   "execution_count": 170,
   "metadata": {
    "execution": {
     "iopub.execute_input": "2023-05-07T14:28:13.196996Z",
     "iopub.status.busy": "2023-05-07T14:28:13.196561Z",
     "iopub.status.idle": "2023-05-07T14:28:13.202493Z",
     "shell.execute_reply": "2023-05-07T14:28:13.201294Z",
     "shell.execute_reply.started": "2023-05-07T14:28:13.196930Z"
    }
   },
   "outputs": [],
   "source": [
    "lr_model = LinearRegression()"
   ]
  },
  {
   "cell_type": "code",
   "execution_count": 171,
   "metadata": {
    "execution": {
     "iopub.execute_input": "2023-05-07T14:28:28.182257Z",
     "iopub.status.busy": "2023-05-07T14:28:28.181822Z",
     "iopub.status.idle": "2023-05-07T14:28:28.191806Z",
     "shell.execute_reply": "2023-05-07T14:28:28.190447Z",
     "shell.execute_reply.started": "2023-05-07T14:28:28.182221Z"
    }
   },
   "outputs": [],
   "source": [
    " kf = KFold(n_splits=5, shuffle=True, random_state=42)"
   ]
  },
  {
   "cell_type": "code",
   "execution_count": 172,
   "metadata": {
    "execution": {
     "iopub.status.busy": "2023-05-07T14:24:15.743248Z",
     "iopub.status.idle": "2023-05-07T14:24:15.743807Z",
     "shell.execute_reply": "2023-05-07T14:24:15.743536Z",
     "shell.execute_reply.started": "2023-05-07T14:24:15.743502Z"
    }
   },
   "outputs": [],
   "source": [
    " lr_cv_scores = cross_val_score(lr_model, X_train, y_train, cv=5, scoring='neg_mean_squared_error')"
   ]
  },
  {
   "cell_type": "code",
   "execution_count": 173,
   "metadata": {},
   "outputs": [
    {
     "name": "stdout",
     "output_type": "stream",
     "text": [
      "Linear Regression CV Mean Squared Error: 1351745650598691328.0000\n"
     ]
    }
   ],
   "source": [
    "print(f\"Linear Regression CV Mean Squared Error: {-lr_cv_scores.mean():.4f}\")"
   ]
  },
  {
   "cell_type": "code",
   "execution_count": 174,
   "metadata": {},
   "outputs": [
    {
     "data": {
      "text/plain": [
       "LinearRegression()"
      ]
     },
     "execution_count": 174,
     "metadata": {},
     "output_type": "execute_result"
    }
   ],
   "source": [
    "lr_model.fit(X_train, y_train)"
   ]
  },
  {
   "cell_type": "markdown",
   "metadata": {},
   "source": [
    "#### We evaluate the model with test set:"
   ]
  },
  {
   "cell_type": "code",
   "execution_count": 175,
   "metadata": {},
   "outputs": [],
   "source": [
    "lr_test_score = lr_model.score(X_test, y_test)"
   ]
  },
  {
   "cell_type": "markdown",
   "metadata": {},
   "source": [
    "#### We calculate the scores"
   ]
  },
  {
   "cell_type": "code",
   "execution_count": 176,
   "metadata": {},
   "outputs": [
    {
     "name": "stdout",
     "output_type": "stream",
     "text": [
      "Linear Regression Accuracy (R^2 score): -70721168110491746304.0000\n"
     ]
    }
   ],
   "source": [
    "print(f\"Linear Regression Accuracy (R^2 score): {lr_test_score:.4f}\")"
   ]
  },
  {
   "cell_type": "markdown",
   "metadata": {},
   "source": [
    "## 🟠 K-Nearest Neighbors Regression"
   ]
  },
  {
   "cell_type": "markdown",
   "metadata": {},
   "source": [
    "#### We train the model"
   ]
  },
  {
   "cell_type": "code",
   "execution_count": 177,
   "metadata": {
    "execution": {
     "iopub.execute_input": "2023-05-07T14:28:32.590195Z",
     "iopub.status.busy": "2023-05-07T14:28:32.589515Z",
     "iopub.status.idle": "2023-05-07T14:28:44.861147Z",
     "shell.execute_reply": "2023-05-07T14:28:44.859465Z",
     "shell.execute_reply.started": "2023-05-07T14:28:32.590155Z"
    }
   },
   "outputs": [],
   "source": [
    "knn_model = Pipeline([\n",
    "    ('scaler', StandardScaler()),  \n",
    "    ('knn', KNeighborsRegressor())\n",
    "])"
   ]
  },
  {
   "cell_type": "code",
   "execution_count": 178,
   "metadata": {},
   "outputs": [],
   "source": [
    "knn_cv_scores = cross_val_score(knn_model, X_train, y_train, cv=5, scoring='neg_mean_squared_error')"
   ]
  },
  {
   "cell_type": "code",
   "execution_count": 179,
   "metadata": {},
   "outputs": [
    {
     "name": "stdout",
     "output_type": "stream",
     "text": [
      "KNN CV Mean Squared Error: 0.0029\n"
     ]
    }
   ],
   "source": [
    "print(f\"KNN CV Mean Squared Error: {-knn_cv_scores.mean():.4f}\")"
   ]
  },
  {
   "cell_type": "code",
   "execution_count": 180,
   "metadata": {},
   "outputs": [],
   "source": [
    "knn_param_grid = {\n",
    "    'knn__n_neighbors': [3, 5, 7, 9],\n",
    "    'knn__weights': ['uniform', 'distance'],\n",
    "    'knn__p': [1, 2]  \n",
    "}"
   ]
  },
  {
   "cell_type": "code",
   "execution_count": 181,
   "metadata": {
    "execution": {
     "iopub.execute_input": "2023-05-07T14:28:51.754849Z",
     "iopub.status.busy": "2023-05-07T14:28:51.754397Z",
     "iopub.status.idle": "2023-05-07T14:28:51.764354Z",
     "shell.execute_reply": "2023-05-07T14:28:51.762847Z",
     "shell.execute_reply.started": "2023-05-07T14:28:51.754809Z"
    }
   },
   "outputs": [],
   "source": [
    "knn_grid_search = GridSearchCV(knn_model, knn_param_grid, cv=5, scoring='neg_mean_squared_error')"
   ]
  },
  {
   "cell_type": "code",
   "execution_count": 182,
   "metadata": {
    "execution": {
     "iopub.execute_input": "2023-05-07T14:28:55.215931Z",
     "iopub.status.busy": "2023-05-07T14:28:55.215460Z",
     "iopub.status.idle": "2023-05-07T14:28:55.733355Z",
     "shell.execute_reply": "2023-05-07T14:28:55.732014Z",
     "shell.execute_reply.started": "2023-05-07T14:28:55.215891Z"
    }
   },
   "outputs": [
    {
     "data": {
      "text/plain": [
       "GridSearchCV(cv=5,\n",
       "             estimator=Pipeline(steps=[('scaler', StandardScaler()),\n",
       "                                       ('knn', KNeighborsRegressor())]),\n",
       "             param_grid={'knn__n_neighbors': [3, 5, 7, 9], 'knn__p': [1, 2],\n",
       "                         'knn__weights': ['uniform', 'distance']},\n",
       "             scoring='neg_mean_squared_error')"
      ]
     },
     "execution_count": 182,
     "metadata": {},
     "output_type": "execute_result"
    }
   ],
   "source": [
    "knn_grid_search.fit(X_train, y_train)"
   ]
  },
  {
   "cell_type": "code",
   "execution_count": 183,
   "metadata": {
    "execution": {
     "iopub.execute_input": "2023-05-07T14:28:59.420350Z",
     "iopub.status.busy": "2023-05-07T14:28:59.419857Z",
     "iopub.status.idle": "2023-05-07T14:28:59.647296Z",
     "shell.execute_reply": "2023-05-07T14:28:59.646011Z",
     "shell.execute_reply.started": "2023-05-07T14:28:59.420306Z"
    }
   },
   "outputs": [
    {
     "name": "stdout",
     "output_type": "stream",
     "text": [
      "Best parameters for KNN: {'knn__n_neighbors': 5, 'knn__p': 1, 'knn__weights': 'distance'}\n"
     ]
    }
   ],
   "source": [
    "print(f\"Best parameters for KNN: {knn_grid_search.best_params_}\") "
   ]
  },
  {
   "cell_type": "code",
   "execution_count": 184,
   "metadata": {},
   "outputs": [
    {
     "data": {
      "text/plain": [
       "Pipeline(steps=[('scaler', StandardScaler()),\n",
       "                ('knn', KNeighborsRegressor(p=1, weights='distance'))])"
      ]
     },
     "execution_count": 184,
     "metadata": {},
     "output_type": "execute_result"
    }
   ],
   "source": [
    "knn_best_model = knn_grid_search.best_estimator_\n",
    "knn_grid_search.best_estimator_"
   ]
  },
  {
   "cell_type": "markdown",
   "metadata": {},
   "source": [
    "#### We evaluate the model with test set:"
   ]
  },
  {
   "cell_type": "code",
   "execution_count": 185,
   "metadata": {
    "execution": {
     "iopub.execute_input": "2023-05-07T14:29:05.286622Z",
     "iopub.status.busy": "2023-05-07T14:29:05.286161Z",
     "iopub.status.idle": "2023-05-07T14:29:05.616819Z",
     "shell.execute_reply": "2023-05-07T14:29:05.614251Z",
     "shell.execute_reply.started": "2023-05-07T14:29:05.286585Z"
    }
   },
   "outputs": [
    {
     "data": {
      "text/plain": [
       "Pipeline(steps=[('scaler', StandardScaler()),\n",
       "                ('knn', KNeighborsRegressor(p=1, weights='distance'))])"
      ]
     },
     "execution_count": 185,
     "metadata": {},
     "output_type": "execute_result"
    }
   ],
   "source": [
    "knn_best_model.fit(X_train, y_train)"
   ]
  },
  {
   "cell_type": "code",
   "execution_count": 186,
   "metadata": {},
   "outputs": [],
   "source": [
    "knn_test_score = knn_best_model.score(X_test, y_test)"
   ]
  },
  {
   "cell_type": "markdown",
   "metadata": {},
   "source": [
    "#### We calculate the scores"
   ]
  },
  {
   "cell_type": "code",
   "execution_count": 187,
   "metadata": {
    "execution": {
     "iopub.execute_input": "2023-05-07T14:29:15.375559Z",
     "iopub.status.busy": "2023-05-07T14:29:15.375133Z",
     "iopub.status.idle": "2023-05-07T14:29:15.386661Z",
     "shell.execute_reply": "2023-05-07T14:29:15.385239Z",
     "shell.execute_reply.started": "2023-05-07T14:29:15.375517Z"
    },
    "scrolled": true
   },
   "outputs": [
    {
     "name": "stdout",
     "output_type": "stream",
     "text": [
      "KNN Accuracy (R^2 score): 0.8549\n"
     ]
    }
   ],
   "source": [
    "\n",
    "print(f\"KNN Accuracy (R^2 score): {knn_test_score:.4f}\")"
   ]
  },
  {
   "cell_type": "markdown",
   "metadata": {},
   "source": [
    "## 🟣 Gradient Boosting Regressor"
   ]
  },
  {
   "cell_type": "markdown",
   "metadata": {},
   "source": [
    "#### We train the model"
   ]
  },
  {
   "cell_type": "code",
   "execution_count": 188,
   "metadata": {
    "execution": {
     "iopub.execute_input": "2023-05-07T14:29:17.961215Z",
     "iopub.status.busy": "2023-05-07T14:29:17.960102Z",
     "iopub.status.idle": "2023-05-07T14:29:40.305045Z",
     "shell.execute_reply": "2023-05-07T14:29:40.303779Z",
     "shell.execute_reply.started": "2023-05-07T14:29:17.961168Z"
    }
   },
   "outputs": [],
   "source": [
    "gb_model = GradientBoostingRegressor(random_state=42)"
   ]
  },
  {
   "cell_type": "code",
   "execution_count": 189,
   "metadata": {
    "execution": {
     "iopub.execute_input": "2023-05-07T14:29:58.727619Z",
     "iopub.status.busy": "2023-05-07T14:29:58.726653Z",
     "iopub.status.idle": "2023-05-07T14:29:58.735580Z",
     "shell.execute_reply": "2023-05-07T14:29:58.734324Z",
     "shell.execute_reply.started": "2023-05-07T14:29:58.727567Z"
    }
   },
   "outputs": [],
   "source": [
    "gb_cv_scores = cross_val_score(gb_model, X_train, y_train, cv=5, scoring='neg_mean_squared_error')"
   ]
  },
  {
   "cell_type": "code",
   "execution_count": 190,
   "metadata": {
    "execution": {
     "iopub.execute_input": "2023-05-07T14:30:01.410578Z",
     "iopub.status.busy": "2023-05-07T14:30:01.409703Z",
     "iopub.status.idle": "2023-05-07T14:30:01.971023Z",
     "shell.execute_reply": "2023-05-07T14:30:01.969903Z",
     "shell.execute_reply.started": "2023-05-07T14:30:01.410524Z"
    }
   },
   "outputs": [
    {
     "name": "stdout",
     "output_type": "stream",
     "text": [
      "Gradient Boosting CV Mean Squared Error: 0.0019\n"
     ]
    }
   ],
   "source": [
    "print(f\"Gradient Boosting CV Mean Squared Error: {-gb_cv_scores.mean():.4f}\")"
   ]
  },
  {
   "cell_type": "code",
   "execution_count": 191,
   "metadata": {
    "execution": {
     "iopub.execute_input": "2023-05-07T14:30:05.225886Z",
     "iopub.status.busy": "2023-05-07T14:30:05.225480Z",
     "iopub.status.idle": "2023-05-07T14:30:05.451881Z",
     "shell.execute_reply": "2023-05-07T14:30:05.450994Z",
     "shell.execute_reply.started": "2023-05-07T14:30:05.225850Z"
    }
   },
   "outputs": [],
   "source": [
    "gb_param_grid = {\n",
    "    'n_estimators': [100, 200],\n",
    "    'learning_rate': [0.01, 0.1],\n",
    "    'max_depth': [3, 5, 7]\n",
    "}"
   ]
  },
  {
   "cell_type": "code",
   "execution_count": 192,
   "metadata": {},
   "outputs": [],
   "source": [
    "gb_grid_search = GridSearchCV(GradientBoostingRegressor(random_state=42), gb_param_grid, cv=5, scoring='neg_mean_squared_error')"
   ]
  },
  {
   "cell_type": "code",
   "execution_count": 193,
   "metadata": {},
   "outputs": [
    {
     "data": {
      "text/plain": [
       "GridSearchCV(cv=5, estimator=GradientBoostingRegressor(random_state=42),\n",
       "             param_grid={'learning_rate': [0.01, 0.1], 'max_depth': [3, 5, 7],\n",
       "                         'n_estimators': [100, 200]},\n",
       "             scoring='neg_mean_squared_error')"
      ]
     },
     "execution_count": 193,
     "metadata": {},
     "output_type": "execute_result"
    }
   ],
   "source": [
    "gb_grid_search.fit(X_train, y_train)"
   ]
  },
  {
   "cell_type": "code",
   "execution_count": 194,
   "metadata": {},
   "outputs": [
    {
     "name": "stdout",
     "output_type": "stream",
     "text": [
      "Best parameters for Gradient Boosting: {'learning_rate': 0.1, 'max_depth': 5, 'n_estimators': 200}\n"
     ]
    }
   ],
   "source": [
    "print(f\"Best parameters for Gradient Boosting: {gb_grid_search.best_params_}\")"
   ]
  },
  {
   "cell_type": "code",
   "execution_count": 195,
   "metadata": {
    "execution": {
     "iopub.execute_input": "2023-05-07T14:30:08.000620Z",
     "iopub.status.busy": "2023-05-07T14:30:07.999817Z",
     "iopub.status.idle": "2023-05-07T14:30:08.009911Z",
     "shell.execute_reply": "2023-05-07T14:30:08.008341Z",
     "shell.execute_reply.started": "2023-05-07T14:30:08.000564Z"
    }
   },
   "outputs": [
    {
     "data": {
      "text/plain": [
       "GradientBoostingRegressor(max_depth=5, n_estimators=200, random_state=42)"
      ]
     },
     "execution_count": 195,
     "metadata": {},
     "output_type": "execute_result"
    }
   ],
   "source": [
    "gb_best_model = gb_grid_search.best_estimator_\n",
    "gb_grid_search.best_estimator_"
   ]
  },
  {
   "cell_type": "markdown",
   "metadata": {},
   "source": [
    "#### We evaluate the model with test set:"
   ]
  },
  {
   "cell_type": "code",
   "execution_count": 196,
   "metadata": {
    "execution": {
     "iopub.execute_input": "2023-05-07T14:30:10.480642Z",
     "iopub.status.busy": "2023-05-07T14:30:10.480249Z",
     "iopub.status.idle": "2023-05-07T14:30:10.853377Z",
     "shell.execute_reply": "2023-05-07T14:30:10.852026Z",
     "shell.execute_reply.started": "2023-05-07T14:30:10.480607Z"
    }
   },
   "outputs": [
    {
     "data": {
      "text/plain": [
       "GradientBoostingRegressor(max_depth=5, n_estimators=200, random_state=42)"
      ]
     },
     "execution_count": 196,
     "metadata": {},
     "output_type": "execute_result"
    }
   ],
   "source": [
    "gb_best_model.fit(X_train, y_train)"
   ]
  },
  {
   "cell_type": "code",
   "execution_count": 197,
   "metadata": {
    "execution": {
     "iopub.execute_input": "2023-05-07T14:30:13.620554Z",
     "iopub.status.busy": "2023-05-07T14:30:13.620146Z",
     "iopub.status.idle": "2023-05-07T14:30:13.847552Z",
     "shell.execute_reply": "2023-05-07T14:30:13.846280Z",
     "shell.execute_reply.started": "2023-05-07T14:30:13.620519Z"
    }
   },
   "outputs": [],
   "source": [
    "gb_test_score = gb_best_model.score(X_test, y_test)"
   ]
  },
  {
   "cell_type": "markdown",
   "metadata": {},
   "source": [
    "#### We calculate the scores"
   ]
  },
  {
   "cell_type": "code",
   "execution_count": 198,
   "metadata": {
    "execution": {
     "iopub.execute_input": "2023-05-07T14:30:19.370560Z",
     "iopub.status.busy": "2023-05-07T14:30:19.370148Z",
     "iopub.status.idle": "2023-05-07T14:30:19.381427Z",
     "shell.execute_reply": "2023-05-07T14:30:19.380314Z",
     "shell.execute_reply.started": "2023-05-07T14:30:19.370522Z"
    }
   },
   "outputs": [
    {
     "name": "stdout",
     "output_type": "stream",
     "text": [
      "Gradient Boosting Accuracy (R^2 score): 0.8760\n"
     ]
    }
   ],
   "source": [
    "print(f\"Gradient Boosting Accuracy (R^2 score): {gb_test_score:.4f}\")"
   ]
  },
  {
   "cell_type": "markdown",
   "metadata": {},
   "source": [
    "## 🟢 Random Forest Classifier"
   ]
  },
  {
   "cell_type": "markdown",
   "metadata": {},
   "source": [
    "#### We train the model"
   ]
  },
  {
   "cell_type": "code",
   "execution_count": 199,
   "metadata": {
    "execution": {
     "iopub.execute_input": "2023-05-07T14:30:26.377330Z",
     "iopub.status.busy": "2023-05-07T14:30:26.375870Z",
     "iopub.status.idle": "2023-05-07T14:30:26.385150Z",
     "shell.execute_reply": "2023-05-07T14:30:26.384009Z",
     "shell.execute_reply.started": "2023-05-07T14:30:26.377258Z"
    }
   },
   "outputs": [],
   "source": [
    "rf_model = RandomForestRegressor(n_estimators=100, random_state=42)"
   ]
  },
  {
   "cell_type": "code",
   "execution_count": 200,
   "metadata": {},
   "outputs": [],
   "source": [
    "rf_cv_scores = cross_val_score(rf_model, X_train, y_train, cv=5, scoring='neg_mean_squared_error')"
   ]
  },
  {
   "cell_type": "code",
   "execution_count": 201,
   "metadata": {},
   "outputs": [
    {
     "name": "stdout",
     "output_type": "stream",
     "text": [
      "Random Forest CV Mean Squared Error: 0.0014\n"
     ]
    }
   ],
   "source": [
    "print(f\"Random Forest CV Mean Squared Error: {-rf_cv_scores.mean():.4f}\")"
   ]
  },
  {
   "cell_type": "code",
   "execution_count": 202,
   "metadata": {},
   "outputs": [],
   "source": [
    "rf_param_grid = {\n",
    "    'n_estimators': [100, 200, 300],\n",
    "    'max_depth': [10, 20, 30],\n",
    "    'min_samples_split': [2, 5, 10]\n",
    "}"
   ]
  },
  {
   "cell_type": "code",
   "execution_count": 203,
   "metadata": {},
   "outputs": [],
   "source": [
    "rf_grid_search = GridSearchCV(RandomForestRegressor(random_state=42), rf_param_grid, cv=5, scoring='neg_mean_squared_error')"
   ]
  },
  {
   "cell_type": "code",
   "execution_count": null,
   "metadata": {},
   "outputs": [],
   "source": [
    "rf_grid_search.fit(X_train, y_train)"
   ]
  },
  {
   "cell_type": "code",
   "execution_count": null,
   "metadata": {},
   "outputs": [],
   "source": [
    "print(f\"Best parameters for Random Forest: {rf_grid_search.best_params_}\")"
   ]
  },
  {
   "cell_type": "code",
   "execution_count": null,
   "metadata": {},
   "outputs": [],
   "source": [
    "rf_best_model = rf_grid_search.best_estimator_\n",
    "rf_grid_search.best_estimator_"
   ]
  },
  {
   "cell_type": "markdown",
   "metadata": {},
   "source": [
    "#### We evaluate the model with test set:"
   ]
  },
  {
   "cell_type": "code",
   "execution_count": null,
   "metadata": {
    "execution": {
     "iopub.execute_input": "2023-05-07T14:47:31.710536Z",
     "iopub.status.busy": "2023-05-07T14:47:31.709319Z",
     "iopub.status.idle": "2023-05-07T14:47:31.720635Z",
     "shell.execute_reply": "2023-05-07T14:47:31.719403Z",
     "shell.execute_reply.started": "2023-05-07T14:47:31.710482Z"
    }
   },
   "outputs": [],
   "source": [
    "rf_best_model.fit(X_train, y_train)"
   ]
  },
  {
   "cell_type": "code",
   "execution_count": null,
   "metadata": {},
   "outputs": [],
   "source": [
    "rf_test_score = rf_best_model.score(X_test, y_test)"
   ]
  },
  {
   "cell_type": "markdown",
   "metadata": {},
   "source": [
    "#### We calculate the scores"
   ]
  },
  {
   "cell_type": "code",
   "execution_count": null,
   "metadata": {
    "execution": {
     "iopub.execute_input": "2023-05-07T14:47:34.184571Z",
     "iopub.status.busy": "2023-05-07T14:47:34.184137Z",
     "iopub.status.idle": "2023-05-07T14:47:34.195296Z",
     "shell.execute_reply": "2023-05-07T14:47:34.193899Z",
     "shell.execute_reply.started": "2023-05-07T14:47:34.184537Z"
    }
   },
   "outputs": [],
   "source": [
    "\n",
    "print(f\"Random Forest Accuracy (R^2 score): {rf_test_score:.4f}\")"
   ]
  },
  {
   "cell_type": "markdown",
   "metadata": {},
   "source": [
    "## 🟢 Random Forest Classifier"
   ]
  },
  {
   "cell_type": "markdown",
   "metadata": {},
   "source": [
    "#### We train the model"
   ]
  },
  {
   "cell_type": "code",
   "execution_count": null,
   "metadata": {},
   "outputs": [],
   "source": [
    "dt_model = DecisionTreeRegressor(random_state=42)"
   ]
  },
  {
   "cell_type": "code",
   "execution_count": null,
   "metadata": {},
   "outputs": [],
   "source": [
    "dt_cv_scores = cross_val_score(dt_model, X_train, y_train, cv=5, scoring='neg_mean_squared_error')"
   ]
  },
  {
   "cell_type": "code",
   "execution_count": null,
   "metadata": {},
   "outputs": [],
   "source": [
    "print(f\"Decision Tree CV Mean Squared Error: {-dt_cv_scores.mean():.4f}\")"
   ]
  },
  {
   "cell_type": "code",
   "execution_count": null,
   "metadata": {},
   "outputs": [],
   "source": [
    "dt_param_grid = {\n",
    "    'max_depth': [None, 5, 10, 15],\n",
    "    'min_samples_split': [2, 5, 10],\n",
    "    'min_samples_leaf': [1, 2, 4],\n",
    "    'max_features': ['auto', 'sqrt', 'log2']\n",
    "}"
   ]
  },
  {
   "cell_type": "code",
   "execution_count": null,
   "metadata": {},
   "outputs": [],
   "source": [
    "dt_grid_search = GridSearchCV(dt_model, dt_param_grid, cv=5, scoring='neg_mean_squared_error')"
   ]
  },
  {
   "cell_type": "code",
   "execution_count": null,
   "metadata": {},
   "outputs": [],
   "source": [
    "dt_grid_search.fit(X_train, y_train)"
   ]
  },
  {
   "cell_type": "code",
   "execution_count": null,
   "metadata": {},
   "outputs": [],
   "source": [
    "print(f\"Best parameters for Decision Tree: {dt_grid_search.best_params_}\")"
   ]
  },
  {
   "cell_type": "code",
   "execution_count": null,
   "metadata": {},
   "outputs": [],
   "source": [
    "dt_best_model = dt_grid_search.best_estimator_\n",
    "dt_grid_search.best_estimator_"
   ]
  },
  {
   "cell_type": "code",
   "execution_count": null,
   "metadata": {},
   "outputs": [],
   "source": [
    "dt_best_model.fit(X_train, y_train)"
   ]
  },
  {
   "cell_type": "markdown",
   "metadata": {},
   "source": [
    "#### We evaluate the model with test set:"
   ]
  },
  {
   "cell_type": "code",
   "execution_count": null,
   "metadata": {},
   "outputs": [],
   "source": [
    "dt_test_score = dt_best_model.score(X_test, y_test)"
   ]
  },
  {
   "cell_type": "markdown",
   "metadata": {},
   "source": [
    "#### We calculate the scores"
   ]
  },
  {
   "cell_type": "code",
   "execution_count": null,
   "metadata": {},
   "outputs": [],
   "source": [
    "print(f\"Decision Tree Accuracy (R^2 score): {dt_test_score:.4f}\")"
   ]
  },
  {
   "cell_type": "markdown",
   "metadata": {},
   "source": [
    "# 📏 Model Score Comparisons"
   ]
  },
  {
   "cell_type": "code",
   "execution_count": null,
   "metadata": {},
   "outputs": [],
   "source": [
    "def evaluate_model(model, X_test, y_test):\n",
    "    y_pred = model.predict(X_test)\n",
    "    \n",
    "    mae = mean_absolute_error(y_test, y_pred)\n",
    "    mse = mean_squared_error(y_test, y_pred)\n",
    "    r2 = r2_score(y_test, y_pred)\n",
    "    \n",
    "    return mae, mse, r2    "
   ]
  },
  {
   "cell_type": "code",
   "execution_count": null,
   "metadata": {},
   "outputs": [],
   "source": [
    "models = {\n",
    "    \"Decision Tree\": dt_best_model,\n",
    "    \"Random Forest\": rf_best_model,\n",
    "    \"K-Nearest Neighbors\": knn_best_model,\n",
    "    \"Gradient Boosting\": gb_best_model,\n",
    "    \"Linear Regression\": lr_model,\n",
    "}"
   ]
  },
  {
   "cell_type": "code",
   "execution_count": null,
   "metadata": {},
   "outputs": [],
   "source": [
    "results = {}\n",
    "for model_name, model in models.items():\n",
    "    mae, mse, r2 = evaluate_model(model, X_test, y_test)\n",
    "    results[model_name] = {\n",
    "        'MAE': mae,\n",
    "        'MSE': mse,\n",
    "        'R^2 Score': r2\n",
    "    }\n"
   ]
  },
  {
   "cell_type": "code",
   "execution_count": null,
   "metadata": {},
   "outputs": [],
   "source": [
    "results_df = pd.DataFrame(results).T\n",
    "print(results_df)"
   ]
  },
  {
   "cell_type": "markdown",
   "metadata": {},
   "source": [
    "# Regularization:"
   ]
  },
  {
   "cell_type": "markdown",
   "metadata": {},
   "source": [
    "#### Lasso (L1)  regularization."
   ]
  },
  {
   "cell_type": "code",
   "execution_count": null,
   "metadata": {},
   "outputs": [],
   "source": [
    "lasso_model = Lasso(random_state=42)"
   ]
  },
  {
   "cell_type": "code",
   "execution_count": null,
   "metadata": {},
   "outputs": [],
   "source": [
    "lasso_param_grid = {\n",
    "    'alpha': [0.01, 0.1, 1, 10]\n",
    "}"
   ]
  },
  {
   "cell_type": "code",
   "execution_count": null,
   "metadata": {},
   "outputs": [],
   "source": [
    "lasso_grid_search = GridSearchCV(lasso_model, lasso_param_grid, cv=5, scoring='neg_mean_squared_error')\n",
    "lasso_grid_search.fit(X_train, y_train)"
   ]
  },
  {
   "cell_type": "code",
   "execution_count": null,
   "metadata": {},
   "outputs": [],
   "source": [
    "print(f\"Best parameters for Lasso: {lasso_grid_search.best_params_}\")"
   ]
  },
  {
   "cell_type": "code",
   "execution_count": null,
   "metadata": {},
   "outputs": [],
   "source": [
    "lasso_best_model = lasso_grid_search.best_estimator_"
   ]
  },
  {
   "cell_type": "code",
   "execution_count": null,
   "metadata": {},
   "outputs": [],
   "source": [
    "lasso_best_model.fit(X_train, y_train)"
   ]
  },
  {
   "cell_type": "code",
   "execution_count": null,
   "metadata": {},
   "outputs": [],
   "source": [
    "lasso_test_score = lasso_best_model.score(X_test, y_test)"
   ]
  },
  {
   "cell_type": "code",
   "execution_count": null,
   "metadata": {},
   "outputs": [],
   "source": [
    "print(f\"Lasso Regularization (R^2 score): {lasso_test_score:.4f}\")"
   ]
  },
  {
   "cell_type": "markdown",
   "metadata": {},
   "source": [
    "#### Ridge (L2) regularization."
   ]
  },
  {
   "cell_type": "code",
   "execution_count": null,
   "metadata": {},
   "outputs": [],
   "source": [
    "ridge_model = Ridge(random_state=42)"
   ]
  },
  {
   "cell_type": "code",
   "execution_count": null,
   "metadata": {},
   "outputs": [],
   "source": [
    "ridge_param_grid = {\n",
    "    'alpha': [0.01, 0.1, 1, 10]\n",
    "}"
   ]
  },
  {
   "cell_type": "code",
   "execution_count": null,
   "metadata": {},
   "outputs": [],
   "source": [
    "ridge_grid_search = GridSearchCV(ridge_model, ridge_param_grid, cv=5, scoring='neg_mean_squared_error')\n",
    "ridge_grid_search.fit(X_train, y_train)"
   ]
  },
  {
   "cell_type": "code",
   "execution_count": null,
   "metadata": {},
   "outputs": [],
   "source": [
    "print(f\"Best parameters for Ridge: {ridge_grid_search.best_params_}\")"
   ]
  },
  {
   "cell_type": "code",
   "execution_count": null,
   "metadata": {},
   "outputs": [],
   "source": [
    "ridge_best_model = ridge_grid_search.best_estimator_"
   ]
  },
  {
   "cell_type": "code",
   "execution_count": null,
   "metadata": {},
   "outputs": [],
   "source": [
    "ridge_best_model.fit(X_train, y_train)"
   ]
  },
  {
   "cell_type": "code",
   "execution_count": null,
   "metadata": {},
   "outputs": [],
   "source": [
    "ridge_best_model = ridge_best_model.score(X_test, y_test)"
   ]
  },
  {
   "cell_type": "code",
   "execution_count": null,
   "metadata": {},
   "outputs": [],
   "source": [
    "print(f\"Ridge Regurization (R^2 score): {ridge_best_model:.4f}\")"
   ]
  },
  {
   "cell_type": "markdown",
   "metadata": {},
   "source": [
    "#### Model Comparison"
   ]
  },
  {
   "cell_type": "code",
   "execution_count": null,
   "metadata": {},
   "outputs": [],
   "source": [
    "for model_name, model in {'Lasso': lasso_best_model, 'Ridge': ridge_best_model}.items():\n",
    "    mae, mse, r2 = evaluate_model(model, X_test, y_test)\n",
    "    results[model_name] = {\n",
    "        'MAE': mae,\n",
    "        'MSE': mse,\n",
    "        'R^2 Score': r2\n",
    "    }\n",
    "\n",
    "results_df = pd.DataFrame(results).T\n",
    "print(results_df)\n"
   ]
  },
  {
   "cell_type": "code",
   "execution_count": null,
   "metadata": {},
   "outputs": [],
   "source": [
    "print(\"\\nModel Comparison based on Evaluation Metrics:\")\n",
    "print(results_df)\n",
    "\n",
    "best_model = results_df['R^2 Score'].idxmax()\n",
    "print(f\"\\nBest Performing Model based on R^2 Score: {best_model}\")"
   ]
  },
  {
   "cell_type": "code",
   "execution_count": null,
   "metadata": {},
   "outputs": [],
   "source": [
    "\n"
   ]
  },
  {
   "cell_type": "code",
   "execution_count": null,
   "metadata": {},
   "outputs": [],
   "source": [
    "gbr = GradientBoostingRegressor()\n",
    "gbr.fit(X, y)"
   ]
  },
  {
   "cell_type": "code",
   "execution_count": null,
   "metadata": {},
   "outputs": [],
   "source": [
    "filename = 'Car-Price_prediction_model.pkl'\n",
    "pickle.dump(gbr, open(filename, 'wb'))"
   ]
  }
 ],
 "metadata": {
  "kernelspec": {
   "display_name": "Python 3 (ipykernel)",
   "language": "python",
   "name": "python3"
  },
  "language_info": {
   "codemirror_mode": {
    "name": "ipython",
    "version": 3
   },
   "file_extension": ".py",
   "mimetype": "text/x-python",
   "name": "python",
   "nbconvert_exporter": "python",
   "pygments_lexer": "ipython3",
   "version": "3.9.13"
  }
 },
 "nbformat": 4,
 "nbformat_minor": 4
}
